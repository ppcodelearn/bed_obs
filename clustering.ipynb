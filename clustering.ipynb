{
 "cells": [
  {
   "cell_type": "code",
   "execution_count": 39,
   "metadata": {},
   "outputs": [],
   "source": [
    "import os\n",
    "import csv\n",
    "import pickle\n",
    "import glob\n",
    "import cv2\n",
    "from zipfile import ZipFile\n",
    "import pandas as pd\n",
    "import numpy as np\n",
    "import matplotlib.pyplot as plt\n",
    "import seaborn as sns\n",
    "import plotly.figure_factory as ff\n",
    "import plotly.express as px\n",
    "import plotly.graph_objects as go\n",
    "\n",
    "import warnings\n",
    "from pandas.core.common import SettingWithCopyWarning\n",
    "warnings.simplefilter(action=\"ignore\", category=SettingWithCopyWarning)\n",
    "warnings.simplefilter(action='ignore', category=FutureWarning)\n",
    "\n",
    "import numpy as np\n",
    "import matplotlib.pyplot as plt\n",
    "from sklearn.preprocessing import StandardScaler\n",
    "from sklearn.cluster import KMeans\n",
    "from sklearn.decomposition import PCA\n",
    "\n",
    "from tensorflow import keras\n",
    "import tensorflow as tf\n",
    "from sklearn import datasets\n",
    "import numpy as np\n",
    "import matplotlib.pyplot as plt\n",
    "from keras import layers\n",
    "from keras.preprocessing.image import ImageDataGenerator"
   ]
  },
  {
   "cell_type": "code",
   "execution_count": 2,
   "metadata": {},
   "outputs": [],
   "source": [
    "labels_dir = os.getcwd()+'\\labels'\n",
    "data_dir = os.getcwd()+'\\Data'\n",
    "labels_list = os.listdir(labels_dir)\n",
    "data_list = os.listdir(data_dir)"
   ]
  },
  {
   "cell_type": "code",
   "execution_count": 3,
   "metadata": {},
   "outputs": [],
   "source": [
    "txt = []\n",
    "for index in range(0, len(labels_list)): #start from new dataset\n",
    "    label = labels_list[index]\n",
    "    txt.append(os.path.join(labels_dir, label))"
   ]
  },
  {
   "cell_type": "code",
   "execution_count": 4,
   "metadata": {},
   "outputs": [],
   "source": [
    "dt = []\n",
    "for index in range(0, len(data_list)): #start from new dataset\n",
    "    d = data_list[index]\n",
    "    dt.append(os.path.join(data_dir, d))"
   ]
  },
  {
   "cell_type": "code",
   "execution_count": 5,
   "metadata": {},
   "outputs": [],
   "source": [
    "def extract_label(txt):\n",
    "    clean_vars = []\n",
    "    with open(txt, 'r') as csvfile:\n",
    "    # with open(r'C:\\Users\\phili\\techlabs\\eth_sms\\labels\\SMS_064_Körperlage.txt', 'r') as csvfile:\n",
    "        reader = csv.reader(csvfile, delimiter=';', quotechar=\",\")\n",
    "        for row in reader:\n",
    "            # clean up your file here and append it to the list\n",
    "            clean_vars.append([char for char in row if char])\n",
    "\n",
    "    my_string = ' '.join(map(str,clean_vars[1]))\n",
    "    start_date = my_string.split(\":\",1)[1]\n",
    "    start = start_date[0:11] #get only the date\n",
    "\n",
    "    list = clean_vars[6:] #get the labels\n",
    "    df = pd.DataFrame(list, columns=['time','Position'])\n",
    "    # start = pd.to_datetime(start, format='%d%m%Y')\n",
    "    df.time = df.time.str.replace(',','.')\n",
    "    df.time = df.time.str.lstrip()\n",
    "    # df.time = df.time.str.replace(\" \", \"\", n = 1)\n",
    "    df.time = df.time.apply(lambda x: ' '.join((start, x))) # add date\n",
    "    # df.time= pd.to_datetime(df.time)\n",
    "    # morning_hour = df.iloc[-1]['time'].hour '%m/%d/%Y %H:%M:%S.%f'\n",
    "    df.time = pd.to_datetime(df['time'], format=' %d.%m.%Y %H:%M:%S.%f')\n",
    "    df.time = pd.to_datetime(df.time).apply(lambda x: x + pd.DateOffset(days=1) if x.hour <= 10 else x) # corect the date after 0 o'clock\n",
    "    # df.time = pd.to_datetime(df.time,format='%Y/%m/%d %H:%M:%S.%f')\n",
    "    # df_end = df[df['Position']!=' A']\n",
    "    df_end = df\n",
    "    df_end = df_end.reset_index().drop(columns= ['index'])\n",
    "    df_end['end'] = df_end['time'].shift(-1) # get the duration\n",
    "    df_end['end'] = np.where(df_end['end'].isnull(), df_end['time'], df_end['end'])\n",
    "    return df_end\n"
   ]
  },
  {
   "cell_type": "code",
   "execution_count": 6,
   "metadata": {},
   "outputs": [],
   "source": [
    "def extract_label_old(txt):\n",
    "    clean_vars = []\n",
    "    with open(txt, 'r') as csvfile:\n",
    "    # with open(r'C:\\Users\\phili\\techlabs\\eth_sms\\labels\\SMS_064_Körperlage.txt', 'r') as csvfile:\n",
    "        reader = csv.reader(csvfile, delimiter=';', quotechar=\",\")\n",
    "        for row in reader:\n",
    "            # clean up your file here and append it to the list\n",
    "            clean_vars.append([char for char in row if char])\n",
    "    info = clean_vars[483:]\n",
    "    df = pd.DataFrame(info)\n",
    "    df[0] = df[0].str.replace('\\t',',')\n",
    "    dfnew = df[0].str.split(',', expand=True)\n",
    "    df_end = dfnew[dfnew[3].str.contains('POSITION')].reset_index().drop(columns=['index',0,1,4,5]).rename({2: 'time', 3: 'Position'}, axis=1)\n",
    "    df_end.time = pd.to_datetime(df_end['time'], format='%Y.%m.%dT%H:%M:%S.%f')\n",
    "    df_end['end'] = df_end['time'].shift(-1) # get the duration\n",
    "    df_end['end'] = np.where(df_end['end'].isnull(), df_end['time'], df_end['end'])\n",
    "    return df_end\n",
    "\n"
   ]
  },
  {
   "cell_type": "code",
   "execution_count": 7,
   "metadata": {},
   "outputs": [],
   "source": [
    "def get_data(dt):\n",
    "    data = pd.read_pickle(dt)\n",
    "    data = data.reset_index()\n",
    "    data = data.rename(columns={\"index\": \"time\", \"matData\": \"pressure\"})\n",
    "    data['time'] = pd.to_datetime(data['time'],unit='ms')\n",
    "    df_new = data.drop_duplicates(subset='time', keep='first').reset_index().drop(columns= ['index']) #drop with exact date and hours and get the first one\n",
    "    df_new['end'] = df_new['time'].shift(-1) # get the duration\n",
    "    df_new['end'] = np.where(df_new['end'].isnull(), df_new['time'], df_new['end'])\n",
    "    df_new['time'] = df_new['time'] + pd.Timedelta(hours=1)\n",
    "    df_new['end'] = df_new['end'] + pd.Timedelta(hours=1)\n",
    "    df_new['label'] = 0\n",
    "    return df_new"
   ]
  },
  {
   "cell_type": "code",
   "execution_count": 8,
   "metadata": {},
   "outputs": [],
   "source": [
    "def get_data_old(dt):\n",
    "    data = pd.read_pickle(dt)\n",
    "    data = data.reset_index()\n",
    "    data = data.rename(columns={\"index\": \"time\", \"matData\": \"pressure\"})\n",
    "    data['time'] = pd.to_datetime(data['time'],unit='ms')\n",
    "    df_new = data.drop_duplicates(subset='time', keep='first').reset_index().drop(columns= ['index']) #drop with exact date and hours and get the first one\n",
    "    df_new['end'] = df_new['time'].shift(-1) # get the duration\n",
    "    df_new['end'] = np.where(df_new['end'].isnull(), df_new['time'], df_new['end'])\n",
    "    df_new['time'] = df_new['time'] \n",
    "    df_new['end'] = df_new['end'] \n",
    "    df_new['label'] = 0\n",
    "    return df_new"
   ]
  },
  {
   "cell_type": "code",
   "execution_count": 9,
   "metadata": {},
   "outputs": [],
   "source": [
    "def get_label(txt,dt):\n",
    "    if txt[-10:-4]=='Events':\n",
    "        df_end = extract_label_old(txt)\n",
    "        df_new = get_data_old(dt)\n",
    "    else:\n",
    "        df_end = extract_label(txt)\n",
    "        df_new = get_data(dt)\n",
    "    # df_new = get_data(dt)\n",
    "    for i in range(len(df_new['end'])):\n",
    "        for j in range(len(df_end['time'])):\n",
    "\n",
    "            if (df_new['time'][i] >= df_end['time'][j]) & (df_new['time'][i] <= df_end['end'][j]):\n",
    "                df_new['label'][i] = df_end['Position'][j]\n",
    "                break\n",
    "            else:\n",
    "                continue\n",
    "\n",
    "    \n",
    "\n",
    "    return df_new, df_end"
   ]
  },
  {
   "cell_type": "markdown",
   "metadata": {},
   "source": [
    "Rücken or Not Rücken -> Feature Extraction -> KMeans"
   ]
  },
  {
   "cell_type": "code",
   "execution_count": 43,
   "metadata": {},
   "outputs": [
    {
     "name": "stdout",
     "output_type": "stream",
     "text": [
      "Epoch 1/20\n"
     ]
    },
    {
     "name": "stderr",
     "output_type": "stream",
     "text": [
      "C:\\Users\\phili\\AppData\\Local\\Temp\\ipykernel_21868\\4249975297.py:48: UserWarning: `Model.fit_generator` is deprecated and will be removed in a future version. Please use `Model.fit`, which supports generators.\n",
      "  model.fit_generator(data_from_generator,epochs = 20)\n"
     ]
    },
    {
     "name": "stdout",
     "output_type": "stream",
     "text": [
      "13/13 [==============================] - 1s 43ms/step - loss: 1.4411 - accuracy: 0.5000\n",
      "Epoch 2/20\n",
      "13/13 [==============================] - 1s 43ms/step - loss: 0.2642 - accuracy: 0.5175\n",
      "Epoch 3/20\n",
      "13/13 [==============================] - 1s 44ms/step - loss: 0.2578 - accuracy: 0.4978\n",
      "Epoch 4/20\n",
      "13/13 [==============================] - 1s 43ms/step - loss: 0.2568 - accuracy: 0.5006\n",
      "Epoch 5/20\n",
      "13/13 [==============================] - 1s 43ms/step - loss: 0.2542 - accuracy: 0.4950\n",
      "Epoch 6/20\n",
      "13/13 [==============================] - 1s 42ms/step - loss: 0.2524 - accuracy: 0.4990\n",
      "Epoch 7/20\n",
      "13/13 [==============================] - 1s 44ms/step - loss: 0.2530 - accuracy: 0.4827\n",
      "Epoch 8/20\n",
      "13/13 [==============================] - 1s 44ms/step - loss: 0.2518 - accuracy: 0.4996\n",
      "Epoch 9/20\n",
      "13/13 [==============================] - 1s 43ms/step - loss: 0.2512 - accuracy: 0.5003\n",
      "Epoch 10/20\n",
      "13/13 [==============================] - 1s 43ms/step - loss: 0.2515 - accuracy: 0.4900\n",
      "Epoch 11/20\n",
      "13/13 [==============================] - 1s 42ms/step - loss: 0.2508 - accuracy: 0.4984\n",
      "Epoch 12/20\n",
      "13/13 [==============================] - 1s 43ms/step - loss: 0.2508 - accuracy: 0.4981\n",
      "Epoch 13/20\n",
      "13/13 [==============================] - 1s 44ms/step - loss: 0.2507 - accuracy: 0.4954\n",
      "Epoch 14/20\n",
      "13/13 [==============================] - 1s 43ms/step - loss: 0.2509 - accuracy: 0.4927\n",
      "Epoch 15/20\n",
      "13/13 [==============================] - 1s 43ms/step - loss: 0.2507 - accuracy: 0.4963\n",
      "Epoch 16/20\n",
      "13/13 [==============================] - 1s 44ms/step - loss: 0.2505 - accuracy: 0.5002\n",
      "Epoch 17/20\n",
      "13/13 [==============================] - 1s 45ms/step - loss: 0.2506 - accuracy: 0.4937\n",
      "Epoch 18/20\n",
      "13/13 [==============================] - 1s 44ms/step - loss: 0.2504 - accuracy: 0.4978\n",
      "Epoch 19/20\n",
      "13/13 [==============================] - 1s 43ms/step - loss: 0.2510 - accuracy: 0.4820\n",
      "Epoch 20/20\n",
      "13/13 [==============================] - 1s 43ms/step - loss: 0.2504 - accuracy: 0.4963\n",
      "Model: \"model_68\"\n",
      "_________________________________________________________________\n",
      " Layer (type)                Output Shape              Param #   \n",
      "=================================================================\n",
      " conv1_input (InputLayer)    [(None, 48, 48, 1)]       0         \n",
      "                                                                 \n",
      " conv1 (Conv2D)              (None, 24, 24, 32)        832       \n",
      "                                                                 \n",
      " conv2 (Conv2D)              (None, 12, 12, 64)        51264     \n",
      "                                                                 \n",
      " conv3 (Conv2D)              (None, 6, 6, 128)         73856     \n",
      "                                                                 \n",
      " flatten (Flatten)           (None, 4608)              0         \n",
      "                                                                 \n",
      " embedding (Dense)           (None, 10)                46090     \n",
      "                                                                 \n",
      "=================================================================\n",
      "Total params: 172,042\n",
      "Trainable params: 172,042\n",
      "Non-trainable params: 0\n",
      "_________________________________________________________________\n",
      "[0 1]\n",
      "The list of labels of the clusters are [0 1]\n"
     ]
    },
    {
     "data": {
      "image/png": "[encoded data removed]",
      "text/plain": [
       "<Figure size 1440x1440 with 2 Axes>"
      ]
     },
     "metadata": {
      "needs_background": "light"
     },
     "output_type": "display_data"
    },
    {
     "name": "stdout",
     "output_type": "stream",
     "text": [
      "Epoch 1/20\n"
     ]
    },
    {
     "name": "stderr",
     "output_type": "stream",
     "text": [
      "C:\\Users\\phili\\AppData\\Local\\Temp\\ipykernel_21868\\4249975297.py:48: UserWarning: `Model.fit_generator` is deprecated and will be removed in a future version. Please use `Model.fit`, which supports generators.\n",
      "  model.fit_generator(data_from_generator,epochs = 20)\n"
     ]
    },
    {
     "name": "stdout",
     "output_type": "stream",
     "text": [
      "13/13 [==============================] - 1s 43ms/step - loss: 0.2510 - accuracy: 0.4909\n",
      "Epoch 2/20\n",
      "13/13 [==============================] - 1s 42ms/step - loss: 0.2510 - accuracy: 0.4890\n",
      "Epoch 3/20\n",
      "13/13 [==============================] - 1s 43ms/step - loss: 0.2510 - accuracy: 0.4936\n",
      "Epoch 4/20\n",
      "13/13 [==============================] - 1s 42ms/step - loss: 0.2504 - accuracy: 0.5005\n",
      "Epoch 5/20\n",
      "13/13 [==============================] - 1s 43ms/step - loss: 0.2507 - accuracy: 0.4847\n",
      "Epoch 6/20\n",
      "13/13 [==============================] - 1s 43ms/step - loss: 0.2508 - accuracy: 0.4865\n",
      "Epoch 7/20\n",
      "13/13 [==============================] - 1s 43ms/step - loss: 0.2505 - accuracy: 0.4880\n",
      "Epoch 8/20\n",
      "13/13 [==============================] - 1s 44ms/step - loss: 0.2505 - accuracy: 0.4961\n",
      "Epoch 9/20\n",
      "13/13 [==============================] - 1s 43ms/step - loss: 0.2501 - accuracy: 0.5018\n",
      "Epoch 10/20\n",
      "13/13 [==============================] - 1s 45ms/step - loss: 0.2505 - accuracy: 0.4940\n",
      "Epoch 11/20\n",
      "13/13 [==============================] - 1s 43ms/step - loss: 0.2501 - accuracy: 0.5026\n",
      "Epoch 12/20\n",
      "13/13 [==============================] - 1s 43ms/step - loss: 0.2505 - accuracy: 0.4927\n",
      "Epoch 13/20\n",
      "13/13 [==============================] - 1s 42ms/step - loss: 0.2502 - accuracy: 0.4974\n",
      "Epoch 14/20\n",
      "13/13 [==============================] - 1s 43ms/step - loss: 0.2505 - accuracy: 0.4922\n",
      "Epoch 15/20\n",
      "13/13 [==============================] - 1s 43ms/step - loss: 0.2503 - accuracy: 0.4898\n",
      "Epoch 16/20\n",
      "13/13 [==============================] - 1s 43ms/step - loss: 0.2503 - accuracy: 0.4895\n",
      "Epoch 17/20\n",
      "13/13 [==============================] - 1s 43ms/step - loss: 0.2502 - accuracy: 0.4908\n",
      "Epoch 18/20\n",
      "13/13 [==============================] - 1s 43ms/step - loss: 0.2506 - accuracy: 0.4742\n",
      "Epoch 19/20\n",
      "13/13 [==============================] - 1s 45ms/step - loss: 0.2504 - accuracy: 0.4970\n",
      "Epoch 20/20\n",
      "13/13 [==============================] - 1s 43ms/step - loss: 0.2500 - accuracy: 0.5112\n",
      "Model: \"model_70\"\n",
      "_________________________________________________________________\n",
      " Layer (type)                Output Shape              Param #   \n",
      "=================================================================\n",
      " conv1_input (InputLayer)    [(None, 48, 48, 1)]       0         \n",
      "                                                                 \n",
      " conv1 (Conv2D)              (None, 24, 24, 32)        832       \n",
      "                                                                 \n",
      " conv2 (Conv2D)              (None, 12, 12, 64)        51264     \n",
      "                                                                 \n",
      " conv3 (Conv2D)              (None, 6, 6, 128)         73856     \n",
      "                                                                 \n",
      " flatten (Flatten)           (None, 4608)              0         \n",
      "                                                                 \n",
      " embedding (Dense)           (None, 10)                46090     \n",
      "                                                                 \n",
      "=================================================================\n",
      "Total params: 172,042\n",
      "Trainable params: 172,042\n",
      "Non-trainable params: 0\n",
      "_________________________________________________________________\n",
      "[0 1]\n",
      "The list of labels of the clusters are [0 1]\n"
     ]
    },
    {
     "data": {
      "image/png": "[encoded data removed]",
      "text/plain": [
       "<Figure size 1440x1440 with 2 Axes>"
      ]
     },
     "metadata": {
      "needs_background": "light"
     },
     "output_type": "display_data"
    },
    {
     "name": "stdout",
     "output_type": "stream",
     "text": [
      "Epoch 1/20\n"
     ]
    },
    {
     "name": "stderr",
     "output_type": "stream",
     "text": [
      "C:\\Users\\phili\\AppData\\Local\\Temp\\ipykernel_21868\\4249975297.py:48: UserWarning: `Model.fit_generator` is deprecated and will be removed in a future version. Please use `Model.fit`, which supports generators.\n",
      "  model.fit_generator(data_from_generator,epochs = 20)\n"
     ]
    },
    {
     "name": "stdout",
     "output_type": "stream",
     "text": [
      "13/13 [==============================] - 1s 46ms/step - loss: 0.2508 - accuracy: 0.4823\n",
      "Epoch 2/20\n",
      "13/13 [==============================] - 1s 43ms/step - loss: 0.2505 - accuracy: 0.4850\n",
      "Epoch 3/20\n",
      "13/13 [==============================] - 1s 44ms/step - loss: 0.2510 - accuracy: 0.4871\n",
      "Epoch 4/20\n",
      "13/13 [==============================] - 1s 43ms/step - loss: 0.2506 - accuracy: 0.4808\n",
      "Epoch 5/20\n",
      "13/13 [==============================] - 1s 43ms/step - loss: 0.2502 - accuracy: 0.4963\n",
      "Epoch 6/20\n",
      "13/13 [==============================] - 1s 46ms/step - loss: 0.2504 - accuracy: 0.4843\n",
      "Epoch 7/20\n",
      "13/13 [==============================] - 1s 43ms/step - loss: 0.2502 - accuracy: 0.4952\n",
      "Epoch 8/20\n",
      "13/13 [==============================] - 1s 45ms/step - loss: 0.2505 - accuracy: 0.4797\n",
      "Epoch 9/20\n",
      "13/13 [==============================] - 1s 43ms/step - loss: 0.2507 - accuracy: 0.4839\n",
      "Epoch 10/20\n",
      "13/13 [==============================] - 1s 43ms/step - loss: 0.2503 - accuracy: 0.4887\n",
      "Epoch 11/20\n",
      "13/13 [==============================] - 1s 43ms/step - loss: 0.2504 - accuracy: 0.4774\n",
      "Epoch 12/20\n",
      "13/13 [==============================] - 1s 42ms/step - loss: 0.2504 - accuracy: 0.4830\n",
      "Epoch 13/20\n",
      "13/13 [==============================] - 1s 43ms/step - loss: 0.2506 - accuracy: 0.4920\n",
      "Epoch 14/20\n",
      "13/13 [==============================] - 1s 43ms/step - loss: 0.2502 - accuracy: 0.4925\n",
      "Epoch 15/20\n",
      "13/13 [==============================] - 1s 43ms/step - loss: 0.2503 - accuracy: 0.4987\n",
      "Epoch 16/20\n",
      "13/13 [==============================] - 1s 43ms/step - loss: 0.2502 - accuracy: 0.4987\n",
      "Epoch 17/20\n",
      "13/13 [==============================] - 1s 43ms/step - loss: 0.2501 - accuracy: 0.4983\n",
      "Epoch 18/20\n",
      "13/13 [==============================] - 1s 43ms/step - loss: 0.2502 - accuracy: 0.4917\n",
      "Epoch 19/20\n",
      "13/13 [==============================] - 1s 45ms/step - loss: 0.2502 - accuracy: 0.4871\n",
      "Epoch 20/20\n",
      "13/13 [==============================] - 1s 43ms/step - loss: 0.2502 - accuracy: 0.4953\n",
      "Model: \"model_72\"\n",
      "_________________________________________________________________\n",
      " Layer (type)                Output Shape              Param #   \n",
      "=================================================================\n",
      " conv1_input (InputLayer)    [(None, 48, 48, 1)]       0         \n",
      "                                                                 \n",
      " conv1 (Conv2D)              (None, 24, 24, 32)        832       \n",
      "                                                                 \n",
      " conv2 (Conv2D)              (None, 12, 12, 64)        51264     \n",
      "                                                                 \n",
      " conv3 (Conv2D)              (None, 6, 6, 128)         73856     \n",
      "                                                                 \n",
      " flatten (Flatten)           (None, 4608)              0         \n",
      "                                                                 \n",
      " embedding (Dense)           (None, 10)                46090     \n",
      "                                                                 \n",
      "=================================================================\n",
      "Total params: 172,042\n",
      "Trainable params: 172,042\n",
      "Non-trainable params: 0\n",
      "_________________________________________________________________\n",
      "[0 1]\n",
      "The list of labels of the clusters are [0 1]\n"
     ]
    },
    {
     "data": {
      "image/png": "[encoded data removed]",
      "text/plain": [
       "<Figure size 1440x1440 with 2 Axes>"
      ]
     },
     "metadata": {
      "needs_background": "light"
     },
     "output_type": "display_data"
    },
    {
     "name": "stdout",
     "output_type": "stream",
     "text": [
      "Epoch 1/20\n"
     ]
    },
    {
     "name": "stderr",
     "output_type": "stream",
     "text": [
      "C:\\Users\\phili\\AppData\\Local\\Temp\\ipykernel_21868\\4249975297.py:48: UserWarning: `Model.fit_generator` is deprecated and will be removed in a future version. Please use `Model.fit`, which supports generators.\n",
      "  model.fit_generator(data_from_generator,epochs = 20)\n"
     ]
    },
    {
     "name": "stdout",
     "output_type": "stream",
     "text": [
      "13/13 [==============================] - 1s 43ms/step - loss: 0.2514 - accuracy: 0.4958\n",
      "Epoch 2/20\n",
      "13/13 [==============================] - 1s 43ms/step - loss: 0.2500 - accuracy: 0.5066\n",
      "Epoch 3/20\n",
      "13/13 [==============================] - 1s 43ms/step - loss: 0.2502 - accuracy: 0.4986\n",
      "Epoch 4/20\n",
      "13/13 [==============================] - 1s 44ms/step - loss: 0.2506 - accuracy: 0.4719\n",
      "Epoch 5/20\n",
      "13/13 [==============================] - 1s 44ms/step - loss: 0.2504 - accuracy: 0.4966\n",
      "Epoch 6/20\n",
      "13/13 [==============================] - 1s 45ms/step - loss: 0.2501 - accuracy: 0.4984\n",
      "Epoch 7/20\n",
      "13/13 [==============================] - 1s 44ms/step - loss: 0.2502 - accuracy: 0.4958\n",
      "Epoch 8/20\n",
      "13/13 [==============================] - 1s 43ms/step - loss: 0.2505 - accuracy: 0.4739\n",
      "Epoch 9/20\n",
      "13/13 [==============================] - 1s 44ms/step - loss: 0.2501 - accuracy: 0.4967\n",
      "Epoch 10/20\n",
      "13/13 [==============================] - 1s 43ms/step - loss: 0.2502 - accuracy: 0.4952\n",
      "Epoch 11/20\n",
      "13/13 [==============================] - 1s 43ms/step - loss: 0.2502 - accuracy: 0.5020\n",
      "Epoch 12/20\n",
      "13/13 [==============================] - 1s 44ms/step - loss: 0.2511 - accuracy: 0.4543\n",
      "Epoch 13/20\n",
      "13/13 [==============================] - 1s 43ms/step - loss: 0.2508 - accuracy: 0.4731\n",
      "Epoch 14/20\n",
      "13/13 [==============================] - 1s 43ms/step - loss: 0.2502 - accuracy: 0.4984\n",
      "Epoch 15/20\n",
      "13/13 [==============================] - 1s 43ms/step - loss: 0.2502 - accuracy: 0.4963\n",
      "Epoch 16/20\n",
      "13/13 [==============================] - 1s 43ms/step - loss: 0.2502 - accuracy: 0.4974\n",
      "Epoch 17/20\n",
      "13/13 [==============================] - 1s 43ms/step - loss: 0.2502 - accuracy: 0.4933\n",
      "Epoch 18/20\n",
      "13/13 [==============================] - 1s 45ms/step - loss: 0.2501 - accuracy: 0.4936\n",
      "Epoch 19/20\n",
      "13/13 [==============================] - 1s 43ms/step - loss: 0.2501 - accuracy: 0.4995\n",
      "Epoch 20/20\n",
      "13/13 [==============================] - 1s 43ms/step - loss: 0.2506 - accuracy: 0.4770\n",
      "Model: \"model_74\"\n",
      "_________________________________________________________________\n",
      " Layer (type)                Output Shape              Param #   \n",
      "=================================================================\n",
      " conv1_input (InputLayer)    [(None, 48, 48, 1)]       0         \n",
      "                                                                 \n",
      " conv1 (Conv2D)              (None, 24, 24, 32)        832       \n",
      "                                                                 \n",
      " conv2 (Conv2D)              (None, 12, 12, 64)        51264     \n",
      "                                                                 \n",
      " conv3 (Conv2D)              (None, 6, 6, 128)         73856     \n",
      "                                                                 \n",
      " flatten (Flatten)           (None, 4608)              0         \n",
      "                                                                 \n",
      " embedding (Dense)           (None, 10)                46090     \n",
      "                                                                 \n",
      "=================================================================\n",
      "Total params: 172,042\n",
      "Trainable params: 172,042\n",
      "Non-trainable params: 0\n",
      "_________________________________________________________________\n",
      "[0 1]\n",
      "The list of labels of the clusters are [0 1]\n"
     ]
    },
    {
     "data": {
      "image/png": "[encoded data removed]",
      "text/plain": [
       "<Figure size 1440x1440 with 2 Axes>"
      ]
     },
     "metadata": {
      "needs_background": "light"
     },
     "output_type": "display_data"
    },
    {
     "name": "stdout",
     "output_type": "stream",
     "text": [
      "Epoch 1/20\n"
     ]
    },
    {
     "name": "stderr",
     "output_type": "stream",
     "text": [
      "C:\\Users\\phili\\AppData\\Local\\Temp\\ipykernel_21868\\4249975297.py:48: UserWarning: `Model.fit_generator` is deprecated and will be removed in a future version. Please use `Model.fit`, which supports generators.\n",
      "  model.fit_generator(data_from_generator,epochs = 20)\n"
     ]
    },
    {
     "name": "stdout",
     "output_type": "stream",
     "text": [
      "13/13 [==============================] - 1s 51ms/step - loss: 0.2505 - accuracy: 0.4881\n",
      "Epoch 2/20\n",
      "13/13 [==============================] - 1s 43ms/step - loss: 0.2517 - accuracy: 0.4753\n",
      "Epoch 3/20\n",
      "13/13 [==============================] - 1s 42ms/step - loss: 0.2520 - accuracy: 0.4680\n",
      "Epoch 4/20\n",
      "13/13 [==============================] - 1s 45ms/step - loss: 0.2506 - accuracy: 0.4957\n",
      "Epoch 5/20\n",
      "13/13 [==============================] - 1s 44ms/step - loss: 0.2507 - accuracy: 0.4914\n",
      "Epoch 6/20\n",
      "13/13 [==============================] - 1s 45ms/step - loss: 0.2503 - accuracy: 0.4910\n",
      "Epoch 7/20\n",
      "13/13 [==============================] - 1s 43ms/step - loss: 0.2504 - accuracy: 0.4854\n",
      "Epoch 8/20\n",
      "13/13 [==============================] - 1s 43ms/step - loss: 0.2503 - accuracy: 0.4971\n",
      "Epoch 9/20\n",
      "13/13 [==============================] - 1s 44ms/step - loss: 0.2508 - accuracy: 0.5018\n",
      "Epoch 10/20\n",
      "13/13 [==============================] - 1s 43ms/step - loss: 0.2511 - accuracy: 0.4939\n",
      "Epoch 11/20\n",
      "13/13 [==============================] - 1s 44ms/step - loss: 0.2513 - accuracy: 0.4698\n",
      "Epoch 12/20\n",
      "13/13 [==============================] - 1s 43ms/step - loss: 0.2504 - accuracy: 0.4948\n",
      "Epoch 13/20\n",
      "13/13 [==============================] - 1s 44ms/step - loss: 0.2506 - accuracy: 0.4894\n",
      "Epoch 14/20\n",
      "13/13 [==============================] - 1s 46ms/step - loss: 0.2501 - accuracy: 0.4976\n",
      "Epoch 15/20\n",
      "13/13 [==============================] - 1s 42ms/step - loss: 0.2503 - accuracy: 0.4914\n",
      "Epoch 16/20\n",
      "13/13 [==============================] - 1s 44ms/step - loss: 0.2502 - accuracy: 0.4953\n",
      "Epoch 17/20\n",
      "13/13 [==============================] - 1s 43ms/step - loss: 0.2501 - accuracy: 0.4976\n",
      "Epoch 18/20\n",
      "13/13 [==============================] - 1s 42ms/step - loss: 0.2501 - accuracy: 0.4967\n",
      "Epoch 19/20\n",
      "13/13 [==============================] - 1s 45ms/step - loss: 0.2501 - accuracy: 0.4950\n",
      "Epoch 20/20\n",
      "13/13 [==============================] - 1s 42ms/step - loss: 0.2502 - accuracy: 0.4874\n",
      "Model: \"model_76\"\n",
      "_________________________________________________________________\n",
      " Layer (type)                Output Shape              Param #   \n",
      "=================================================================\n",
      " conv1_input (InputLayer)    [(None, 48, 48, 1)]       0         \n",
      "                                                                 \n",
      " conv1 (Conv2D)              (None, 24, 24, 32)        832       \n",
      "                                                                 \n",
      " conv2 (Conv2D)              (None, 12, 12, 64)        51264     \n",
      "                                                                 \n",
      " conv3 (Conv2D)              (None, 6, 6, 128)         73856     \n",
      "                                                                 \n",
      " flatten (Flatten)           (None, 4608)              0         \n",
      "                                                                 \n",
      " embedding (Dense)           (None, 10)                46090     \n",
      "                                                                 \n",
      "=================================================================\n",
      "Total params: 172,042\n",
      "Trainable params: 172,042\n",
      "Non-trainable params: 0\n",
      "_________________________________________________________________\n",
      "[0 1]\n",
      "The list of labels of the clusters are [0 1]\n"
     ]
    },
    {
     "data": {
      "image/png": "[encoded data removed]",
      "text/plain": [
       "<Figure size 1440x1440 with 2 Axes>"
      ]
     },
     "metadata": {
      "needs_background": "light"
     },
     "output_type": "display_data"
    },
    {
     "name": "stdout",
     "output_type": "stream",
     "text": [
      "Epoch 1/20\n"
     ]
    },
    {
     "name": "stderr",
     "output_type": "stream",
     "text": [
      "C:\\Users\\phili\\AppData\\Local\\Temp\\ipykernel_21868\\4249975297.py:48: UserWarning: `Model.fit_generator` is deprecated and will be removed in a future version. Please use `Model.fit`, which supports generators.\n",
      "  model.fit_generator(data_from_generator,epochs = 20)\n"
     ]
    },
    {
     "name": "stdout",
     "output_type": "stream",
     "text": [
      "13/13 [==============================] - 1s 43ms/step - loss: 0.2505 - accuracy: 0.4825\n",
      "Epoch 2/20\n",
      "13/13 [==============================] - 1s 43ms/step - loss: 0.2503 - accuracy: 0.4884\n",
      "Epoch 3/20\n",
      "13/13 [==============================] - 1s 43ms/step - loss: 0.2502 - accuracy: 0.4963\n",
      "Epoch 4/20\n",
      "13/13 [==============================] - 1s 43ms/step - loss: 0.2501 - accuracy: 0.5004\n",
      "Epoch 5/20\n",
      "13/13 [==============================] - 1s 43ms/step - loss: 0.2503 - accuracy: 0.5001\n",
      "Epoch 6/20\n",
      "13/13 [==============================] - 1s 43ms/step - loss: 0.2501 - accuracy: 0.4966\n",
      "Epoch 7/20\n",
      "13/13 [==============================] - 1s 45ms/step - loss: 0.2501 - accuracy: 0.4899\n",
      "Epoch 8/20\n",
      "13/13 [==============================] - 1s 43ms/step - loss: 0.2501 - accuracy: 0.4938\n",
      "Epoch 9/20\n",
      "13/13 [==============================] - 1s 43ms/step - loss: 0.2501 - accuracy: 0.4926\n",
      "Epoch 10/20\n",
      "13/13 [==============================] - 1s 43ms/step - loss: 0.2501 - accuracy: 0.4994\n",
      "Epoch 11/20\n",
      "13/13 [==============================] - 1s 43ms/step - loss: 0.2503 - accuracy: 0.4822\n",
      "Epoch 12/20\n",
      "13/13 [==============================] - 1s 43ms/step - loss: 0.2504 - accuracy: 0.4925\n",
      "Epoch 13/20\n",
      "13/13 [==============================] - 1s 43ms/step - loss: 0.2502 - accuracy: 0.4908\n",
      "Epoch 14/20\n",
      "13/13 [==============================] - 1s 43ms/step - loss: 0.2502 - accuracy: 0.4877\n",
      "Epoch 15/20\n",
      "13/13 [==============================] - 1s 43ms/step - loss: 0.2501 - accuracy: 0.4977\n",
      "Epoch 16/20\n",
      "13/13 [==============================] - 1s 45ms/step - loss: 0.2503 - accuracy: 0.4746\n",
      "Epoch 17/20\n",
      "13/13 [==============================] - 1s 43ms/step - loss: 0.2501 - accuracy: 0.4959\n",
      "Epoch 18/20\n",
      "13/13 [==============================] - 1s 43ms/step - loss: 0.2501 - accuracy: 0.4928\n",
      "Epoch 19/20\n",
      "13/13 [==============================] - 1s 45ms/step - loss: 0.2501 - accuracy: 0.4967\n",
      "Epoch 20/20\n",
      "13/13 [==============================] - 1s 43ms/step - loss: 0.2502 - accuracy: 0.4867\n",
      "Model: \"model_78\"\n",
      "_________________________________________________________________\n",
      " Layer (type)                Output Shape              Param #   \n",
      "=================================================================\n",
      " conv1_input (InputLayer)    [(None, 48, 48, 1)]       0         \n",
      "                                                                 \n",
      " conv1 (Conv2D)              (None, 24, 24, 32)        832       \n",
      "                                                                 \n",
      " conv2 (Conv2D)              (None, 12, 12, 64)        51264     \n",
      "                                                                 \n",
      " conv3 (Conv2D)              (None, 6, 6, 128)         73856     \n",
      "                                                                 \n",
      " flatten (Flatten)           (None, 4608)              0         \n",
      "                                                                 \n",
      " embedding (Dense)           (None, 10)                46090     \n",
      "                                                                 \n",
      "=================================================================\n",
      "Total params: 172,042\n",
      "Trainable params: 172,042\n",
      "Non-trainable params: 0\n",
      "_________________________________________________________________\n",
      "[0 1]\n",
      "The list of labels of the clusters are [0 1]\n"
     ]
    },
    {
     "data": {
      "image/png": "[encoded data removed]",
      "text/plain": [
       "<Figure size 1440x1440 with 2 Axes>"
      ]
     },
     "metadata": {
      "needs_background": "light"
     },
     "output_type": "display_data"
    },
    {
     "name": "stdout",
     "output_type": "stream",
     "text": [
      "Epoch 1/20\n"
     ]
    },
    {
     "name": "stderr",
     "output_type": "stream",
     "text": [
      "C:\\Users\\phili\\AppData\\Local\\Temp\\ipykernel_21868\\4249975297.py:48: UserWarning: `Model.fit_generator` is deprecated and will be removed in a future version. Please use `Model.fit`, which supports generators.\n",
      "  model.fit_generator(data_from_generator,epochs = 20)\n"
     ]
    },
    {
     "name": "stdout",
     "output_type": "stream",
     "text": [
      "13/13 [==============================] - 1s 43ms/step - loss: 0.2503 - accuracy: 0.4908\n",
      "Epoch 2/20\n",
      "13/13 [==============================] - 1s 43ms/step - loss: 0.2503 - accuracy: 0.4867\n",
      "Epoch 3/20\n",
      "13/13 [==============================] - 1s 43ms/step - loss: 0.2502 - accuracy: 0.4817\n",
      "Epoch 4/20\n",
      "13/13 [==============================] - 1s 43ms/step - loss: 0.2501 - accuracy: 0.4931\n",
      "Epoch 5/20\n",
      "13/13 [==============================] - 1s 43ms/step - loss: 0.2502 - accuracy: 0.4843\n",
      "Epoch 6/20\n",
      "13/13 [==============================] - 1s 43ms/step - loss: 0.2501 - accuracy: 0.4897\n",
      "Epoch 7/20\n",
      "13/13 [==============================] - 1s 44ms/step - loss: 0.2503 - accuracy: 0.4861\n",
      "Epoch 8/20\n",
      "13/13 [==============================] - 1s 47ms/step - loss: 0.2501 - accuracy: 0.4923\n",
      "Epoch 9/20\n",
      "13/13 [==============================] - 1s 43ms/step - loss: 0.2503 - accuracy: 0.4696\n",
      "Epoch 10/20\n",
      "13/13 [==============================] - 1s 43ms/step - loss: 0.2501 - accuracy: 0.4931\n",
      "Epoch 11/20\n",
      "13/13 [==============================] - 1s 44ms/step - loss: 0.2505 - accuracy: 0.4965\n",
      "Epoch 12/20\n",
      "13/13 [==============================] - 1s 43ms/step - loss: 0.2501 - accuracy: 0.5009\n",
      "Epoch 13/20\n",
      "13/13 [==============================] - 1s 43ms/step - loss: 0.2502 - accuracy: 0.4914\n",
      "Epoch 14/20\n",
      "13/13 [==============================] - 1s 43ms/step - loss: 0.2501 - accuracy: 0.4995\n",
      "Epoch 15/20\n",
      "13/13 [==============================] - 1s 43ms/step - loss: 0.2501 - accuracy: 0.4983\n",
      "Epoch 16/20\n",
      "13/13 [==============================] - 1s 43ms/step - loss: 0.2501 - accuracy: 0.4971\n",
      "Epoch 17/20\n",
      "13/13 [==============================] - 1s 43ms/step - loss: 0.2503 - accuracy: 0.4978\n",
      "Epoch 18/20\n",
      "13/13 [==============================] - 1s 43ms/step - loss: 0.2502 - accuracy: 0.4985\n",
      "Epoch 19/20\n",
      "13/13 [==============================] - 1s 43ms/step - loss: 0.2501 - accuracy: 0.4967\n",
      "Epoch 20/20\n",
      "13/13 [==============================] - 1s 43ms/step - loss: 0.2503 - accuracy: 0.4932\n",
      "Model: \"model_80\"\n",
      "_________________________________________________________________\n",
      " Layer (type)                Output Shape              Param #   \n",
      "=================================================================\n",
      " conv1_input (InputLayer)    [(None, 48, 48, 1)]       0         \n",
      "                                                                 \n",
      " conv1 (Conv2D)              (None, 24, 24, 32)        832       \n",
      "                                                                 \n",
      " conv2 (Conv2D)              (None, 12, 12, 64)        51264     \n",
      "                                                                 \n",
      " conv3 (Conv2D)              (None, 6, 6, 128)         73856     \n",
      "                                                                 \n",
      " flatten (Flatten)           (None, 4608)              0         \n",
      "                                                                 \n",
      " embedding (Dense)           (None, 10)                46090     \n",
      "                                                                 \n",
      "=================================================================\n",
      "Total params: 172,042\n",
      "Trainable params: 172,042\n",
      "Non-trainable params: 0\n",
      "_________________________________________________________________\n",
      "[0 1]\n",
      "The list of labels of the clusters are [0 1]\n"
     ]
    },
    {
     "data": {
      "image/png": "[encoded data removed]",
      "text/plain": [
       "<Figure size 1440x1440 with 2 Axes>"
      ]
     },
     "metadata": {
      "needs_background": "light"
     },
     "output_type": "display_data"
    },
    {
     "name": "stdout",
     "output_type": "stream",
     "text": [
      "Epoch 1/20\n"
     ]
    },
    {
     "name": "stderr",
     "output_type": "stream",
     "text": [
      "C:\\Users\\phili\\AppData\\Local\\Temp\\ipykernel_21868\\4249975297.py:48: UserWarning: `Model.fit_generator` is deprecated and will be removed in a future version. Please use `Model.fit`, which supports generators.\n",
      "  model.fit_generator(data_from_generator,epochs = 20)\n"
     ]
    },
    {
     "name": "stdout",
     "output_type": "stream",
     "text": [
      "13/13 [==============================] - 1s 44ms/step - loss: 0.2504 - accuracy: 0.4934\n",
      "Epoch 2/20\n",
      "13/13 [==============================] - 1s 43ms/step - loss: 0.2502 - accuracy: 0.4969\n",
      "Epoch 3/20\n",
      "13/13 [==============================] - 1s 43ms/step - loss: 0.2502 - accuracy: 0.4800\n",
      "Epoch 4/20\n",
      "13/13 [==============================] - 1s 43ms/step - loss: 0.2502 - accuracy: 0.4867\n",
      "Epoch 5/20\n",
      "13/13 [==============================] - 1s 44ms/step - loss: 0.2502 - accuracy: 0.4971\n",
      "Epoch 6/20\n",
      "13/13 [==============================] - 1s 42ms/step - loss: 0.2504 - accuracy: 0.4764\n",
      "Epoch 7/20\n",
      "13/13 [==============================] - 1s 43ms/step - loss: 0.2502 - accuracy: 0.4931\n",
      "Epoch 8/20\n",
      "13/13 [==============================] - 1s 45ms/step - loss: 0.2501 - accuracy: 0.4876\n",
      "Epoch 9/20\n",
      "13/13 [==============================] - 1s 43ms/step - loss: 0.2501 - accuracy: 0.4971\n",
      "Epoch 10/20\n",
      "13/13 [==============================] - 1s 44ms/step - loss: 0.2502 - accuracy: 0.4971\n",
      "Epoch 11/20\n",
      "13/13 [==============================] - 1s 42ms/step - loss: 0.2503 - accuracy: 0.4763\n",
      "Epoch 12/20\n",
      "13/13 [==============================] - 1s 44ms/step - loss: 0.2500 - accuracy: 0.5022\n",
      "Epoch 13/20\n",
      "13/13 [==============================] - 1s 43ms/step - loss: 0.2503 - accuracy: 0.4997\n",
      "Epoch 14/20\n",
      "13/13 [==============================] - 1s 45ms/step - loss: 0.2502 - accuracy: 0.4953\n",
      "Epoch 15/20\n",
      "13/13 [==============================] - 1s 44ms/step - loss: 0.2505 - accuracy: 0.4882\n",
      "Epoch 16/20\n",
      "13/13 [==============================] - 1s 43ms/step - loss: 0.2501 - accuracy: 0.4998\n",
      "Epoch 17/20\n",
      "13/13 [==============================] - 1s 45ms/step - loss: 0.2503 - accuracy: 0.4845\n",
      "Epoch 18/20\n",
      "13/13 [==============================] - 1s 43ms/step - loss: 0.2501 - accuracy: 0.4932\n",
      "Epoch 19/20\n",
      "13/13 [==============================] - 1s 44ms/step - loss: 0.2504 - accuracy: 0.4904\n",
      "Epoch 20/20\n",
      "13/13 [==============================] - 1s 47ms/step - loss: 0.2500 - accuracy: 0.4976\n",
      "Model: \"model_82\"\n",
      "_________________________________________________________________\n",
      " Layer (type)                Output Shape              Param #   \n",
      "=================================================================\n",
      " conv1_input (InputLayer)    [(None, 48, 48, 1)]       0         \n",
      "                                                                 \n",
      " conv1 (Conv2D)              (None, 24, 24, 32)        832       \n",
      "                                                                 \n",
      " conv2 (Conv2D)              (None, 12, 12, 64)        51264     \n",
      "                                                                 \n",
      " conv3 (Conv2D)              (None, 6, 6, 128)         73856     \n",
      "                                                                 \n",
      " flatten (Flatten)           (None, 4608)              0         \n",
      "                                                                 \n",
      " embedding (Dense)           (None, 10)                46090     \n",
      "                                                                 \n",
      "=================================================================\n",
      "Total params: 172,042\n",
      "Trainable params: 172,042\n",
      "Non-trainable params: 0\n",
      "_________________________________________________________________\n",
      "[0 1]\n",
      "The list of labels of the clusters are [0 1]\n"
     ]
    },
    {
     "data": {
      "image/png": "[encoded data removed]",
      "text/plain": [
       "<Figure size 1440x1440 with 2 Axes>"
      ]
     },
     "metadata": {
      "needs_background": "light"
     },
     "output_type": "display_data"
    },
    {
     "name": "stdout",
     "output_type": "stream",
     "text": [
      "Epoch 1/20\n"
     ]
    },
    {
     "name": "stderr",
     "output_type": "stream",
     "text": [
      "C:\\Users\\phili\\AppData\\Local\\Temp\\ipykernel_21868\\4249975297.py:48: UserWarning: `Model.fit_generator` is deprecated and will be removed in a future version. Please use `Model.fit`, which supports generators.\n",
      "  model.fit_generator(data_from_generator,epochs = 20)\n"
     ]
    },
    {
     "name": "stdout",
     "output_type": "stream",
     "text": [
      "7/7 [==============================] - 1s 40ms/step - loss: 0.2271 - accuracy: 0.9397\n",
      "Epoch 2/20\n",
      "7/7 [==============================] - 0s 41ms/step - loss: 0.1510 - accuracy: 1.0000\n",
      "Epoch 3/20\n",
      "7/7 [==============================] - 0s 45ms/step - loss: 0.0441 - accuracy: 1.0000\n",
      "Epoch 4/20\n",
      "7/7 [==============================] - 0s 40ms/step - loss: 0.0134 - accuracy: 1.0000\n",
      "Epoch 5/20\n",
      "7/7 [==============================] - 0s 41ms/step - loss: 0.0069 - accuracy: 1.0000\n",
      "Epoch 6/20\n",
      "7/7 [==============================] - 0s 41ms/step - loss: 0.0055 - accuracy: 1.0000\n",
      "Epoch 7/20\n",
      "7/7 [==============================] - 0s 40ms/step - loss: 0.0031 - accuracy: 1.0000\n",
      "Epoch 8/20\n",
      "7/7 [==============================] - 0s 40ms/step - loss: 0.0020 - accuracy: 1.0000\n",
      "Epoch 9/20\n",
      "7/7 [==============================] - 0s 40ms/step - loss: 0.0017 - accuracy: 1.0000\n",
      "Epoch 10/20\n",
      "7/7 [==============================] - 0s 40ms/step - loss: 0.0013 - accuracy: 1.0000\n",
      "Epoch 11/20\n",
      "7/7 [==============================] - 0s 40ms/step - loss: 0.0011 - accuracy: 1.0000\n",
      "Epoch 12/20\n",
      "7/7 [==============================] - 0s 40ms/step - loss: 9.2771e-04 - accuracy: 1.0000\n",
      "Epoch 13/20\n",
      "7/7 [==============================] - 0s 46ms/step - loss: 7.6435e-04 - accuracy: 1.0000\n",
      "Epoch 14/20\n",
      "7/7 [==============================] - 0s 40ms/step - loss: 6.5504e-04 - accuracy: 1.0000\n",
      "Epoch 15/20\n",
      "7/7 [==============================] - 0s 41ms/step - loss: 5.4965e-04 - accuracy: 1.0000\n",
      "Epoch 16/20\n",
      "7/7 [==============================] - 0s 40ms/step - loss: 4.7178e-04 - accuracy: 1.0000\n",
      "Epoch 17/20\n",
      "7/7 [==============================] - 0s 40ms/step - loss: 3.9803e-04 - accuracy: 1.0000\n",
      "Epoch 18/20\n",
      "7/7 [==============================] - 0s 40ms/step - loss: 3.3478e-04 - accuracy: 1.0000\n",
      "Epoch 19/20\n",
      "7/7 [==============================] - 0s 40ms/step - loss: 2.7971e-04 - accuracy: 1.0000\n",
      "Epoch 20/20\n",
      "7/7 [==============================] - 0s 40ms/step - loss: 2.3698e-04 - accuracy: 1.0000\n",
      "Model: \"model_84\"\n",
      "_________________________________________________________________\n",
      " Layer (type)                Output Shape              Param #   \n",
      "=================================================================\n",
      " conv1_input (InputLayer)    [(None, 48, 48, 1)]       0         \n",
      "                                                                 \n",
      " conv1 (Conv2D)              (None, 24, 24, 32)        832       \n",
      "                                                                 \n",
      " conv2 (Conv2D)              (None, 12, 12, 64)        51264     \n",
      "                                                                 \n",
      " conv3 (Conv2D)              (None, 6, 6, 128)         73856     \n",
      "                                                                 \n",
      " flatten (Flatten)           (None, 4608)              0         \n",
      "                                                                 \n",
      " embedding (Dense)           (None, 10)                46090     \n",
      "                                                                 \n",
      "=================================================================\n",
      "Total params: 172,042\n",
      "Trainable params: 172,042\n",
      "Non-trainable params: 0\n",
      "_________________________________________________________________\n",
      "[0]\n",
      "The list of labels of the clusters are [0]\n"
     ]
    },
    {
     "ename": "IndexError",
     "evalue": "list index out of range",
     "output_type": "error",
     "traceback": [
      "\u001b[1;31m---------------------------------------------------------------------------\u001b[0m",
      "\u001b[1;31mIndexError\u001b[0m                                Traceback (most recent call last)",
      "\u001b[1;32mc:\\Users\\phili\\techlabs\\eth_sms\\clustering.ipynb Cell 11\u001b[0m in \u001b[0;36m<cell line: 1>\u001b[1;34m()\u001b[0m\n\u001b[0;32m    <a href='vscode-notebook-cell:/c%3A/Users/phili/techlabs/eth_sms/clustering.ipynb#Y153sZmlsZQ%3D%3D?line=103'>104</a>\u001b[0m \u001b[39mfor\u001b[39;00m n \u001b[39min\u001b[39;00m \u001b[39mrange\u001b[39m(G):\n\u001b[0;32m    <a href='vscode-notebook-cell:/c%3A/Users/phili/techlabs/eth_sms/clustering.ipynb#Y153sZmlsZQ%3D%3D?line=104'>105</a>\u001b[0m     label_count[n] \u001b[39m=\u001b[39m counter(Y_clust[n])\n\u001b[1;32m--> <a href='vscode-notebook-cell:/c%3A/Users/phili/techlabs/eth_sms/clustering.ipynb#Y153sZmlsZQ%3D%3D?line=106'>107</a>\u001b[0m label_count[\u001b[39m1\u001b[39;49m] \u001b[39m#Number of items of a certain category in cluster 1\u001b[39;00m\n\u001b[0;32m    <a href='vscode-notebook-cell:/c%3A/Users/phili/techlabs/eth_sms/clustering.ipynb#Y153sZmlsZQ%3D%3D?line=107'>108</a>\u001b[0m \u001b[39m#A function to plot a bar graph for visualising the number of items of certain category in a cluster\u001b[39;00m\n\u001b[0;32m    <a href='vscode-notebook-cell:/c%3A/Users/phili/techlabs/eth_sms/clustering.ipynb#Y153sZmlsZQ%3D%3D?line=108'>109</a>\u001b[0m \u001b[39mdef\u001b[39;00m \u001b[39mplotter\u001b[39m(label_dict):\n",
      "\u001b[1;31mIndexError\u001b[0m: list index out of range"
     ]
    }
   ],
   "source": [
    "for tx, lb in zip(txt, dt):\n",
    "        \n",
    "    df_merged, df_end = get_label(tx,lb)\n",
    "    # Change the name\n",
    "    frame = df_merged \n",
    "    frame.label = pd.np.where(frame.label == 'POSITION-UPRIGHT' ,' Aufrecht', frame.label)\n",
    "    frame.label = pd.np.where(frame.label == 'POSITION-SUPINE' ,' Rücken', frame.label)\n",
    "    frame.label = pd.np.where(frame.label == 'POSITION-LEFT' ,' Links', frame.label)\n",
    "    frame.label = pd.np.where(frame.label == 'POSITION-RIGHT',' Rechts', frame.label)\n",
    "    frame.label = pd.np.where(frame.label == 'POSITION-UNKNOWN',' A', frame.label)\n",
    "    frame.label = pd.np.where(frame.label == 'POSITION-PRONE',' Bauch', frame.label)\n",
    "    frame.label = pd.np.where(frame.label == 0,' Zeros', frame.label)\n",
    "    frame.label = pd.np.where(frame.label != ' Rücken',' Not Rücken', frame.label)\n",
    "    df_merged = frame\n",
    "    # Bring number of sample\n",
    "    num_img = 200\n",
    "    counts_col = df_merged.groupby(\"label\")[\"label\"].transform(len)\n",
    "    mask = (counts_col > int(num_img)) \n",
    "    df_merged = df_merged[mask]\n",
    "    sample = df_merged.groupby('label').sample(n=int(num_img),random_state=2).reset_index().drop(columns=['index'])\n",
    "    sample.label.unique()\n",
    "    sample.label = pd.np.where(sample.label == 0,' Zeros', sample.label)\n",
    "    sample.label = sample.label.astype('category')\n",
    "    sample.label = sample.label.cat.codes\n",
    "    \n",
    "    collect = []\n",
    "    for i in range(len(sample.pressure)):\n",
    "\n",
    "        img = sample.pressure[i]\n",
    "        img = cv2.resize(img, dsize=(48, 48), interpolation=cv2.INTER_CUBIC)\n",
    "        reshaped_img = img.reshape(48, 48, 1)\n",
    "        collect.append(reshaped_img)\n",
    "\n",
    "    collect = np.array(collect)\n",
    "    y = sample.label\n",
    "\n",
    "    def generate_data(X_train, y_train):\n",
    "\n",
    "        data = ImageDataGenerator(rotation_range=10, zoom_range = 0.1, width_shift_range=0.1, height_shift_range=0.1)  \n",
    "        data.fit(X_train)\n",
    "        data_generator = data.flow(X_train,y_train)\n",
    "        return data_generator\n",
    "\n",
    "    data_from_generator = generate_data(collect,y)\n",
    "    optimizer = keras.optimizers.Adam()\n",
    "    loss = keras.losses.mean_squared_error\n",
    "    model.compile(optimizer=optimizer, loss= loss, metrics=[\"accuracy\"])\n",
    "    model.fit_generator(data_from_generator,epochs = 20)\n",
    "    mm = keras.Model(inputs=model.input, outputs=model.output)\n",
    "    if tx[-10:-4]=='Events':\n",
    "        model.save(f\"{tx[-18:-4]}.h5\")\n",
    "    else:\n",
    "        model.save(f\"{tx[-22:-4]}.h5\")\n",
    "  \n",
    "    embdedded_model = keras.Model(inputs=model.input, outputs=model.get_layer(name=\"embedding\").output)\n",
    "    embdedded_model.summary()\n",
    "    features = embdedded_model.predict(collect)\n",
    "    Clus_dataSet =features\n",
    "    y_train = y\n",
    "    y = y_train\n",
    "    print(y.unique())\n",
    "    #n_clusters = number of unique value because INDEX has 10 values. Not the best value but a simple logic.\n",
    "    #The value of n_init at 30 yields good results so we will use it. For confirmation us the above code.\n",
    "    k_means = KMeans(init = \"k-means++\", n_clusters = y.nunique(), n_init = 30)\n",
    "    #fit the data to our k_means model\n",
    "    k_means.fit(Clus_dataSet)\n",
    "\n",
    "\n",
    "    k_means_labels = k_means.labels_ #List of labels of each dataset\n",
    "    print(\"The list of labels of the clusters are \" + str(np.unique(k_means_labels)))\n",
    "    G = len(np.unique(k_means_labels)) #Number of labels\n",
    "\n",
    "    #2D matrix  for an array of indexes of the given label\n",
    "    cluster_index= [[] for i in range(G)]\n",
    "    for i, label in enumerate(k_means_labels,0):\n",
    "        for n in range(G):\n",
    "            if label == n:\n",
    "                cluster_index[n].append(i)\n",
    "            else:\n",
    "                continue  \n",
    "\n",
    "    # # #Visualisation for clusters = clust\n",
    "    # plt.figure(figsize=(20,20));\n",
    "    # clust = y.nunique() #enter label number to visualise\n",
    "    # num = 100 #num of data to visualize from the cluster\n",
    "    # for i in range(1,num): \n",
    "    #     plt.subplot(10, 10, i); #(Number of rows, Number of column per row, item number)\n",
    "    #     plt.imshow(X[cluster_index[clust][i+1]].reshape(X_train.shape[1], X_train.shape[2]), cmap = plt.cm.binary);\n",
    "        \n",
    "    # plt.show()\n",
    "\n",
    "    Y_clust = [[] for i in range(G)]\n",
    "    for n in range(G):\n",
    "        Y_clust[n] = y[cluster_index[n]] #Y_clust[0] contains array of \"correct\" category from y_train for the cluster_index[0]\n",
    "        assert(len(Y_clust[n]) == len(cluster_index[n])) #dimension confirmation\n",
    "\n",
    "    #counts the number of each category in each cluster\n",
    "    def counter(cluster):\n",
    "        unique, counts = np.unique(cluster, return_counts=True)\n",
    "        label_index = dict(zip(unique, counts))\n",
    "        return label_index\n",
    "\n",
    "    label_count= [[] for i in range(G)]\n",
    "    for n in range(G):\n",
    "        label_count[n] = counter(Y_clust[n])\n",
    "\n",
    "    label_count[1] #Number of items of a certain category in cluster 1\n",
    "    #A function to plot a bar graph for visualising the number of items of certain category in a cluster\n",
    "    def plotter(label_dict):\n",
    "        plt.bar(range(len(label_dict)), list(label_dict.values()), align='center')\n",
    "        a = []\n",
    "        for i in [*label_dict]: a.append([i])\n",
    "        plt.xticks(range(len(label_dict)), list(a), rotation=45, rotation_mode='anchor')\n",
    "    #Bar graph with the number of items of different categories clustered in it\n",
    "    plt.figure(figsize=(20,20))\n",
    "    for i in range (1,(y.nunique())+1):\n",
    "        plt.subplot(4, 2, i)\n",
    "        plotter(label_count[i-1]) \n",
    "        plt.title(\"Cluster\" + str(i-1))\n",
    "    plt.show()"
   ]
  },
  {
   "cell_type": "markdown",
   "metadata": {},
   "source": [
    "Data Augmentation -> Feature Extraction -> KMeans"
   ]
  },
  {
   "cell_type": "code",
   "execution_count": 42,
   "metadata": {},
   "outputs": [
    {
     "name": "stdout",
     "output_type": "stream",
     "text": [
      "Epoch 1/20\n"
     ]
    },
    {
     "name": "stderr",
     "output_type": "stream",
     "text": [
      "C:\\Users\\phili\\AppData\\Local\\Temp\\ipykernel_21868\\1403657002.py:47: UserWarning: `Model.fit_generator` is deprecated and will be removed in a future version. Please use `Model.fit`, which supports generators.\n",
      "  model.fit_generator(data_from_generator,epochs = 20)\n"
     ]
    },
    {
     "name": "stdout",
     "output_type": "stream",
     "text": [
      "19/19 [==============================] - 2s 78ms/step - loss: 0.8299 - accuracy: 0.3333\n",
      "Epoch 2/20\n",
      "19/19 [==============================] - 1s 78ms/step - loss: 0.6904 - accuracy: 0.3333\n",
      "Epoch 3/20\n",
      "19/19 [==============================] - 1s 76ms/step - loss: 0.6688 - accuracy: 0.3333\n",
      "Epoch 4/20\n",
      "19/19 [==============================] - 1s 77ms/step - loss: 0.6695 - accuracy: 0.3333\n",
      "Epoch 5/20\n",
      "19/19 [==============================] - 2s 80ms/step - loss: 0.6678 - accuracy: 0.3333\n",
      "Epoch 6/20\n",
      "19/19 [==============================] - 1s 76ms/step - loss: 0.6683 - accuracy: 0.3333\n",
      "Epoch 7/20\n",
      "19/19 [==============================] - 1s 74ms/step - loss: 0.6702 - accuracy: 0.3333\n",
      "Epoch 8/20\n",
      "19/19 [==============================] - 1s 77ms/step - loss: 0.6774 - accuracy: 0.3333\n",
      "Epoch 9/20\n",
      "19/19 [==============================] - 1s 77ms/step - loss: 0.6736 - accuracy: 0.3333\n",
      "Epoch 10/20\n",
      "19/19 [==============================] - 1s 76ms/step - loss: 0.6683 - accuracy: 0.3333\n",
      "Epoch 11/20\n",
      "19/19 [==============================] - 2s 78ms/step - loss: 0.6675 - accuracy: 0.3333\n",
      "Epoch 12/20\n",
      "19/19 [==============================] - 1s 75ms/step - loss: 0.6698 - accuracy: 0.3333\n",
      "Epoch 13/20\n",
      "19/19 [==============================] - 2s 79ms/step - loss: 0.6681 - accuracy: 0.3333\n",
      "Epoch 14/20\n",
      "19/19 [==============================] - 2s 81ms/step - loss: 0.6703 - accuracy: 0.3333\n",
      "Epoch 15/20\n",
      "19/19 [==============================] - 2s 81ms/step - loss: 0.6685 - accuracy: 0.3333\n",
      "Epoch 16/20\n",
      "19/19 [==============================] - 1s 76ms/step - loss: 0.6687 - accuracy: 0.3333\n",
      "Epoch 17/20\n",
      "19/19 [==============================] - 1s 76ms/step - loss: 0.6684 - accuracy: 0.3333\n",
      "Epoch 18/20\n",
      "19/19 [==============================] - 1s 77ms/step - loss: 0.6684 - accuracy: 0.3333\n",
      "Epoch 19/20\n",
      "19/19 [==============================] - 1s 76ms/step - loss: 0.6684 - accuracy: 0.3333\n",
      "Epoch 20/20\n",
      "19/19 [==============================] - 1s 77ms/step - loss: 0.6699 - accuracy: 0.3333\n",
      "Model: \"model_42\"\n",
      "_________________________________________________________________\n",
      " Layer (type)                Output Shape              Param #   \n",
      "=================================================================\n",
      " conv1_input (InputLayer)    [(None, 48, 48, 1)]       0         \n",
      "                                                                 \n",
      " conv1 (Conv2D)              (None, 24, 24, 32)        832       \n",
      "                                                                 \n",
      " conv2 (Conv2D)              (None, 12, 12, 64)        51264     \n",
      "                                                                 \n",
      " conv3 (Conv2D)              (None, 6, 6, 128)         73856     \n",
      "                                                                 \n",
      " flatten (Flatten)           (None, 4608)              0         \n",
      "                                                                 \n",
      " embedding (Dense)           (None, 10)                46090     \n",
      "                                                                 \n",
      "=================================================================\n",
      "Total params: 172,042\n",
      "Trainable params: 172,042\n",
      "Non-trainable params: 0\n",
      "_________________________________________________________________\n",
      "[0 1 2]\n",
      "The list of labels of the clusters are [0 1 2]\n"
     ]
    },
    {
     "data": {
      "image/png": "[encoded data removed]",
      "text/plain": [
       "<Figure size 1440x1440 with 3 Axes>"
      ]
     },
     "metadata": {
      "needs_background": "light"
     },
     "output_type": "display_data"
    },
    {
     "name": "stdout",
     "output_type": "stream",
     "text": [
      "Epoch 1/20\n"
     ]
    },
    {
     "name": "stderr",
     "output_type": "stream",
     "text": [
      "C:\\Users\\phili\\AppData\\Local\\Temp\\ipykernel_21868\\1403657002.py:47: UserWarning: `Model.fit_generator` is deprecated and will be removed in a future version. Please use `Model.fit`, which supports generators.\n",
      "  model.fit_generator(data_from_generator,epochs = 20)\n"
     ]
    },
    {
     "name": "stdout",
     "output_type": "stream",
     "text": [
      "32/32 [==============================] - 2s 43ms/step - loss: 2.2396 - accuracy: 0.2000\n",
      "Epoch 2/20\n",
      "32/32 [==============================] - 1s 44ms/step - loss: 2.0149 - accuracy: 0.2000\n",
      "Epoch 3/20\n",
      "32/32 [==============================] - 1s 44ms/step - loss: 2.0161 - accuracy: 0.2000\n",
      "Epoch 4/20\n",
      "32/32 [==============================] - 1s 45ms/step - loss: 2.0081 - accuracy: 0.2000\n",
      "Epoch 5/20\n",
      "32/32 [==============================] - 1s 44ms/step - loss: 2.0122 - accuracy: 0.2000\n",
      "Epoch 6/20\n",
      "32/32 [==============================] - 1s 44ms/step - loss: 2.0193 - accuracy: 0.2000\n",
      "Epoch 7/20\n",
      "32/32 [==============================] - 1s 44ms/step - loss: 2.0059 - accuracy: 0.2000\n",
      "Epoch 8/20\n",
      "32/32 [==============================] - 1s 44ms/step - loss: 1.9946 - accuracy: 0.2000\n",
      "Epoch 9/20\n",
      "32/32 [==============================] - 1s 44ms/step - loss: 2.0205 - accuracy: 0.2000\n",
      "Epoch 10/20\n",
      "32/32 [==============================] - 1s 44ms/step - loss: 2.0095 - accuracy: 0.2000\n",
      "Epoch 11/20\n",
      "32/32 [==============================] - 1s 44ms/step - loss: 2.0097 - accuracy: 0.2000\n",
      "Epoch 12/20\n",
      "32/32 [==============================] - 1s 44ms/step - loss: 2.0082 - accuracy: 0.2000\n",
      "Epoch 13/20\n",
      "32/32 [==============================] - 1s 43ms/step - loss: 2.0447 - accuracy: 0.2000\n",
      "Epoch 14/20\n",
      "32/32 [==============================] - 1s 44ms/step - loss: 2.0191 - accuracy: 0.2000\n",
      "Epoch 15/20\n",
      "32/32 [==============================] - 1s 43ms/step - loss: 2.0120 - accuracy: 0.2000\n",
      "Epoch 16/20\n",
      "32/32 [==============================] - 1s 44ms/step - loss: 2.0114 - accuracy: 0.2000\n",
      "Epoch 17/20\n",
      "32/32 [==============================] - 1s 43ms/step - loss: 2.0056 - accuracy: 0.2000\n",
      "Epoch 18/20\n",
      "32/32 [==============================] - 1s 43ms/step - loss: 2.0057 - accuracy: 0.2000\n",
      "Epoch 19/20\n",
      "32/32 [==============================] - 1s 43ms/step - loss: 2.0072 - accuracy: 0.2000\n",
      "Epoch 20/20\n",
      "32/32 [==============================] - 1s 44ms/step - loss: 2.0088 - accuracy: 0.2000\n",
      "Model: \"model_44\"\n",
      "_________________________________________________________________\n",
      " Layer (type)                Output Shape              Param #   \n",
      "=================================================================\n",
      " conv1_input (InputLayer)    [(None, 48, 48, 1)]       0         \n",
      "                                                                 \n",
      " conv1 (Conv2D)              (None, 24, 24, 32)        832       \n",
      "                                                                 \n",
      " conv2 (Conv2D)              (None, 12, 12, 64)        51264     \n",
      "                                                                 \n",
      " conv3 (Conv2D)              (None, 6, 6, 128)         73856     \n",
      "                                                                 \n",
      " flatten (Flatten)           (None, 4608)              0         \n",
      "                                                                 \n",
      " embedding (Dense)           (None, 10)                46090     \n",
      "                                                                 \n",
      "=================================================================\n",
      "Total params: 172,042\n",
      "Trainable params: 172,042\n",
      "Non-trainable params: 0\n",
      "_________________________________________________________________\n",
      "[0 1 2 3 4]\n",
      "The list of labels of the clusters are [0 1 2 3 4]\n"
     ]
    },
    {
     "data": {
      "image/png": "[encoded data removed]",
      "text/plain": [
       "<Figure size 1440x1440 with 5 Axes>"
      ]
     },
     "metadata": {
      "needs_background": "light"
     },
     "output_type": "display_data"
    },
    {
     "name": "stdout",
     "output_type": "stream",
     "text": [
      "Epoch 1/20\n"
     ]
    },
    {
     "name": "stderr",
     "output_type": "stream",
     "text": [
      "C:\\Users\\phili\\AppData\\Local\\Temp\\ipykernel_21868\\1403657002.py:47: UserWarning: `Model.fit_generator` is deprecated and will be removed in a future version. Please use `Model.fit`, which supports generators.\n",
      "  model.fit_generator(data_from_generator,epochs = 20)\n"
     ]
    },
    {
     "name": "stdout",
     "output_type": "stream",
     "text": [
      "32/32 [==============================] - 2s 44ms/step - loss: 2.0050 - accuracy: 0.2000\n",
      "Epoch 2/20\n",
      "32/32 [==============================] - 1s 44ms/step - loss: 2.0231 - accuracy: 0.2000\n",
      "Epoch 3/20\n",
      "32/32 [==============================] - 1s 45ms/step - loss: 2.0079 - accuracy: 0.2000\n",
      "Epoch 4/20\n",
      "32/32 [==============================] - 1s 44ms/step - loss: 2.0142 - accuracy: 0.2000\n",
      "Epoch 5/20\n",
      "32/32 [==============================] - 1s 43ms/step - loss: 2.0177 - accuracy: 0.2000\n",
      "Epoch 6/20\n",
      "32/32 [==============================] - 1s 44ms/step - loss: 2.0078 - accuracy: 0.2000\n",
      "Epoch 7/20\n",
      "32/32 [==============================] - 1s 43ms/step - loss: 2.0276 - accuracy: 0.2000\n",
      "Epoch 8/20\n",
      "32/32 [==============================] - 1s 43ms/step - loss: 2.0323 - accuracy: 0.2000\n",
      "Epoch 9/20\n",
      "32/32 [==============================] - 1s 44ms/step - loss: 2.0240 - accuracy: 0.2000\n",
      "Epoch 10/20\n",
      "32/32 [==============================] - 1s 44ms/step - loss: 2.0050 - accuracy: 0.2000\n",
      "Epoch 11/20\n",
      "32/32 [==============================] - 1s 44ms/step - loss: 2.0108 - accuracy: 0.2000\n",
      "Epoch 12/20\n",
      "32/32 [==============================] - 1s 44ms/step - loss: 2.0080 - accuracy: 0.2000\n",
      "Epoch 13/20\n",
      "32/32 [==============================] - 1s 44ms/step - loss: 2.0056 - accuracy: 0.2000\n",
      "Epoch 14/20\n",
      "32/32 [==============================] - 1s 44ms/step - loss: 2.0182 - accuracy: 0.2000\n",
      "Epoch 15/20\n",
      "32/32 [==============================] - 1s 43ms/step - loss: 2.0132 - accuracy: 0.2000\n",
      "Epoch 16/20\n",
      "32/32 [==============================] - 1s 45ms/step - loss: 2.0068 - accuracy: 0.2000\n",
      "Epoch 17/20\n",
      "32/32 [==============================] - 1s 44ms/step - loss: 2.0134 - accuracy: 0.2000\n",
      "Epoch 18/20\n",
      "32/32 [==============================] - 1s 44ms/step - loss: 2.0150 - accuracy: 0.2000\n",
      "Epoch 19/20\n",
      "32/32 [==============================] - 1s 44ms/step - loss: 2.0255 - accuracy: 0.2000\n",
      "Epoch 20/20\n",
      "32/32 [==============================] - 1s 44ms/step - loss: 2.0084 - accuracy: 0.2000\n",
      "Model: \"model_46\"\n",
      "_________________________________________________________________\n",
      " Layer (type)                Output Shape              Param #   \n",
      "=================================================================\n",
      " conv1_input (InputLayer)    [(None, 48, 48, 1)]       0         \n",
      "                                                                 \n",
      " conv1 (Conv2D)              (None, 24, 24, 32)        832       \n",
      "                                                                 \n",
      " conv2 (Conv2D)              (None, 12, 12, 64)        51264     \n",
      "                                                                 \n",
      " conv3 (Conv2D)              (None, 6, 6, 128)         73856     \n",
      "                                                                 \n",
      " flatten (Flatten)           (None, 4608)              0         \n",
      "                                                                 \n",
      " embedding (Dense)           (None, 10)                46090     \n",
      "                                                                 \n",
      "=================================================================\n",
      "Total params: 172,042\n",
      "Trainable params: 172,042\n",
      "Non-trainable params: 0\n",
      "_________________________________________________________________\n",
      "[0 1 2 3 4]\n",
      "The list of labels of the clusters are [0 1 2 3 4]\n"
     ]
    },
    {
     "data": {
      "image/png": "[encoded data removed]",
      "text/plain": [
       "<Figure size 1440x1440 with 5 Axes>"
      ]
     },
     "metadata": {
      "needs_background": "light"
     },
     "output_type": "display_data"
    },
    {
     "name": "stdout",
     "output_type": "stream",
     "text": [
      "Epoch 1/20\n"
     ]
    },
    {
     "name": "stderr",
     "output_type": "stream",
     "text": [
      "C:\\Users\\phili\\AppData\\Local\\Temp\\ipykernel_21868\\1403657002.py:47: UserWarning: `Model.fit_generator` is deprecated and will be removed in a future version. Please use `Model.fit`, which supports generators.\n",
      "  model.fit_generator(data_from_generator,epochs = 20)\n"
     ]
    },
    {
     "name": "stdout",
     "output_type": "stream",
     "text": [
      "25/25 [==============================] - 2s 44ms/step - loss: 1.2856 - accuracy: 0.2500\n",
      "Epoch 2/20\n",
      "25/25 [==============================] - 1s 45ms/step - loss: 1.2584 - accuracy: 0.2500\n",
      "Epoch 3/20\n",
      "25/25 [==============================] - 1s 45ms/step - loss: 1.2528 - accuracy: 0.2500\n",
      "Epoch 4/20\n",
      "25/25 [==============================] - 1s 45ms/step - loss: 1.2648 - accuracy: 0.2500\n",
      "Epoch 5/20\n",
      "25/25 [==============================] - 1s 46ms/step - loss: 1.2563 - accuracy: 0.2500\n",
      "Epoch 6/20\n",
      "25/25 [==============================] - 1s 45ms/step - loss: 1.2546 - accuracy: 0.2500\n",
      "Epoch 7/20\n",
      "25/25 [==============================] - 1s 45ms/step - loss: 1.2512 - accuracy: 0.2500\n",
      "Epoch 8/20\n",
      "25/25 [==============================] - 1s 45ms/step - loss: 1.2550 - accuracy: 0.2500\n",
      "Epoch 9/20\n",
      "25/25 [==============================] - 1s 45ms/step - loss: 1.2574 - accuracy: 0.2500\n",
      "Epoch 10/20\n",
      "25/25 [==============================] - 1s 45ms/step - loss: 1.2606 - accuracy: 0.2500\n",
      "Epoch 11/20\n",
      "25/25 [==============================] - 1s 45ms/step - loss: 1.2635 - accuracy: 0.2500\n",
      "Epoch 12/20\n",
      "25/25 [==============================] - 1s 44ms/step - loss: 1.2499 - accuracy: 0.2500\n",
      "Epoch 13/20\n",
      "25/25 [==============================] - 1s 45ms/step - loss: 1.2600 - accuracy: 0.2500\n",
      "Epoch 14/20\n",
      "25/25 [==============================] - 1s 44ms/step - loss: 1.2603 - accuracy: 0.2500\n",
      "Epoch 15/20\n",
      "25/25 [==============================] - 1s 44ms/step - loss: 1.2599 - accuracy: 0.2500\n",
      "Epoch 16/20\n",
      "25/25 [==============================] - 1s 46ms/step - loss: 1.2543 - accuracy: 0.2500\n",
      "Epoch 17/20\n",
      "25/25 [==============================] - 1s 44ms/step - loss: 1.2520 - accuracy: 0.2500\n",
      "Epoch 18/20\n",
      "25/25 [==============================] - 1s 45ms/step - loss: 1.2532 - accuracy: 0.2500\n",
      "Epoch 19/20\n",
      "25/25 [==============================] - 1s 44ms/step - loss: 1.2563 - accuracy: 0.2500\n",
      "Epoch 20/20\n",
      "25/25 [==============================] - 1s 45ms/step - loss: 1.2587 - accuracy: 0.2500\n",
      "Model: \"model_48\"\n",
      "_________________________________________________________________\n",
      " Layer (type)                Output Shape              Param #   \n",
      "=================================================================\n",
      " conv1_input (InputLayer)    [(None, 48, 48, 1)]       0         \n",
      "                                                                 \n",
      " conv1 (Conv2D)              (None, 24, 24, 32)        832       \n",
      "                                                                 \n",
      " conv2 (Conv2D)              (None, 12, 12, 64)        51264     \n",
      "                                                                 \n",
      " conv3 (Conv2D)              (None, 6, 6, 128)         73856     \n",
      "                                                                 \n",
      " flatten (Flatten)           (None, 4608)              0         \n",
      "                                                                 \n",
      " embedding (Dense)           (None, 10)                46090     \n",
      "                                                                 \n",
      "=================================================================\n",
      "Total params: 172,042\n",
      "Trainable params: 172,042\n",
      "Non-trainable params: 0\n",
      "_________________________________________________________________\n",
      "[0 1 2 3]\n",
      "The list of labels of the clusters are [0 1 2 3]\n"
     ]
    },
    {
     "data": {
      "image/png": "[encoded data removed]",
      "text/plain": [
       "<Figure size 1440x1440 with 4 Axes>"
      ]
     },
     "metadata": {
      "needs_background": "light"
     },
     "output_type": "display_data"
    },
    {
     "name": "stdout",
     "output_type": "stream",
     "text": [
      "Epoch 1/20\n"
     ]
    },
    {
     "name": "stderr",
     "output_type": "stream",
     "text": [
      "C:\\Users\\phili\\AppData\\Local\\Temp\\ipykernel_21868\\1403657002.py:47: UserWarning: `Model.fit_generator` is deprecated and will be removed in a future version. Please use `Model.fit`, which supports generators.\n",
      "  model.fit_generator(data_from_generator,epochs = 20)\n"
     ]
    },
    {
     "name": "stdout",
     "output_type": "stream",
     "text": [
      "19/19 [==============================] - 1s 49ms/step - loss: 0.7452 - accuracy: 0.3333\n",
      "Epoch 2/20\n",
      "19/19 [==============================] - 1s 44ms/step - loss: 0.6726 - accuracy: 0.3333\n",
      "Epoch 3/20\n",
      "19/19 [==============================] - 1s 45ms/step - loss: 0.6664 - accuracy: 0.3333\n",
      "Epoch 4/20\n",
      "19/19 [==============================] - 1s 44ms/step - loss: 0.6689 - accuracy: 0.3333\n",
      "Epoch 5/20\n",
      "19/19 [==============================] - 1s 45ms/step - loss: 0.6673 - accuracy: 0.3333\n",
      "Epoch 6/20\n",
      "19/19 [==============================] - 1s 44ms/step - loss: 0.6690 - accuracy: 0.3333\n",
      "Epoch 7/20\n",
      "19/19 [==============================] - 1s 44ms/step - loss: 0.6697 - accuracy: 0.3333\n",
      "Epoch 8/20\n",
      "19/19 [==============================] - 1s 43ms/step - loss: 0.6686 - accuracy: 0.3333\n",
      "Epoch 9/20\n",
      "19/19 [==============================] - 1s 43ms/step - loss: 0.6713 - accuracy: 0.3333\n",
      "Epoch 10/20\n",
      "19/19 [==============================] - 1s 44ms/step - loss: 0.6685 - accuracy: 0.3333\n",
      "Epoch 11/20\n",
      "19/19 [==============================] - 1s 44ms/step - loss: 0.6700 - accuracy: 0.3333\n",
      "Epoch 12/20\n",
      "19/19 [==============================] - 1s 44ms/step - loss: 0.6693 - accuracy: 0.3333\n",
      "Epoch 13/20\n",
      "19/19 [==============================] - 1s 45ms/step - loss: 0.6675 - accuracy: 0.3333\n",
      "Epoch 14/20\n",
      "19/19 [==============================] - 1s 44ms/step - loss: 0.6713 - accuracy: 0.3333\n",
      "Epoch 15/20\n",
      "19/19 [==============================] - 1s 45ms/step - loss: 0.6690 - accuracy: 0.3333\n",
      "Epoch 16/20\n",
      "19/19 [==============================] - 1s 44ms/step - loss: 0.6674 - accuracy: 0.3333\n",
      "Epoch 17/20\n",
      "19/19 [==============================] - 1s 44ms/step - loss: 0.6681 - accuracy: 0.3333\n",
      "Epoch 18/20\n",
      "19/19 [==============================] - 1s 44ms/step - loss: 0.6675 - accuracy: 0.3333\n",
      "Epoch 19/20\n",
      "19/19 [==============================] - 1s 44ms/step - loss: 0.6696 - accuracy: 0.3333\n",
      "Epoch 20/20\n",
      "19/19 [==============================] - 1s 44ms/step - loss: 0.6675 - accuracy: 0.3333\n",
      "Model: \"model_50\"\n",
      "_________________________________________________________________\n",
      " Layer (type)                Output Shape              Param #   \n",
      "=================================================================\n",
      " conv1_input (InputLayer)    [(None, 48, 48, 1)]       0         \n",
      "                                                                 \n",
      " conv1 (Conv2D)              (None, 24, 24, 32)        832       \n",
      "                                                                 \n",
      " conv2 (Conv2D)              (None, 12, 12, 64)        51264     \n",
      "                                                                 \n",
      " conv3 (Conv2D)              (None, 6, 6, 128)         73856     \n",
      "                                                                 \n",
      " flatten (Flatten)           (None, 4608)              0         \n",
      "                                                                 \n",
      " embedding (Dense)           (None, 10)                46090     \n",
      "                                                                 \n",
      "=================================================================\n",
      "Total params: 172,042\n",
      "Trainable params: 172,042\n",
      "Non-trainable params: 0\n",
      "_________________________________________________________________\n",
      "[0 1 2]\n",
      "The list of labels of the clusters are [0 1 2]\n"
     ]
    },
    {
     "data": {
      "image/png": "[encoded data removed]",
      "text/plain": [
       "<Figure size 1440x1440 with 3 Axes>"
      ]
     },
     "metadata": {
      "needs_background": "light"
     },
     "output_type": "display_data"
    },
    {
     "name": "stdout",
     "output_type": "stream",
     "text": [
      "Epoch 1/20\n"
     ]
    },
    {
     "name": "stderr",
     "output_type": "stream",
     "text": [
      "C:\\Users\\phili\\AppData\\Local\\Temp\\ipykernel_21868\\1403657002.py:47: UserWarning: `Model.fit_generator` is deprecated and will be removed in a future version. Please use `Model.fit`, which supports generators.\n",
      "  model.fit_generator(data_from_generator,epochs = 20)\n"
     ]
    },
    {
     "name": "stdout",
     "output_type": "stream",
     "text": [
      "13/13 [==============================] - 1s 44ms/step - loss: 0.3398 - accuracy: 0.5000\n",
      "Epoch 2/20\n",
      "13/13 [==============================] - 1s 45ms/step - loss: 0.2553 - accuracy: 0.4972\n",
      "Epoch 3/20\n",
      "13/13 [==============================] - 1s 45ms/step - loss: 0.2530 - accuracy: 0.4998\n",
      "Epoch 4/20\n",
      "13/13 [==============================] - 1s 43ms/step - loss: 0.2518 - accuracy: 0.4993\n",
      "Epoch 5/20\n",
      "13/13 [==============================] - 1s 45ms/step - loss: 0.2507 - accuracy: 0.4982\n",
      "Epoch 6/20\n",
      "13/13 [==============================] - 1s 43ms/step - loss: 0.2505 - accuracy: 0.4913\n",
      "Epoch 7/20\n",
      "13/13 [==============================] - 1s 43ms/step - loss: 0.2502 - accuracy: 0.4968\n",
      "Epoch 8/20\n",
      "13/13 [==============================] - 1s 42ms/step - loss: 0.2504 - accuracy: 0.4898\n",
      "Epoch 9/20\n",
      "13/13 [==============================] - 1s 44ms/step - loss: 0.2505 - accuracy: 0.4955\n",
      "Epoch 10/20\n",
      "13/13 [==============================] - 1s 43ms/step - loss: 0.2516 - accuracy: 0.4564\n",
      "Epoch 11/20\n",
      "13/13 [==============================] - 1s 42ms/step - loss: 0.2503 - accuracy: 0.4884\n",
      "Epoch 12/20\n",
      "13/13 [==============================] - 1s 42ms/step - loss: 0.2502 - accuracy: 0.4858\n",
      "Epoch 13/20\n",
      "13/13 [==============================] - 1s 43ms/step - loss: 0.2502 - accuracy: 0.4963\n",
      "Epoch 14/20\n",
      "13/13 [==============================] - 1s 42ms/step - loss: 0.2501 - accuracy: 0.4938\n",
      "Epoch 15/20\n",
      "13/13 [==============================] - 1s 43ms/step - loss: 0.2504 - accuracy: 0.4787\n",
      "Epoch 16/20\n",
      "13/13 [==============================] - 1s 43ms/step - loss: 0.2502 - accuracy: 0.4935\n",
      "Epoch 17/20\n",
      "13/13 [==============================] - 1s 42ms/step - loss: 0.2503 - accuracy: 0.4798\n",
      "Epoch 18/20\n",
      "13/13 [==============================] - 1s 42ms/step - loss: 0.2506 - accuracy: 0.4822\n",
      "Epoch 19/20\n",
      "13/13 [==============================] - 1s 43ms/step - loss: 0.2502 - accuracy: 0.4899\n",
      "Epoch 20/20\n",
      "13/13 [==============================] - 1s 43ms/step - loss: 0.2504 - accuracy: 0.4770\n",
      "Model: \"model_52\"\n",
      "_________________________________________________________________\n",
      " Layer (type)                Output Shape              Param #   \n",
      "=================================================================\n",
      " conv1_input (InputLayer)    [(None, 48, 48, 1)]       0         \n",
      "                                                                 \n",
      " conv1 (Conv2D)              (None, 24, 24, 32)        832       \n",
      "                                                                 \n",
      " conv2 (Conv2D)              (None, 12, 12, 64)        51264     \n",
      "                                                                 \n",
      " conv3 (Conv2D)              (None, 6, 6, 128)         73856     \n",
      "                                                                 \n",
      " flatten (Flatten)           (None, 4608)              0         \n",
      "                                                                 \n",
      " embedding (Dense)           (None, 10)                46090     \n",
      "                                                                 \n",
      "=================================================================\n",
      "Total params: 172,042\n",
      "Trainable params: 172,042\n",
      "Non-trainable params: 0\n",
      "_________________________________________________________________\n",
      "[0 1]\n",
      "The list of labels of the clusters are [0 1]\n"
     ]
    },
    {
     "data": {
      "image/png": "[encoded data removed]",
      "text/plain": [
       "<Figure size 1440x1440 with 2 Axes>"
      ]
     },
     "metadata": {
      "needs_background": "light"
     },
     "output_type": "display_data"
    },
    {
     "name": "stdout",
     "output_type": "stream",
     "text": [
      "Epoch 1/20\n"
     ]
    },
    {
     "name": "stderr",
     "output_type": "stream",
     "text": [
      "C:\\Users\\phili\\AppData\\Local\\Temp\\ipykernel_21868\\1403657002.py:47: UserWarning: `Model.fit_generator` is deprecated and will be removed in a future version. Please use `Model.fit`, which supports generators.\n",
      "  model.fit_generator(data_from_generator,epochs = 20)\n"
     ]
    },
    {
     "name": "stdout",
     "output_type": "stream",
     "text": [
      "32/32 [==============================] - 2s 44ms/step - loss: 3.0732 - accuracy: 0.1980\n",
      "Epoch 2/20\n",
      "32/32 [==============================] - 1s 43ms/step - loss: 2.0591 - accuracy: 0.2000\n",
      "Epoch 3/20\n",
      "32/32 [==============================] - 1s 44ms/step - loss: 2.0198 - accuracy: 0.2000\n",
      "Epoch 4/20\n",
      "32/32 [==============================] - 1s 43ms/step - loss: 2.0102 - accuracy: 0.2000\n",
      "Epoch 5/20\n",
      "32/32 [==============================] - 1s 44ms/step - loss: 2.0097 - accuracy: 0.2000\n",
      "Epoch 6/20\n",
      "32/32 [==============================] - 1s 44ms/step - loss: 2.0193 - accuracy: 0.2000\n",
      "Epoch 7/20\n",
      "32/32 [==============================] - 1s 44ms/step - loss: 2.0093 - accuracy: 0.2000\n",
      "Epoch 8/20\n",
      "32/32 [==============================] - 1s 44ms/step - loss: 2.0102 - accuracy: 0.2000\n",
      "Epoch 9/20\n",
      "32/32 [==============================] - 1s 44ms/step - loss: 2.0046 - accuracy: 0.2000\n",
      "Epoch 10/20\n",
      "32/32 [==============================] - 1s 44ms/step - loss: 2.0059 - accuracy: 0.2000\n",
      "Epoch 11/20\n",
      "32/32 [==============================] - 1s 43ms/step - loss: 2.0036 - accuracy: 0.2000\n",
      "Epoch 12/20\n",
      "32/32 [==============================] - 1s 43ms/step - loss: 2.0148 - accuracy: 0.2000\n",
      "Epoch 13/20\n",
      "32/32 [==============================] - 1s 43ms/step - loss: 2.0020 - accuracy: 0.2000\n",
      "Epoch 14/20\n",
      "32/32 [==============================] - 1s 43ms/step - loss: 2.0095 - accuracy: 0.2000\n",
      "Epoch 15/20\n",
      "32/32 [==============================] - 1s 43ms/step - loss: 2.0121 - accuracy: 0.2000\n",
      "Epoch 16/20\n",
      "32/32 [==============================] - 1s 44ms/step - loss: 2.0151 - accuracy: 0.2000\n",
      "Epoch 17/20\n",
      "32/32 [==============================] - 1s 44ms/step - loss: 2.0340 - accuracy: 0.2000\n",
      "Epoch 18/20\n",
      "32/32 [==============================] - 1s 44ms/step - loss: 2.0058 - accuracy: 0.2000\n",
      "Epoch 19/20\n",
      "32/32 [==============================] - 1s 43ms/step - loss: 2.0029 - accuracy: 0.2000\n",
      "Epoch 20/20\n",
      "32/32 [==============================] - 1s 44ms/step - loss: 2.0120 - accuracy: 0.2000\n",
      "Model: \"model_54\"\n",
      "_________________________________________________________________\n",
      " Layer (type)                Output Shape              Param #   \n",
      "=================================================================\n",
      " conv1_input (InputLayer)    [(None, 48, 48, 1)]       0         \n",
      "                                                                 \n",
      " conv1 (Conv2D)              (None, 24, 24, 32)        832       \n",
      "                                                                 \n",
      " conv2 (Conv2D)              (None, 12, 12, 64)        51264     \n",
      "                                                                 \n",
      " conv3 (Conv2D)              (None, 6, 6, 128)         73856     \n",
      "                                                                 \n",
      " flatten (Flatten)           (None, 4608)              0         \n",
      "                                                                 \n",
      " embedding (Dense)           (None, 10)                46090     \n",
      "                                                                 \n",
      "=================================================================\n",
      "Total params: 172,042\n",
      "Trainable params: 172,042\n",
      "Non-trainable params: 0\n",
      "_________________________________________________________________\n",
      "[0 1 2 3 4]\n",
      "The list of labels of the clusters are [0 1 2 3 4]\n"
     ]
    },
    {
     "data": {
      "image/png": "[encoded data removed]",
      "text/plain": [
       "<Figure size 1440x1440 with 5 Axes>"
      ]
     },
     "metadata": {
      "needs_background": "light"
     },
     "output_type": "display_data"
    },
    {
     "name": "stdout",
     "output_type": "stream",
     "text": [
      "Epoch 1/20\n"
     ]
    },
    {
     "name": "stderr",
     "output_type": "stream",
     "text": [
      "C:\\Users\\phili\\AppData\\Local\\Temp\\ipykernel_21868\\1403657002.py:47: UserWarning: `Model.fit_generator` is deprecated and will be removed in a future version. Please use `Model.fit`, which supports generators.\n",
      "  model.fit_generator(data_from_generator,epochs = 20)\n"
     ]
    },
    {
     "name": "stdout",
     "output_type": "stream",
     "text": [
      "25/25 [==============================] - 2s 46ms/step - loss: 1.3099 - accuracy: 0.2500\n",
      "Epoch 2/20\n",
      "25/25 [==============================] - 1s 44ms/step - loss: 1.2571 - accuracy: 0.2500\n",
      "Epoch 3/20\n",
      "25/25 [==============================] - 1s 45ms/step - loss: 1.2532 - accuracy: 0.2500\n",
      "Epoch 4/20\n",
      "25/25 [==============================] - 1s 45ms/step - loss: 1.2601 - accuracy: 0.2500\n",
      "Epoch 5/20\n",
      "25/25 [==============================] - 1s 45ms/step - loss: 1.2588 - accuracy: 0.2500\n",
      "Epoch 6/20\n",
      "25/25 [==============================] - 1s 44ms/step - loss: 1.2546 - accuracy: 0.2500\n",
      "Epoch 7/20\n",
      "25/25 [==============================] - 1s 45ms/step - loss: 1.2562 - accuracy: 0.2500\n",
      "Epoch 8/20\n",
      "25/25 [==============================] - 1s 45ms/step - loss: 1.2548 - accuracy: 0.2500\n",
      "Epoch 9/20\n",
      "25/25 [==============================] - 1s 44ms/step - loss: 1.2543 - accuracy: 0.2500\n",
      "Epoch 10/20\n",
      "25/25 [==============================] - 1s 45ms/step - loss: 1.2521 - accuracy: 0.2500\n",
      "Epoch 11/20\n",
      "25/25 [==============================] - 1s 45ms/step - loss: 1.2534 - accuracy: 0.2500\n",
      "Epoch 12/20\n",
      "25/25 [==============================] - 1s 44ms/step - loss: 1.2529 - accuracy: 0.2500\n",
      "Epoch 13/20\n",
      "25/25 [==============================] - 1s 44ms/step - loss: 1.2530 - accuracy: 0.2500\n",
      "Epoch 14/20\n",
      "25/25 [==============================] - 1s 45ms/step - loss: 1.2538 - accuracy: 0.2500\n",
      "Epoch 15/20\n",
      "25/25 [==============================] - 1s 45ms/step - loss: 1.2567 - accuracy: 0.2500\n",
      "Epoch 16/20\n",
      "25/25 [==============================] - 1s 45ms/step - loss: 1.2598 - accuracy: 0.2500\n",
      "Epoch 17/20\n",
      "25/25 [==============================] - 1s 45ms/step - loss: 1.2536 - accuracy: 0.2500\n",
      "Epoch 18/20\n",
      "25/25 [==============================] - 1s 45ms/step - loss: 1.2581 - accuracy: 0.2500\n",
      "Epoch 19/20\n",
      "25/25 [==============================] - 1s 46ms/step - loss: 1.2519 - accuracy: 0.2500\n",
      "Epoch 20/20\n",
      "25/25 [==============================] - 1s 45ms/step - loss: 1.2534 - accuracy: 0.2500\n",
      "Model: \"model_56\"\n",
      "_________________________________________________________________\n",
      " Layer (type)                Output Shape              Param #   \n",
      "=================================================================\n",
      " conv1_input (InputLayer)    [(None, 48, 48, 1)]       0         \n",
      "                                                                 \n",
      " conv1 (Conv2D)              (None, 24, 24, 32)        832       \n",
      "                                                                 \n",
      " conv2 (Conv2D)              (None, 12, 12, 64)        51264     \n",
      "                                                                 \n",
      " conv3 (Conv2D)              (None, 6, 6, 128)         73856     \n",
      "                                                                 \n",
      " flatten (Flatten)           (None, 4608)              0         \n",
      "                                                                 \n",
      " embedding (Dense)           (None, 10)                46090     \n",
      "                                                                 \n",
      "=================================================================\n",
      "Total params: 172,042\n",
      "Trainable params: 172,042\n",
      "Non-trainable params: 0\n",
      "_________________________________________________________________\n",
      "[0 1 2 3]\n",
      "The list of labels of the clusters are [0 1 2 3]\n"
     ]
    },
    {
     "data": {
      "image/png": "[encoded data removed]",
      "text/plain": [
       "<Figure size 1440x1440 with 4 Axes>"
      ]
     },
     "metadata": {
      "needs_background": "light"
     },
     "output_type": "display_data"
    },
    {
     "name": "stdout",
     "output_type": "stream",
     "text": [
      "Epoch 1/20\n"
     ]
    },
    {
     "name": "stderr",
     "output_type": "stream",
     "text": [
      "C:\\Users\\phili\\AppData\\Local\\Temp\\ipykernel_21868\\1403657002.py:47: UserWarning: `Model.fit_generator` is deprecated and will be removed in a future version. Please use `Model.fit`, which supports generators.\n",
      "  model.fit_generator(data_from_generator,epochs = 20)\n"
     ]
    },
    {
     "name": "stdout",
     "output_type": "stream",
     "text": [
      "13/13 [==============================] - 1s 43ms/step - loss: 0.7285 - accuracy: 0.5000\n",
      "Epoch 2/20\n",
      "13/13 [==============================] - 1s 43ms/step - loss: 0.2814 - accuracy: 0.5087\n",
      "Epoch 3/20\n",
      "13/13 [==============================] - 1s 43ms/step - loss: 0.2576 - accuracy: 0.4921\n",
      "Epoch 4/20\n",
      "13/13 [==============================] - 1s 43ms/step - loss: 0.2539 - accuracy: 0.4909\n",
      "Epoch 5/20\n",
      "13/13 [==============================] - 1s 43ms/step - loss: 0.2513 - accuracy: 0.5023\n",
      "Epoch 6/20\n",
      "13/13 [==============================] - 1s 45ms/step - loss: 0.2511 - accuracy: 0.4998\n",
      "Epoch 7/20\n",
      "13/13 [==============================] - 1s 43ms/step - loss: 0.2509 - accuracy: 0.4990\n",
      "Epoch 8/20\n",
      "13/13 [==============================] - 1s 43ms/step - loss: 0.2506 - accuracy: 0.5007\n",
      "Epoch 9/20\n",
      "13/13 [==============================] - 1s 43ms/step - loss: 0.2504 - accuracy: 0.5018\n",
      "Epoch 10/20\n",
      "13/13 [==============================] - 1s 44ms/step - loss: 0.2520 - accuracy: 0.4811\n",
      "Epoch 11/20\n",
      "13/13 [==============================] - 1s 43ms/step - loss: 0.2504 - accuracy: 0.5036\n",
      "Epoch 12/20\n",
      "13/13 [==============================] - 1s 43ms/step - loss: 0.2506 - accuracy: 0.4981\n",
      "Epoch 13/20\n",
      "13/13 [==============================] - 1s 42ms/step - loss: 0.2505 - accuracy: 0.4986\n",
      "Epoch 14/20\n",
      "13/13 [==============================] - 1s 43ms/step - loss: 0.2505 - accuracy: 0.4978\n",
      "Epoch 15/20\n",
      "13/13 [==============================] - 1s 42ms/step - loss: 0.2502 - accuracy: 0.5043\n",
      "Epoch 16/20\n",
      "13/13 [==============================] - 1s 43ms/step - loss: 0.2502 - accuracy: 0.5020\n",
      "Epoch 17/20\n",
      "13/13 [==============================] - 1s 43ms/step - loss: 0.2504 - accuracy: 0.4992\n",
      "Epoch 18/20\n",
      "13/13 [==============================] - 1s 43ms/step - loss: 0.2503 - accuracy: 0.4996\n",
      "Epoch 19/20\n",
      "13/13 [==============================] - 1s 43ms/step - loss: 0.2502 - accuracy: 0.5027\n",
      "Epoch 20/20\n",
      "13/13 [==============================] - 1s 43ms/step - loss: 0.2503 - accuracy: 0.5011\n",
      "Model: \"model_58\"\n",
      "_________________________________________________________________\n",
      " Layer (type)                Output Shape              Param #   \n",
      "=================================================================\n",
      " conv1_input (InputLayer)    [(None, 48, 48, 1)]       0         \n",
      "                                                                 \n",
      " conv1 (Conv2D)              (None, 24, 24, 32)        832       \n",
      "                                                                 \n",
      " conv2 (Conv2D)              (None, 12, 12, 64)        51264     \n",
      "                                                                 \n",
      " conv3 (Conv2D)              (None, 6, 6, 128)         73856     \n",
      "                                                                 \n",
      " flatten (Flatten)           (None, 4608)              0         \n",
      "                                                                 \n",
      " embedding (Dense)           (None, 10)                46090     \n",
      "                                                                 \n",
      "=================================================================\n",
      "Total params: 172,042\n",
      "Trainable params: 172,042\n",
      "Non-trainable params: 0\n",
      "_________________________________________________________________\n",
      "[0 1]\n",
      "The list of labels of the clusters are [0 1]\n"
     ]
    },
    {
     "data": {
      "image/png": "[encoded data removed]",
      "text/plain": [
       "<Figure size 1440x1440 with 2 Axes>"
      ]
     },
     "metadata": {
      "needs_background": "light"
     },
     "output_type": "display_data"
    },
    {
     "name": "stdout",
     "output_type": "stream",
     "text": [
      "Epoch 1/20\n"
     ]
    },
    {
     "name": "stderr",
     "output_type": "stream",
     "text": [
      "C:\\Users\\phili\\AppData\\Local\\Temp\\ipykernel_21868\\1403657002.py:47: UserWarning: `Model.fit_generator` is deprecated and will be removed in a future version. Please use `Model.fit`, which supports generators.\n",
      "  model.fit_generator(data_from_generator,epochs = 20)\n"
     ]
    },
    {
     "name": "stdout",
     "output_type": "stream",
     "text": [
      "19/19 [==============================] - 1s 44ms/step - loss: 0.7243 - accuracy: 0.3303\n",
      "Epoch 2/20\n",
      "19/19 [==============================] - 1s 44ms/step - loss: 0.6808 - accuracy: 0.3333\n",
      "Epoch 3/20\n",
      "19/19 [==============================] - 1s 44ms/step - loss: 0.6783 - accuracy: 0.3333\n",
      "Epoch 4/20\n",
      "19/19 [==============================] - 1s 44ms/step - loss: 0.6705 - accuracy: 0.3333\n",
      "Epoch 5/20\n",
      "19/19 [==============================] - 1s 44ms/step - loss: 0.6719 - accuracy: 0.3333\n",
      "Epoch 6/20\n",
      "19/19 [==============================] - 1s 44ms/step - loss: 0.6692 - accuracy: 0.3333\n",
      "Epoch 7/20\n",
      "19/19 [==============================] - 1s 45ms/step - loss: 0.6710 - accuracy: 0.3333\n",
      "Epoch 8/20\n",
      "19/19 [==============================] - 1s 44ms/step - loss: 0.6701 - accuracy: 0.3333\n",
      "Epoch 9/20\n",
      "19/19 [==============================] - 1s 45ms/step - loss: 0.6751 - accuracy: 0.3333\n",
      "Epoch 10/20\n",
      "19/19 [==============================] - 1s 44ms/step - loss: 0.6788 - accuracy: 0.3333\n",
      "Epoch 11/20\n",
      "19/19 [==============================] - 1s 44ms/step - loss: 0.6745 - accuracy: 0.3333\n",
      "Epoch 12/20\n",
      "19/19 [==============================] - 1s 44ms/step - loss: 0.6692 - accuracy: 0.3333\n",
      "Epoch 13/20\n",
      "19/19 [==============================] - 1s 44ms/step - loss: 0.6701 - accuracy: 0.3333\n",
      "Epoch 14/20\n",
      "19/19 [==============================] - 1s 44ms/step - loss: 0.6694 - accuracy: 0.3333\n",
      "Epoch 15/20\n",
      "19/19 [==============================] - 1s 44ms/step - loss: 0.6672 - accuracy: 0.3333\n",
      "Epoch 16/20\n",
      "19/19 [==============================] - 1s 44ms/step - loss: 0.6673 - accuracy: 0.3333\n",
      "Epoch 17/20\n",
      "19/19 [==============================] - 1s 44ms/step - loss: 0.6700 - accuracy: 0.3333\n",
      "Epoch 18/20\n",
      "19/19 [==============================] - 1s 44ms/step - loss: 0.6727 - accuracy: 0.3333\n",
      "Epoch 19/20\n",
      "19/19 [==============================] - 1s 45ms/step - loss: 0.6701 - accuracy: 0.3333\n",
      "Epoch 20/20\n",
      "19/19 [==============================] - 1s 45ms/step - loss: 0.6684 - accuracy: 0.3333\n",
      "Model: \"model_60\"\n",
      "_________________________________________________________________\n",
      " Layer (type)                Output Shape              Param #   \n",
      "=================================================================\n",
      " conv1_input (InputLayer)    [(None, 48, 48, 1)]       0         \n",
      "                                                                 \n",
      " conv1 (Conv2D)              (None, 24, 24, 32)        832       \n",
      "                                                                 \n",
      " conv2 (Conv2D)              (None, 12, 12, 64)        51264     \n",
      "                                                                 \n",
      " conv3 (Conv2D)              (None, 6, 6, 128)         73856     \n",
      "                                                                 \n",
      " flatten (Flatten)           (None, 4608)              0         \n",
      "                                                                 \n",
      " embedding (Dense)           (None, 10)                46090     \n",
      "                                                                 \n",
      "=================================================================\n",
      "Total params: 172,042\n",
      "Trainable params: 172,042\n",
      "Non-trainable params: 0\n",
      "_________________________________________________________________\n",
      "[0 1 2]\n",
      "The list of labels of the clusters are [0 1 2]\n"
     ]
    },
    {
     "data": {
      "image/png": "[encoded data removed]",
      "text/plain": [
       "<Figure size 1440x1440 with 3 Axes>"
      ]
     },
     "metadata": {
      "needs_background": "light"
     },
     "output_type": "display_data"
    },
    {
     "name": "stdout",
     "output_type": "stream",
     "text": [
      "Epoch 1/20\n"
     ]
    },
    {
     "name": "stderr",
     "output_type": "stream",
     "text": [
      "C:\\Users\\phili\\AppData\\Local\\Temp\\ipykernel_21868\\1403657002.py:47: UserWarning: `Model.fit_generator` is deprecated and will be removed in a future version. Please use `Model.fit`, which supports generators.\n",
      "  model.fit_generator(data_from_generator,epochs = 20)\n"
     ]
    },
    {
     "name": "stdout",
     "output_type": "stream",
     "text": [
      "25/25 [==============================] - 2s 44ms/step - loss: 1.3228 - accuracy: 0.2500\n",
      "Epoch 2/20\n",
      "25/25 [==============================] - 1s 45ms/step - loss: 1.2533 - accuracy: 0.2500\n",
      "Epoch 3/20\n",
      "25/25 [==============================] - 1s 45ms/step - loss: 1.2542 - accuracy: 0.2500\n",
      "Epoch 4/20\n",
      "25/25 [==============================] - 1s 46ms/step - loss: 1.2551 - accuracy: 0.2500\n",
      "Epoch 5/20\n",
      "25/25 [==============================] - 1s 47ms/step - loss: 1.2582 - accuracy: 0.2500\n",
      "Epoch 6/20\n",
      "25/25 [==============================] - 1s 46ms/step - loss: 1.2535 - accuracy: 0.2500\n",
      "Epoch 7/20\n",
      "25/25 [==============================] - 1s 45ms/step - loss: 1.2583 - accuracy: 0.2500\n",
      "Epoch 8/20\n",
      "25/25 [==============================] - 1s 45ms/step - loss: 1.2583 - accuracy: 0.2500\n",
      "Epoch 9/20\n",
      "25/25 [==============================] - 1s 45ms/step - loss: 1.2558 - accuracy: 0.2500\n",
      "Epoch 10/20\n",
      "25/25 [==============================] - 1s 45ms/step - loss: 1.2555 - accuracy: 0.2500\n",
      "Epoch 11/20\n",
      "25/25 [==============================] - 1s 45ms/step - loss: 1.2533 - accuracy: 0.2500\n",
      "Epoch 12/20\n",
      "25/25 [==============================] - 1s 45ms/step - loss: 1.2622 - accuracy: 0.2500\n",
      "Epoch 13/20\n",
      "25/25 [==============================] - 1s 44ms/step - loss: 1.2603 - accuracy: 0.2500\n",
      "Epoch 14/20\n",
      "25/25 [==============================] - 1s 44ms/step - loss: 1.2552 - accuracy: 0.2500\n",
      "Epoch 15/20\n",
      "25/25 [==============================] - 1s 45ms/step - loss: 1.2587 - accuracy: 0.2500\n",
      "Epoch 16/20\n",
      "25/25 [==============================] - 1s 45ms/step - loss: 1.2553 - accuracy: 0.2500\n",
      "Epoch 17/20\n",
      "25/25 [==============================] - 1s 45ms/step - loss: 1.2529 - accuracy: 0.2500\n",
      "Epoch 18/20\n",
      "25/25 [==============================] - 1s 44ms/step - loss: 1.2569 - accuracy: 0.2500\n",
      "Epoch 19/20\n",
      "25/25 [==============================] - 1s 45ms/step - loss: 1.2632 - accuracy: 0.2500\n",
      "Epoch 20/20\n",
      "25/25 [==============================] - 1s 45ms/step - loss: 1.2534 - accuracy: 0.2500\n",
      "Model: \"model_62\"\n",
      "_________________________________________________________________\n",
      " Layer (type)                Output Shape              Param #   \n",
      "=================================================================\n",
      " conv1_input (InputLayer)    [(None, 48, 48, 1)]       0         \n",
      "                                                                 \n",
      " conv1 (Conv2D)              (None, 24, 24, 32)        832       \n",
      "                                                                 \n",
      " conv2 (Conv2D)              (None, 12, 12, 64)        51264     \n",
      "                                                                 \n",
      " conv3 (Conv2D)              (None, 6, 6, 128)         73856     \n",
      "                                                                 \n",
      " flatten (Flatten)           (None, 4608)              0         \n",
      "                                                                 \n",
      " embedding (Dense)           (None, 10)                46090     \n",
      "                                                                 \n",
      "=================================================================\n",
      "Total params: 172,042\n",
      "Trainable params: 172,042\n",
      "Non-trainable params: 0\n",
      "_________________________________________________________________\n",
      "[0 1 2 3]\n",
      "The list of labels of the clusters are [0 1 2 3]\n"
     ]
    },
    {
     "data": {
      "image/png": "[encoded data removed]",
      "text/plain": [
       "<Figure size 1440x1440 with 4 Axes>"
      ]
     },
     "metadata": {
      "needs_background": "light"
     },
     "output_type": "display_data"
    },
    {
     "name": "stdout",
     "output_type": "stream",
     "text": [
      "Epoch 1/20\n"
     ]
    },
    {
     "name": "stderr",
     "output_type": "stream",
     "text": [
      "C:\\Users\\phili\\AppData\\Local\\Temp\\ipykernel_21868\\1403657002.py:47: UserWarning: `Model.fit_generator` is deprecated and will be removed in a future version. Please use `Model.fit`, which supports generators.\n",
      "  model.fit_generator(data_from_generator,epochs = 20)\n"
     ]
    },
    {
     "name": "stdout",
     "output_type": "stream",
     "text": [
      "13/13 [==============================] - 1s 43ms/step - loss: 0.7129 - accuracy: 0.5000\n",
      "Epoch 2/20\n",
      "13/13 [==============================] - 1s 45ms/step - loss: 0.2891 - accuracy: 0.4924\n",
      "Epoch 3/20\n",
      "13/13 [==============================] - 1s 43ms/step - loss: 0.2539 - accuracy: 0.5040\n",
      "Epoch 4/20\n",
      "13/13 [==============================] - 1s 43ms/step - loss: 0.2526 - accuracy: 0.5007\n",
      "Epoch 5/20\n",
      "13/13 [==============================] - 1s 43ms/step - loss: 0.2532 - accuracy: 0.4819\n",
      "Epoch 6/20\n",
      "13/13 [==============================] - 1s 43ms/step - loss: 0.2509 - accuracy: 0.4994\n",
      "Epoch 7/20\n",
      "13/13 [==============================] - 1s 44ms/step - loss: 0.2515 - accuracy: 0.4932\n",
      "Epoch 8/20\n",
      "13/13 [==============================] - 1s 44ms/step - loss: 0.2512 - accuracy: 0.4888\n",
      "Epoch 9/20\n",
      "13/13 [==============================] - 1s 45ms/step - loss: 0.2505 - accuracy: 0.4995\n",
      "Epoch 10/20\n",
      "13/13 [==============================] - 1s 43ms/step - loss: 0.2515 - accuracy: 0.4806\n",
      "Epoch 11/20\n",
      "13/13 [==============================] - 1s 45ms/step - loss: 0.2504 - accuracy: 0.4994\n",
      "Epoch 12/20\n",
      "13/13 [==============================] - 1s 44ms/step - loss: 0.2520 - accuracy: 0.4916\n",
      "Epoch 13/20\n",
      "13/13 [==============================] - 1s 43ms/step - loss: 0.2501 - accuracy: 0.5053\n",
      "Epoch 14/20\n",
      "13/13 [==============================] - 1s 43ms/step - loss: 0.2507 - accuracy: 0.4993\n",
      "Epoch 15/20\n",
      "13/13 [==============================] - 1s 43ms/step - loss: 0.2503 - accuracy: 0.4999\n",
      "Epoch 16/20\n",
      "13/13 [==============================] - 1s 43ms/step - loss: 0.2503 - accuracy: 0.4989\n",
      "Epoch 17/20\n",
      "13/13 [==============================] - 1s 43ms/step - loss: 0.2503 - accuracy: 0.4962\n",
      "Epoch 18/20\n",
      "13/13 [==============================] - 1s 43ms/step - loss: 0.2507 - accuracy: 0.4904\n",
      "Epoch 19/20\n",
      "13/13 [==============================] - 1s 43ms/step - loss: 0.2499 - accuracy: 0.5106\n",
      "Epoch 20/20\n",
      "13/13 [==============================] - 1s 44ms/step - loss: 0.2505 - accuracy: 0.4946\n",
      "Model: \"model_64\"\n",
      "_________________________________________________________________\n",
      " Layer (type)                Output Shape              Param #   \n",
      "=================================================================\n",
      " conv1_input (InputLayer)    [(None, 48, 48, 1)]       0         \n",
      "                                                                 \n",
      " conv1 (Conv2D)              (None, 24, 24, 32)        832       \n",
      "                                                                 \n",
      " conv2 (Conv2D)              (None, 12, 12, 64)        51264     \n",
      "                                                                 \n",
      " conv3 (Conv2D)              (None, 6, 6, 128)         73856     \n",
      "                                                                 \n",
      " flatten (Flatten)           (None, 4608)              0         \n",
      "                                                                 \n",
      " embedding (Dense)           (None, 10)                46090     \n",
      "                                                                 \n",
      "=================================================================\n",
      "Total params: 172,042\n",
      "Trainable params: 172,042\n",
      "Non-trainable params: 0\n",
      "_________________________________________________________________\n",
      "[0 1]\n",
      "The list of labels of the clusters are [0 1]\n"
     ]
    },
    {
     "data": {
      "image/png": "[encoded data removed]",
      "text/plain": [
       "<Figure size 1440x1440 with 2 Axes>"
      ]
     },
     "metadata": {
      "needs_background": "light"
     },
     "output_type": "display_data"
    },
    {
     "name": "stdout",
     "output_type": "stream",
     "text": [
      "Epoch 1/20\n"
     ]
    },
    {
     "name": "stderr",
     "output_type": "stream",
     "text": [
      "C:\\Users\\phili\\AppData\\Local\\Temp\\ipykernel_21868\\1403657002.py:47: UserWarning: `Model.fit_generator` is deprecated and will be removed in a future version. Please use `Model.fit`, which supports generators.\n",
      "  model.fit_generator(data_from_generator,epochs = 20)\n"
     ]
    },
    {
     "name": "stdout",
     "output_type": "stream",
     "text": [
      "32/32 [==============================] - 2s 45ms/step - loss: 2.8247 - accuracy: 0.2012\n",
      "Epoch 2/20\n",
      "32/32 [==============================] - 1s 45ms/step - loss: 2.0209 - accuracy: 0.2000\n",
      "Epoch 3/20\n",
      "32/32 [==============================] - 1s 45ms/step - loss: 2.0090 - accuracy: 0.2000\n",
      "Epoch 4/20\n",
      "32/32 [==============================] - 2s 47ms/step - loss: 2.0079 - accuracy: 0.2000\n",
      "Epoch 5/20\n",
      "32/32 [==============================] - 1s 46ms/step - loss: 2.0110 - accuracy: 0.2000\n",
      "Epoch 6/20\n",
      "32/32 [==============================] - 1s 45ms/step - loss: 2.0153 - accuracy: 0.2000\n",
      "Epoch 7/20\n",
      "32/32 [==============================] - 1s 45ms/step - loss: 2.0203 - accuracy: 0.2000\n",
      "Epoch 8/20\n",
      "32/32 [==============================] - 1s 44ms/step - loss: 2.0179 - accuracy: 0.2000\n",
      "Epoch 9/20\n",
      "32/32 [==============================] - 1s 44ms/step - loss: 2.0138 - accuracy: 0.2000\n",
      "Epoch 10/20\n",
      "32/32 [==============================] - 1s 44ms/step - loss: 2.0047 - accuracy: 0.2000\n",
      "Epoch 11/20\n",
      "32/32 [==============================] - 1s 44ms/step - loss: 2.0120 - accuracy: 0.2000\n",
      "Epoch 12/20\n",
      "32/32 [==============================] - 1s 43ms/step - loss: 2.0152 - accuracy: 0.2000\n",
      "Epoch 13/20\n",
      "32/32 [==============================] - 1s 44ms/step - loss: 2.0040 - accuracy: 0.2000\n",
      "Epoch 14/20\n",
      "32/32 [==============================] - 1s 43ms/step - loss: 2.0085 - accuracy: 0.2000\n",
      "Epoch 15/20\n",
      "32/32 [==============================] - 1s 44ms/step - loss: 2.0066 - accuracy: 0.2000\n",
      "Epoch 16/20\n",
      "32/32 [==============================] - 1s 44ms/step - loss: 2.0058 - accuracy: 0.2000\n",
      "Epoch 17/20\n",
      "32/32 [==============================] - 1s 44ms/step - loss: 2.0051 - accuracy: 0.2000\n",
      "Epoch 18/20\n",
      "32/32 [==============================] - 1s 45ms/step - loss: 2.0106 - accuracy: 0.2000\n",
      "Epoch 19/20\n",
      "32/32 [==============================] - 1s 44ms/step - loss: 2.0161 - accuracy: 0.2000\n",
      "Epoch 20/20\n",
      "32/32 [==============================] - 1s 44ms/step - loss: 2.0248 - accuracy: 0.2000\n",
      "Model: \"model_66\"\n",
      "_________________________________________________________________\n",
      " Layer (type)                Output Shape              Param #   \n",
      "=================================================================\n",
      " conv1_input (InputLayer)    [(None, 48, 48, 1)]       0         \n",
      "                                                                 \n",
      " conv1 (Conv2D)              (None, 24, 24, 32)        832       \n",
      "                                                                 \n",
      " conv2 (Conv2D)              (None, 12, 12, 64)        51264     \n",
      "                                                                 \n",
      " conv3 (Conv2D)              (None, 6, 6, 128)         73856     \n",
      "                                                                 \n",
      " flatten (Flatten)           (None, 4608)              0         \n",
      "                                                                 \n",
      " embedding (Dense)           (None, 10)                46090     \n",
      "                                                                 \n",
      "=================================================================\n",
      "Total params: 172,042\n",
      "Trainable params: 172,042\n",
      "Non-trainable params: 0\n",
      "_________________________________________________________________\n",
      "[0 1 2 3 4]\n",
      "The list of labels of the clusters are [0 1 2 3 4]\n"
     ]
    },
    {
     "data": {
      "image/png": "[encoded data removed]",
      "text/plain": [
       "<Figure size 1440x1440 with 5 Axes>"
      ]
     },
     "metadata": {
      "needs_background": "light"
     },
     "output_type": "display_data"
    },
    {
     "ename": "ValueError",
     "evalue": "need at least one array to concatenate",
     "output_type": "error",
     "traceback": [
      "\u001b[1;31m---------------------------------------------------------------------------\u001b[0m",
      "\u001b[1;31mValueError\u001b[0m                                Traceback (most recent call last)",
      "\u001b[1;32mc:\\Users\\phili\\techlabs\\eth_sms\\clustering.ipynb Cell 11\u001b[0m in \u001b[0;36m<cell line: 1>\u001b[1;34m()\u001b[0m\n\u001b[0;32m     <a href='vscode-notebook-cell:/c%3A/Users/phili/techlabs/eth_sms/clustering.ipynb#Y145sZmlsZQ%3D%3D?line=16'>17</a>\u001b[0m mask \u001b[39m=\u001b[39m (counts_col \u001b[39m>\u001b[39m \u001b[39mint\u001b[39m(num_img)) \n\u001b[0;32m     <a href='vscode-notebook-cell:/c%3A/Users/phili/techlabs/eth_sms/clustering.ipynb#Y145sZmlsZQ%3D%3D?line=17'>18</a>\u001b[0m df_merged \u001b[39m=\u001b[39m df_merged[mask]\n\u001b[1;32m---> <a href='vscode-notebook-cell:/c%3A/Users/phili/techlabs/eth_sms/clustering.ipynb#Y145sZmlsZQ%3D%3D?line=18'>19</a>\u001b[0m sample \u001b[39m=\u001b[39m df_merged\u001b[39m.\u001b[39;49mgroupby(\u001b[39m'\u001b[39;49m\u001b[39mlabel\u001b[39;49m\u001b[39m'\u001b[39;49m)\u001b[39m.\u001b[39;49msample(n\u001b[39m=\u001b[39;49m\u001b[39mint\u001b[39;49m(num_img),random_state\u001b[39m=\u001b[39;49m\u001b[39m2\u001b[39;49m)\u001b[39m.\u001b[39mreset_index()\u001b[39m.\u001b[39mdrop(columns\u001b[39m=\u001b[39m[\u001b[39m'\u001b[39m\u001b[39mindex\u001b[39m\u001b[39m'\u001b[39m])\n\u001b[0;32m     <a href='vscode-notebook-cell:/c%3A/Users/phili/techlabs/eth_sms/clustering.ipynb#Y145sZmlsZQ%3D%3D?line=19'>20</a>\u001b[0m sample\u001b[39m.\u001b[39mlabel\u001b[39m.\u001b[39munique()\n\u001b[0;32m     <a href='vscode-notebook-cell:/c%3A/Users/phili/techlabs/eth_sms/clustering.ipynb#Y145sZmlsZQ%3D%3D?line=20'>21</a>\u001b[0m sample\u001b[39m.\u001b[39mlabel \u001b[39m=\u001b[39m pd\u001b[39m.\u001b[39mnp\u001b[39m.\u001b[39mwhere(sample\u001b[39m.\u001b[39mlabel \u001b[39m==\u001b[39m \u001b[39m0\u001b[39m,\u001b[39m'\u001b[39m\u001b[39m Zeros\u001b[39m\u001b[39m'\u001b[39m, sample\u001b[39m.\u001b[39mlabel)\n",
      "File \u001b[1;32mc:\\Users\\phili\\techlabs\\ai_venv\\lib\\site-packages\\pandas\\core\\groupby\\groupby.py:3812\u001b[0m, in \u001b[0;36mGroupBy.sample\u001b[1;34m(self, n, frac, replace, weights, random_state)\u001b[0m\n\u001b[0;32m   3803\u001b[0m     grp_sample \u001b[39m=\u001b[39m sample\u001b[39m.\u001b[39msample(\n\u001b[0;32m   3804\u001b[0m         group_size,\n\u001b[0;32m   3805\u001b[0m         size\u001b[39m=\u001b[39msample_size,\n\u001b[1;32m   (...)\u001b[0m\n\u001b[0;32m   3808\u001b[0m         random_state\u001b[39m=\u001b[39mrandom_state,\n\u001b[0;32m   3809\u001b[0m     )\n\u001b[0;32m   3810\u001b[0m     sampled_indices\u001b[39m.\u001b[39mappend(grp_indices[grp_sample])\n\u001b[1;32m-> 3812\u001b[0m sampled_indices \u001b[39m=\u001b[39m np\u001b[39m.\u001b[39;49mconcatenate(sampled_indices)\n\u001b[0;32m   3813\u001b[0m \u001b[39mreturn\u001b[39;00m \u001b[39mself\u001b[39m\u001b[39m.\u001b[39m_selected_obj\u001b[39m.\u001b[39mtake(sampled_indices, axis\u001b[39m=\u001b[39m\u001b[39mself\u001b[39m\u001b[39m.\u001b[39maxis)\n",
      "File \u001b[1;32m<__array_function__ internals>:180\u001b[0m, in \u001b[0;36mconcatenate\u001b[1;34m(*args, **kwargs)\u001b[0m\n",
      "\u001b[1;31mValueError\u001b[0m: need at least one array to concatenate"
     ]
    }
   ],
   "source": [
    "for tx, lb in zip(txt, dt):\n",
    "        \n",
    "    df_merged, df_end = get_label(tx,lb)\n",
    "    # Change the name\n",
    "    frame = df_merged \n",
    "    frame.label = pd.np.where(frame.label == 'POSITION-UPRIGHT' ,' Aufrecht', frame.label)\n",
    "    frame.label = pd.np.where(frame.label == 'POSITION-SUPINE' ,' Rücken', frame.label)\n",
    "    frame.label = pd.np.where(frame.label == 'POSITION-LEFT' ,' Links', frame.label)\n",
    "    frame.label = pd.np.where(frame.label == 'POSITION-RIGHT',' Rechts', frame.label)\n",
    "    frame.label = pd.np.where(frame.label == 'POSITION-UNKNOWN',' A', frame.label)\n",
    "    frame.label = pd.np.where(frame.label == 'POSITION-PRONE',' Bauch', frame.label)\n",
    "    frame.label = pd.np.where(frame.label == 0,' Zeros', frame.label)\n",
    "    df_merged = frame\n",
    "    # Bring number of sample\n",
    "    num_img = 200\n",
    "    counts_col = df_merged.groupby(\"label\")[\"label\"].transform(len)\n",
    "    mask = (counts_col > int(num_img)) \n",
    "    df_merged = df_merged[mask]\n",
    "    sample = df_merged.groupby('label').sample(n=int(num_img),random_state=2).reset_index().drop(columns=['index'])\n",
    "    sample.label.unique()\n",
    "    sample.label = pd.np.where(sample.label == 0,' Zeros', sample.label)\n",
    "    sample.label = sample.label.astype('category')\n",
    "    sample.label = sample.label.cat.codes\n",
    "    \n",
    "    collect = []\n",
    "    for i in range(len(sample.pressure)):\n",
    "\n",
    "        img = sample.pressure[i]\n",
    "        img = cv2.resize(img, dsize=(48, 48), interpolation=cv2.INTER_CUBIC)\n",
    "        reshaped_img = img.reshape(48, 48, 1)\n",
    "        collect.append(reshaped_img)\n",
    "\n",
    "    collect = np.array(collect)\n",
    "    y = sample.label\n",
    "\n",
    "    def generate_data(X_train, y_train):\n",
    "\n",
    "        data = ImageDataGenerator(rotation_range=10, zoom_range = 0.1, width_shift_range=0.1, height_shift_range=0.1)  \n",
    "        data.fit(X_train)\n",
    "        data_generator = data.flow(X_train,y_train)\n",
    "        return data_generator\n",
    "\n",
    "    data_from_generator = generate_data(collect,y)\n",
    "    optimizer = keras.optimizers.Adam()\n",
    "    loss = keras.losses.mean_squared_error\n",
    "    model.compile(optimizer=optimizer, loss= loss, metrics=[\"accuracy\"])\n",
    "    model.fit_generator(data_from_generator,epochs = 20)\n",
    "    mm = keras.Model(inputs=model.input, outputs=model.output)\n",
    "    if tx[-10:-4]=='Events':\n",
    "        model.save(f\"{tx[-18:-4]}.h5\")\n",
    "    else:\n",
    "        model.save(f\"{tx[-22:-4]}.h5\")\n",
    "  \n",
    "    embdedded_model = keras.Model(inputs=model.input, outputs=model.get_layer(name=\"embedding\").output)\n",
    "    embdedded_model.summary()\n",
    "    features = embdedded_model.predict(collect)\n",
    "    Clus_dataSet =features\n",
    "    y_train = y\n",
    "    y = y_train\n",
    "    print(y.unique())\n",
    "    #n_clusters = number of unique value because INDEX has 10 values. Not the best value but a simple logic.\n",
    "    #The value of n_init at 30 yields good results so we will use it. For confirmation us the above code.\n",
    "    k_means = KMeans(init = \"k-means++\", n_clusters = y.nunique(), n_init = 30)\n",
    "    #fit the data to our k_means model\n",
    "    k_means.fit(Clus_dataSet)\n",
    "\n",
    "\n",
    "    k_means_labels = k_means.labels_ #List of labels of each dataset\n",
    "    print(\"The list of labels of the clusters are \" + str(np.unique(k_means_labels)))\n",
    "    G = len(np.unique(k_means_labels)) #Number of labels\n",
    "\n",
    "    #2D matrix  for an array of indexes of the given label\n",
    "    cluster_index= [[] for i in range(G)]\n",
    "    for i, label in enumerate(k_means_labels,0):\n",
    "        for n in range(G):\n",
    "            if label == n:\n",
    "                cluster_index[n].append(i)\n",
    "            else:\n",
    "                continue  \n",
    "\n",
    "    # # #Visualisation for clusters = clust\n",
    "    # plt.figure(figsize=(20,20));\n",
    "    # clust = y.nunique() #enter label number to visualise\n",
    "    # num = 100 #num of data to visualize from the cluster\n",
    "    # for i in range(1,num): \n",
    "    #     plt.subplot(10, 10, i); #(Number of rows, Number of column per row, item number)\n",
    "    #     plt.imshow(X[cluster_index[clust][i+1]].reshape(X_train.shape[1], X_train.shape[2]), cmap = plt.cm.binary);\n",
    "        \n",
    "    # plt.show()\n",
    "\n",
    "    Y_clust = [[] for i in range(G)]\n",
    "    for n in range(G):\n",
    "        Y_clust[n] = y[cluster_index[n]] #Y_clust[0] contains array of \"correct\" category from y_train for the cluster_index[0]\n",
    "        assert(len(Y_clust[n]) == len(cluster_index[n])) #dimension confirmation\n",
    "\n",
    "    #counts the number of each category in each cluster\n",
    "    def counter(cluster):\n",
    "        unique, counts = np.unique(cluster, return_counts=True)\n",
    "        label_index = dict(zip(unique, counts))\n",
    "        return label_index\n",
    "\n",
    "    label_count= [[] for i in range(G)]\n",
    "    for n in range(G):\n",
    "        label_count[n] = counter(Y_clust[n])\n",
    "\n",
    "    label_count[1] #Number of items of a certain category in cluster 1\n",
    "    #A function to plot a bar graph for visualising the number of items of certain category in a cluster\n",
    "    def plotter(label_dict):\n",
    "        plt.bar(range(len(label_dict)), list(label_dict.values()), align='center')\n",
    "        a = []\n",
    "        for i in [*label_dict]: a.append([i])\n",
    "        plt.xticks(range(len(label_dict)), list(a), rotation=45, rotation_mode='anchor')\n",
    "    #Bar graph with the number of items of different categories clustered in it\n",
    "    plt.figure(figsize=(20,20))\n",
    "    for i in range (1,(y.nunique())+1):\n",
    "        plt.subplot(4, 2, i)\n",
    "        plotter(label_count[i-1]) \n",
    "        plt.title(\"Cluster\" + str(i-1))\n",
    "    plt.show()"
   ]
  },
  {
   "cell_type": "code",
   "execution_count": 10,
   "metadata": {},
   "outputs": [],
   "source": [
    "df_merged, df_end = get_label(txt[0],dt[0])"
   ]
  },
  {
   "cell_type": "code",
   "execution_count": 11,
   "metadata": {},
   "outputs": [],
   "source": [
    "# Bring number of sample\n",
    "num_img = 200\n",
    "counts_col = df_merged.groupby(\"label\")[\"label\"].transform(len)\n",
    "mask = (counts_col > int(num_img)) \n",
    "df_merged = df_merged[mask]\n",
    "sample = df_merged.groupby('label').sample(n=int(num_img),random_state=2).reset_index().drop(columns=['index'])"
   ]
  },
  {
   "cell_type": "code",
   "execution_count": 13,
   "metadata": {},
   "outputs": [
    {
     "data": {
      "text/plain": [
       "array([0, 'POSITION-SUPINE', 'POSITION-UNKNOWN'], dtype=object)"
      ]
     },
     "execution_count": 13,
     "metadata": {},
     "output_type": "execute_result"
    }
   ],
   "source": [
    "sample.label.unique()"
   ]
  },
  {
   "cell_type": "code",
   "execution_count": 14,
   "metadata": {},
   "outputs": [],
   "source": [
    "sample.label = pd.np.where(sample.label == 0,' Zeros', sample.label)"
   ]
  },
  {
   "cell_type": "code",
   "execution_count": 15,
   "metadata": {},
   "outputs": [],
   "source": [
    "sample.label = sample.label.astype('category')"
   ]
  },
  {
   "cell_type": "code",
   "execution_count": 16,
   "metadata": {},
   "outputs": [],
   "source": [
    "sample.label = sample.label.cat.codes"
   ]
  },
  {
   "cell_type": "code",
   "execution_count": 17,
   "metadata": {},
   "outputs": [
    {
     "data": {
      "text/plain": [
       "(48, 22)"
      ]
     },
     "execution_count": 17,
     "metadata": {},
     "output_type": "execute_result"
    }
   ],
   "source": [
    "sample.pressure[0].shape"
   ]
  },
  {
   "cell_type": "markdown",
   "metadata": {},
   "source": [
    "CNN"
   ]
  },
  {
   "cell_type": "code",
   "execution_count": 18,
   "metadata": {},
   "outputs": [],
   "source": [
    "from tensorflow import keras\n",
    "import tensorflow as tf\n",
    "from sklearn import datasets\n",
    "import numpy as np\n",
    "import matplotlib.pyplot as plt\n",
    "from keras import layers\n",
    "from keras.preprocessing.image import ImageDataGenerator"
   ]
  },
  {
   "cell_type": "code",
   "execution_count": 19,
   "metadata": {},
   "outputs": [],
   "source": [
    "def CAE(input_shape=(48, 48, 1), filters=[32, 64, 128, 10]):\n",
    "    model = keras.Sequential()\n",
    "    if input_shape[0] % 8 == 0:\n",
    "        pad3 = 'same'\n",
    "    else:\n",
    "        pad3 = 'valid'\n",
    "    model.add(layers.Conv2D(filters[0], 5, strides=2, padding='same', activation='relu', name='conv1', input_shape=input_shape))\n",
    "\n",
    "    model.add(layers.Conv2D(filters[1], 5, strides=2, padding='same', activation='relu', name='conv2'))\n",
    "\n",
    "    model.add(layers.Conv2D(filters[2], 3, strides=2, padding=pad3, activation='relu', name='conv3'))\n",
    "\n",
    "    model.add(layers.Flatten())\n",
    "    model.add(layers.Dense(units=filters[3], name='embedding'))\n",
    "    model.add(layers.Dense(units=filters[2]*int(input_shape[0]/8)*int(input_shape[0]/8), activation='relu'))\n",
    "\n",
    "    model.add(layers.Reshape((int(input_shape[0]/8), int(input_shape[0]/8), filters[2])))\n",
    "    model.add(layers.Conv2DTranspose(filters[1], 3, strides=2, padding=pad3, activation='relu', name='deconv3'))\n",
    "\n",
    "    model.add(layers.Conv2DTranspose(filters[0], 5, strides=2, padding='same', activation='relu', name='deconv2'))\n",
    "\n",
    "    model.add(layers.Conv2DTranspose(input_shape[2], 5, strides=2, padding='same', name='deconv1'))\n",
    "    model.summary()\n",
    "    return model"
   ]
  },
  {
   "cell_type": "code",
   "execution_count": 20,
   "metadata": {},
   "outputs": [
    {
     "name": "stdout",
     "output_type": "stream",
     "text": [
      "Model: \"sequential\"\n",
      "_________________________________________________________________\n",
      " Layer (type)                Output Shape              Param #   \n",
      "=================================================================\n",
      " conv1 (Conv2D)              (None, 24, 24, 32)        832       \n",
      "                                                                 \n",
      " conv2 (Conv2D)              (None, 12, 12, 64)        51264     \n",
      "                                                                 \n",
      " conv3 (Conv2D)              (None, 6, 6, 128)         73856     \n",
      "                                                                 \n",
      " flatten (Flatten)           (None, 4608)              0         \n",
      "                                                                 \n",
      " embedding (Dense)           (None, 10)                46090     \n",
      "                                                                 \n",
      " dense (Dense)               (None, 4608)              50688     \n",
      "                                                                 \n",
      " reshape (Reshape)           (None, 6, 6, 128)         0         \n",
      "                                                                 \n",
      " deconv3 (Conv2DTranspose)   (None, 12, 12, 64)        73792     \n",
      "                                                                 \n",
      " deconv2 (Conv2DTranspose)   (None, 24, 24, 32)        51232     \n",
      "                                                                 \n",
      " deconv1 (Conv2DTranspose)   (None, 48, 48, 1)         801       \n",
      "                                                                 \n",
      "=================================================================\n",
      "Total params: 348,555\n",
      "Trainable params: 348,555\n",
      "Non-trainable params: 0\n",
      "_________________________________________________________________\n"
     ]
    }
   ],
   "source": [
    "model = CAE()"
   ]
  },
  {
   "cell_type": "code",
   "execution_count": null,
   "metadata": {},
   "outputs": [],
   "source": [
    "collect = []\n",
    "for i in range(len(sample.pressure)):\n",
    "\n",
    "    img = sample.pressure[i]\n",
    "    img = cv2.resize(img, dsize=(48, 48), interpolation=cv2.INTER_CUBIC)\n",
    "    reshaped_img = img.reshape(48, 48, 1)\n",
    "    collect.append(reshaped_img)\n",
    "\n",
    "collect = np.array(collect)\n",
    "y = sample.label\n",
    "\n",
    "def generate_data(X_train, y_train):\n",
    "\n",
    "    data = ImageDataGenerator(rotation_range=10, zoom_range = 0.1, width_shift_range=0.1, height_shift_range=0.1)  \n",
    "    data.fit(X_train)\n",
    "    data_generator = data.flow(X_train,y_train)\n",
    "    return data_generator\n",
    "\n",
    "data_from_generator = generate_data(collect,y)\n",
    "optimizer = keras.optimizers.Adam()\n",
    "loss = keras.losses.mean_squared_error\n",
    "model.compile(optimizer=optimizer, loss= loss, metrics=[\"accuracy\"])\n",
    "model.fit_generator(data_from_generator,epochs = 20)\n",
    "mm = keras.Model(inputs=model.input, outputs=model.output)\n",
    "model.save(\"Autoencoder_patient.h5\")\n",
    "\n"
   ]
  },
  {
   "cell_type": "code",
   "execution_count": 21,
   "metadata": {},
   "outputs": [],
   "source": [
    "collect = []\n",
    "for i in range(len(sample.pressure)):\n",
    "\n",
    "    img = sample.pressure[i]\n",
    "    img = cv2.resize(img, dsize=(48, 48), interpolation=cv2.INTER_CUBIC)\n",
    "    reshaped_img = img.reshape(48, 48, 1)\n",
    "    collect.append(reshaped_img)"
   ]
  },
  {
   "cell_type": "code",
   "execution_count": 22,
   "metadata": {},
   "outputs": [],
   "source": [
    "collect = np.array(collect)"
   ]
  },
  {
   "cell_type": "code",
   "execution_count": 23,
   "metadata": {},
   "outputs": [],
   "source": [
    "y = sample.label"
   ]
  },
  {
   "cell_type": "code",
   "execution_count": 24,
   "metadata": {},
   "outputs": [],
   "source": [
    "def generate_data(X_train, y_train):\n",
    "\n",
    "    data = ImageDataGenerator(rotation_range=10, zoom_range = 0.1, width_shift_range=0.1, height_shift_range=0.1)  \n",
    "    data.fit(X_train)\n",
    "    data_generator = data.flow(X_train,y_train)\n",
    "    return data_generator"
   ]
  },
  {
   "cell_type": "code",
   "execution_count": 25,
   "metadata": {},
   "outputs": [],
   "source": [
    "data_from_generator = generate_data(collect,y)"
   ]
  },
  {
   "cell_type": "code",
   "execution_count": 26,
   "metadata": {},
   "outputs": [],
   "source": [
    "optimizer = keras.optimizers.Adam()\n",
    "loss = keras.losses.mean_squared_error\n",
    "model.compile(optimizer=optimizer, loss= loss, metrics=[\"accuracy\"])"
   ]
  },
  {
   "cell_type": "code",
   "execution_count": 27,
   "metadata": {},
   "outputs": [
    {
     "name": "stdout",
     "output_type": "stream",
     "text": [
      "Epoch 1/20\n"
     ]
    },
    {
     "name": "stderr",
     "output_type": "stream",
     "text": [
      "C:\\Users\\phili\\AppData\\Local\\Temp\\ipykernel_21868\\2874452368.py:1: UserWarning: `Model.fit_generator` is deprecated and will be removed in a future version. Please use `Model.fit`, which supports generators.\n",
      "  model.fit_generator(data_from_generator,epochs = 20)\n"
     ]
    },
    {
     "name": "stdout",
     "output_type": "stream",
     "text": [
      "19/19 [==============================] - 2s 53ms/step - loss: 1.7391 - accuracy: 0.3373\n",
      "Epoch 2/20\n",
      "19/19 [==============================] - 1s 53ms/step - loss: 1.1560 - accuracy: 0.3264\n",
      "Epoch 3/20\n",
      "19/19 [==============================] - 1s 52ms/step - loss: 0.7712 - accuracy: 0.3317\n",
      "Epoch 4/20\n",
      "19/19 [==============================] - 1s 52ms/step - loss: 0.7068 - accuracy: 0.3340\n",
      "Epoch 5/20\n",
      "19/19 [==============================] - 1s 53ms/step - loss: 0.7043 - accuracy: 0.3331\n",
      "Epoch 6/20\n",
      "19/19 [==============================] - 1s 47ms/step - loss: 0.7195 - accuracy: 0.3330\n",
      "Epoch 7/20\n",
      "19/19 [==============================] - 1s 47ms/step - loss: 0.7504 - accuracy: 0.3333\n",
      "Epoch 8/20\n",
      "19/19 [==============================] - 1s 48ms/step - loss: 0.6891 - accuracy: 0.3333\n",
      "Epoch 9/20\n",
      "19/19 [==============================] - 1s 48ms/step - loss: 0.7178 - accuracy: 0.3331\n",
      "Epoch 10/20\n",
      "19/19 [==============================] - 1s 50ms/step - loss: 0.6911 - accuracy: 0.3338\n",
      "Epoch 11/20\n",
      "19/19 [==============================] - 1s 55ms/step - loss: 0.7287 - accuracy: 0.3334\n",
      "Epoch 12/20\n",
      "19/19 [==============================] - 1s 53ms/step - loss: 0.8028 - accuracy: 0.3465\n",
      "Epoch 13/20\n",
      "19/19 [==============================] - 1s 53ms/step - loss: 0.7054 - accuracy: 0.3331\n",
      "Epoch 14/20\n",
      "19/19 [==============================] - 1s 50ms/step - loss: 0.7093 - accuracy: 0.3328\n",
      "Epoch 15/20\n",
      "19/19 [==============================] - 1s 54ms/step - loss: 0.6891 - accuracy: 0.3328\n",
      "Epoch 16/20\n",
      "19/19 [==============================] - 1s 53ms/step - loss: 0.6895 - accuracy: 0.3331\n",
      "Epoch 17/20\n",
      "19/19 [==============================] - 1s 53ms/step - loss: 0.6773 - accuracy: 0.3335\n",
      "Epoch 18/20\n",
      "19/19 [==============================] - 1s 52ms/step - loss: 0.7142 - accuracy: 0.3331\n",
      "Epoch 19/20\n",
      "19/19 [==============================] - 1s 54ms/step - loss: 0.6694 - accuracy: 0.3334\n",
      "Epoch 20/20\n",
      "19/19 [==============================] - 1s 53ms/step - loss: 0.6907 - accuracy: 0.3338\n"
     ]
    },
    {
     "data": {
      "text/plain": [
       "<keras.callbacks.History at 0x1fd0ad00b50>"
      ]
     },
     "execution_count": 27,
     "metadata": {},
     "output_type": "execute_result"
    }
   ],
   "source": [
    "model.fit_generator(data_from_generator,epochs = 20)"
   ]
  },
  {
   "cell_type": "code",
   "execution_count": 28,
   "metadata": {},
   "outputs": [
    {
     "name": "stdout",
     "output_type": "stream",
     "text": [
      "Model: \"model\"\n",
      "_________________________________________________________________\n",
      " Layer (type)                Output Shape              Param #   \n",
      "=================================================================\n",
      " conv1_input (InputLayer)    [(None, 48, 48, 1)]       0         \n",
      "                                                                 \n",
      " conv1 (Conv2D)              (None, 24, 24, 32)        832       \n",
      "                                                                 \n",
      " conv2 (Conv2D)              (None, 12, 12, 64)        51264     \n",
      "                                                                 \n",
      " conv3 (Conv2D)              (None, 6, 6, 128)         73856     \n",
      "                                                                 \n",
      " flatten (Flatten)           (None, 4608)              0         \n",
      "                                                                 \n",
      " embedding (Dense)           (None, 10)                46090     \n",
      "                                                                 \n",
      " dense (Dense)               (None, 4608)              50688     \n",
      "                                                                 \n",
      " reshape (Reshape)           (None, 6, 6, 128)         0         \n",
      "                                                                 \n",
      " deconv3 (Conv2DTranspose)   (None, 12, 12, 64)        73792     \n",
      "                                                                 \n",
      " deconv2 (Conv2DTranspose)   (None, 24, 24, 32)        51232     \n",
      "                                                                 \n",
      " deconv1 (Conv2DTranspose)   (None, 48, 48, 1)         801       \n",
      "                                                                 \n",
      "=================================================================\n",
      "Total params: 348,555\n",
      "Trainable params: 348,555\n",
      "Non-trainable params: 0\n",
      "_________________________________________________________________\n"
     ]
    }
   ],
   "source": [
    "mm = keras.Model(inputs=model.input, outputs=model.output)\n",
    "mm.summary()"
   ]
  },
  {
   "cell_type": "code",
   "execution_count": 29,
   "metadata": {},
   "outputs": [],
   "source": [
    "model.save(\"Autoencoder_patient.h5\")"
   ]
  },
  {
   "cell_type": "code",
   "execution_count": 30,
   "metadata": {},
   "outputs": [
    {
     "name": "stdout",
     "output_type": "stream",
     "text": [
      "Model: \"model_1\"\n",
      "_________________________________________________________________\n",
      " Layer (type)                Output Shape              Param #   \n",
      "=================================================================\n",
      " conv1_input (InputLayer)    [(None, 48, 48, 1)]       0         \n",
      "                                                                 \n",
      " conv1 (Conv2D)              (None, 24, 24, 32)        832       \n",
      "                                                                 \n",
      " conv2 (Conv2D)              (None, 12, 12, 64)        51264     \n",
      "                                                                 \n",
      " conv3 (Conv2D)              (None, 6, 6, 128)         73856     \n",
      "                                                                 \n",
      " flatten (Flatten)           (None, 4608)              0         \n",
      "                                                                 \n",
      " embedding (Dense)           (None, 10)                46090     \n",
      "                                                                 \n",
      "=================================================================\n",
      "Total params: 172,042\n",
      "Trainable params: 172,042\n",
      "Non-trainable params: 0\n",
      "_________________________________________________________________\n"
     ]
    }
   ],
   "source": [
    "embdedded_model = keras.Model(inputs=model.input, outputs=model.get_layer(name=\"embedding\").output)\n",
    "embdedded_model.summary()"
   ]
  },
  {
   "cell_type": "code",
   "execution_count": 37,
   "metadata": {},
   "outputs": [],
   "source": [
    "import numpy as np\n",
    "import matplotlib.pyplot as plt\n",
    "from sklearn.preprocessing import StandardScaler\n",
    "from sklearn.cluster import KMeans\n",
    "from sklearn.decomposition import PCA"
   ]
  },
  {
   "cell_type": "code",
   "execution_count": 31,
   "metadata": {},
   "outputs": [],
   "source": [
    "features = embdedded_model.predict(collect)"
   ]
  },
  {
   "cell_type": "code",
   "execution_count": 38,
   "metadata": {},
   "outputs": [
    {
     "name": "stdout",
     "output_type": "stream",
     "text": [
      "[0 1 2]\n",
      "The list of labels of the clusters are [0 1 2]\n"
     ]
    },
    {
     "data": {
      "image/png": "[encoded data removed]",
      "text/plain": [
       "<Figure size 1440x1440 with 3 Axes>"
      ]
     },
     "metadata": {
      "needs_background": "light"
     },
     "output_type": "display_data"
    }
   ],
   "source": [
    "Clus_dataSet =features\n",
    "y_train = y\n",
    "y = y_train\n",
    "print(y.unique())\n",
    "#n_clusters = number of unique value because INDEX has 10 values. Not the best value but a simple logic.\n",
    "#The value of n_init at 30 yields good results so we will use it. For confirmation us the above code.\n",
    "k_means = KMeans(init = \"k-means++\", n_clusters = y.nunique(), n_init = 30)\n",
    "#fit the data to our k_means model\n",
    "k_means.fit(Clus_dataSet)\n",
    "\n",
    "\n",
    "k_means_labels = k_means.labels_ #List of labels of each dataset\n",
    "print(\"The list of labels of the clusters are \" + str(np.unique(k_means_labels)))\n",
    "G = len(np.unique(k_means_labels)) #Number of labels\n",
    "\n",
    "#2D matrix  for an array of indexes of the given label\n",
    "cluster_index= [[] for i in range(G)]\n",
    "for i, label in enumerate(k_means_labels,0):\n",
    "    for n in range(G):\n",
    "        if label == n:\n",
    "            cluster_index[n].append(i)\n",
    "        else:\n",
    "            continue  \n",
    "\n",
    "# # #Visualisation for clusters = clust\n",
    "# plt.figure(figsize=(20,20));\n",
    "# clust = y.nunique() #enter label number to visualise\n",
    "# num = 100 #num of data to visualize from the cluster\n",
    "# for i in range(1,num): \n",
    "#     plt.subplot(10, 10, i); #(Number of rows, Number of column per row, item number)\n",
    "#     plt.imshow(X[cluster_index[clust][i+1]].reshape(X_train.shape[1], X_train.shape[2]), cmap = plt.cm.binary);\n",
    "    \n",
    "# plt.show()\n",
    "\n",
    "Y_clust = [[] for i in range(G)]\n",
    "for n in range(G):\n",
    "    Y_clust[n] = y[cluster_index[n]] #Y_clust[0] contains array of \"correct\" category from y_train for the cluster_index[0]\n",
    "    assert(len(Y_clust[n]) == len(cluster_index[n])) #dimension confirmation\n",
    "\n",
    "#counts the number of each category in each cluster\n",
    "def counter(cluster):\n",
    "    unique, counts = np.unique(cluster, return_counts=True)\n",
    "    label_index = dict(zip(unique, counts))\n",
    "    return label_index\n",
    "\n",
    "label_count= [[] for i in range(G)]\n",
    "for n in range(G):\n",
    "    label_count[n] = counter(Y_clust[n])\n",
    "\n",
    "label_count[1] #Number of items of a certain category in cluster 1\n",
    "#A function to plot a bar graph for visualising the number of items of certain category in a cluster\n",
    "def plotter(label_dict):\n",
    "    plt.bar(range(len(label_dict)), list(label_dict.values()), align='center')\n",
    "    a = []\n",
    "    for i in [*label_dict]: a.append([i])\n",
    "    plt.xticks(range(len(label_dict)), list(a), rotation=45, rotation_mode='anchor')\n",
    "#Bar graph with the number of items of different categories clustered in it\n",
    "plt.figure(figsize=(20,20))\n",
    "for i in range (1,(y.nunique())+1):\n",
    "    plt.subplot(4, 2, i)\n",
    "    plotter(label_count[i-1]) \n",
    "    plt.title(\"Cluster\" + str(i-1))\n",
    "plt.show()"
   ]
  },
  {
   "cell_type": "code",
   "execution_count": 33,
   "metadata": {},
   "outputs": [],
   "source": [
    "tsne = TSNE(n_components=2)\n",
    "digit_features_tsne = tsne.fit_transform(features)"
   ]
  },
  {
   "cell_type": "code",
   "execution_count": 34,
   "metadata": {},
   "outputs": [],
   "source": [
    "y = sample.label"
   ]
  },
  {
   "cell_type": "code",
   "execution_count": 35,
   "metadata": {},
   "outputs": [
    {
     "data": {
      "text/plain": [
       "<matplotlib.collections.PathCollection at 0x1fd0ed5e8e0>"
      ]
     },
     "execution_count": 35,
     "metadata": {},
     "output_type": "execute_result"
    },
    {
     "data": {
      "image/png": "[encoded data removed]",
      "text/plain": [
       "<Figure size 432x288 with 1 Axes>"
      ]
     },
     "metadata": {
      "needs_background": "light"
     },
     "output_type": "display_data"
    }
   ],
   "source": [
    "plt.scatter(digit_features_tsne[:,0], digit_features_tsne[:,1], c=y)"
   ]
  },
  {
   "cell_type": "code",
   "execution_count": 153,
   "metadata": {},
   "outputs": [
    {
     "data": {
      "text/plain": [
       "<matplotlib.collections.PathCollection at 0x1fd1fc2a5b0>"
      ]
     },
     "execution_count": 153,
     "metadata": {},
     "output_type": "execute_result"
    },
    {
     "data": {
      "image/png": "[encoded data removed]",
      "text/plain": [
       "<Figure size 432x288 with 1 Axes>"
      ]
     },
     "metadata": {
      "needs_background": "light"
     },
     "output_type": "display_data"
    }
   ],
   "source": [
    "plt.scatter(digit_features_tsne[:,0], digit_features_tsne[:,1], c=y)"
   ]
  },
  {
   "cell_type": "code",
   "execution_count": 58,
   "metadata": {},
   "outputs": [],
   "source": [
    "import pandas as pd\n",
    "\n",
    "tsne_df = tsne_df = pd.DataFrame(\n",
    "    np.column_stack((digit_features_tsne, y)),\n",
    "    columns = ['X', 'y', 'targets']\n",
    ")"
   ]
  },
  {
   "cell_type": "code",
   "execution_count": 60,
   "metadata": {},
   "outputs": [
    {
     "name": "stderr",
     "output_type": "stream",
     "text": [
      "c:\\Users\\phili\\techlabs\\ai_venv\\lib\\site-packages\\seaborn\\axisgrid.py:337: UserWarning: The `size` parameter has been renamed to `height`; please update your code.\n",
      "  warnings.warn(msg, UserWarning)\n"
     ]
    },
    {
     "data": {
      "text/plain": [
       "<seaborn.axisgrid.FacetGrid at 0x1628fee7c40>"
      ]
     },
     "execution_count": 60,
     "metadata": {},
     "output_type": "execute_result"
    },
    {
     "data": {
      "image/png": "[encoded data removed]",
      "text/plain": [
       "<Figure size 872x800 with 1 Axes>"
      ]
     },
     "metadata": {},
     "output_type": "display_data"
    }
   ],
   "source": [
    "import seaborn as sns\n",
    "grid = sns.FacetGrid(tsne_df, hue='targets', size=8)\n",
    "grid.map(plt.scatter, 'X', 'y').add_legend()"
   ]
  },
  {
   "cell_type": "markdown",
   "metadata": {},
   "source": [
    "Transfer Learning"
   ]
  },
  {
   "cell_type": "code",
   "execution_count": 16,
   "metadata": {},
   "outputs": [],
   "source": [
    "# for loading/processing the images  \n",
    "from keras.preprocessing.image import load_img \n",
    "from keras.preprocessing.image import img_to_array \n",
    "from keras.applications.vgg16 import preprocess_input \n",
    "import tensorflow as tf\n",
    "# models \n",
    "from keras.applications.vgg16 import VGG16 \n",
    "from keras.models import Model\n",
    "from keras.layers import Concatenate\n",
    "import cv2"
   ]
  },
  {
   "cell_type": "code",
   "execution_count": 17,
   "metadata": {},
   "outputs": [],
   "source": [
    "model = VGG16()\n",
    "model = Model(inputs = model.inputs, outputs = model.layers[-2].output)"
   ]
  },
  {
   "cell_type": "code",
   "execution_count": 19,
   "metadata": {},
   "outputs": [],
   "source": [
    "data = []\n",
    "for i in range(len(sample.pressure)):\n",
    "\n",
    "    img = sample.pressure[i]\n",
    "    img = cv2.resize(img, dsize=(224, 224), interpolation=cv2.INTER_CUBIC)\n",
    "    reshaped_img = img.reshape(224, 224, 1)\n",
    "    img_conc = Concatenate()([reshaped_img, reshaped_img, reshaped_img])\n",
    "    img_conc = tf.reshape(img_conc,(1,224,224,3))\n",
    "    # prepare image for model\n",
    "    imgx = preprocess_input(img_conc)\n",
    "    # get the feature vector\n",
    "    features = model.predict(imgx, use_multiprocessing=True)\n",
    "    data.append(features)\n"
   ]
  },
  {
   "cell_type": "code",
   "execution_count": 70,
   "metadata": {},
   "outputs": [],
   "source": [
    "test = np.array(data)"
   ]
  },
  {
   "cell_type": "code",
   "execution_count": 72,
   "metadata": {},
   "outputs": [],
   "source": [
    "test = test.reshape(-1,len(sample))"
   ]
  },
  {
   "cell_type": "code",
   "execution_count": 61,
   "metadata": {},
   "outputs": [
    {
     "data": {
      "text/plain": [
       "600"
      ]
     },
     "execution_count": 61,
     "metadata": {},
     "output_type": "execute_result"
    }
   ],
   "source": [
    "len(data)"
   ]
  },
  {
   "cell_type": "code",
   "execution_count": 62,
   "metadata": {},
   "outputs": [
    {
     "data": {
      "text/plain": [
       "600"
      ]
     },
     "execution_count": 62,
     "metadata": {},
     "output_type": "execute_result"
    }
   ],
   "source": [
    "len(y)"
   ]
  },
  {
   "cell_type": "code",
   "execution_count": 22,
   "metadata": {},
   "outputs": [],
   "source": [
    "X_train = np.array(data)\n",
    "X = X_train.reshape(-1,len(sample))#We will only be using X for clustering. No need of y."
   ]
  },
  {
   "cell_type": "code",
   "execution_count": 75,
   "metadata": {},
   "outputs": [
    {
     "data": {
      "text/plain": [
       "(4096, 600)"
      ]
     },
     "execution_count": 75,
     "metadata": {},
     "output_type": "execute_result"
    }
   ],
   "source": [
    "test.shape"
   ]
  },
  {
   "cell_type": "code",
   "execution_count": 65,
   "metadata": {},
   "outputs": [
    {
     "data": {
      "text/plain": [
       "array([[0.       , 5.1214557, 0.       , ..., 0.       , 0.       ,\n",
       "        0.       ],\n",
       "       [0.       , 0.       , 0.       , ..., 0.       , 0.       ,\n",
       "        0.       ],\n",
       "       [0.       , 0.       , 3.04699  , ..., 0.       , 5.888844 ,\n",
       "        0.       ],\n",
       "       ...,\n",
       "       [0.       , 0.       , 0.       , ..., 0.       , 0.       ,\n",
       "        0.9012717],\n",
       "       [0.       , 0.       , 0.       , ..., 0.       , 0.       ,\n",
       "        0.       ],\n",
       "       [0.       , 0.       , 2.8837621, ..., 0.       , 1.8030102,\n",
       "        0.       ]], dtype=float32)"
      ]
     },
     "execution_count": 65,
     "metadata": {},
     "output_type": "execute_result"
    }
   ],
   "source": [
    "X"
   ]
  },
  {
   "cell_type": "code",
   "execution_count": 24,
   "metadata": {},
   "outputs": [],
   "source": [
    "from sklearn.manifold import TSNE"
   ]
  },
  {
   "cell_type": "code",
   "execution_count": 73,
   "metadata": {},
   "outputs": [],
   "source": [
    "tsne = TSNE(n_components=2)\n",
    "# digit_features_tsne = tsne.fit_transform(X)\n",
    "digit_features_tsne = tsne.fit_transform(test)"
   ]
  },
  {
   "cell_type": "code",
   "execution_count": 39,
   "metadata": {},
   "outputs": [],
   "source": [
    "from sklearn import preprocessing\n",
    "le = preprocessing.LabelEncoder()"
   ]
  },
  {
   "cell_type": "code",
   "execution_count": 51,
   "metadata": {},
   "outputs": [],
   "source": [
    "sample.label = sample.label.astype(str)\n",
    "sample.label = le.fit_transform(sample.label.values)"
   ]
  },
  {
   "cell_type": "code",
   "execution_count": 57,
   "metadata": {},
   "outputs": [],
   "source": [
    "y = sample.label"
   ]
  },
  {
   "cell_type": "code",
   "execution_count": 58,
   "metadata": {},
   "outputs": [],
   "source": [
    "y = np.array(y)"
   ]
  },
  {
   "cell_type": "code",
   "execution_count": 59,
   "metadata": {},
   "outputs": [
    {
     "data": {
      "text/plain": [
       "600"
      ]
     },
     "execution_count": 59,
     "metadata": {},
     "output_type": "execute_result"
    }
   ],
   "source": [
    "len(y)"
   ]
  },
  {
   "cell_type": "code",
   "execution_count": 54,
   "metadata": {},
   "outputs": [],
   "source": [
    "y = y.reshape(-1,1)"
   ]
  },
  {
   "cell_type": "code",
   "execution_count": 60,
   "metadata": {},
   "outputs": [
    {
     "data": {
      "text/plain": [
       "4096"
      ]
     },
     "execution_count": 60,
     "metadata": {},
     "output_type": "execute_result"
    }
   ],
   "source": [
    "len(X)"
   ]
  },
  {
   "cell_type": "code",
   "execution_count": 74,
   "metadata": {},
   "outputs": [
    {
     "data": {
      "text/plain": [
       "<matplotlib.collections.PathCollection at 0x1fd1a96ff70>"
      ]
     },
     "execution_count": 74,
     "metadata": {},
     "output_type": "execute_result"
    },
    {
     "data": {
      "image/png": "[encoded data removed]",
      "text/plain": [
       "<Figure size 432x288 with 1 Axes>"
      ]
     },
     "metadata": {
      "needs_background": "light"
     },
     "output_type": "display_data"
    }
   ],
   "source": [
    "plt.scatter(digit_features_tsne[:,0], digit_features_tsne[:,1])"
   ]
  },
  {
   "cell_type": "code",
   "execution_count": null,
   "metadata": {},
   "outputs": [],
   "source": []
  }
 ],
 "metadata": {
  "kernelspec": {
   "display_name": "Python 3.9.13 ('ai_venv': venv)",
   "language": "python",
   "name": "python3"
  },
  "language_info": {
   "codemirror_mode": {
    "name": "ipython",
    "version": 3
   },
   "file_extension": ".py",
   "mimetype": "text/x-python",
   "name": "python",
   "nbconvert_exporter": "python",
   "pygments_lexer": "ipython3",
   "version": "3.9.13"
  },
  "orig_nbformat": 4,
  "vscode": {
   "interpreter": {
    "hash": "61b7df5d9071b0efdf0b1f9d321606cf145668ae84e6d141964c63ae20698bd3"
   }
  }
 },
 "nbformat": 4,
 "nbformat_minor": 2
}

{
 "cells": [
  {
   "cell_type": "code",
   "execution_count": 1,
   "metadata": {},
   "outputs": [],
   "source": [
    "import os\n",
    "import csv\n",
    "import pickle\n",
    "import glob\n",
    "import cv2\n",
    "from zipfile import ZipFile\n",
    "import pandas as pd\n",
    "import numpy as np\n",
    "import matplotlib.pyplot as plt\n",
    "import seaborn as sns\n",
    "import plotly.figure_factory as ff\n",
    "import plotly.express as px\n",
    "import plotly.graph_objects as go\n",
    "\n",
    "import warnings\n",
    "from pandas.core.common import SettingWithCopyWarning\n",
    "warnings.simplefilter(action=\"ignore\", category=SettingWithCopyWarning)\n",
    "warnings.simplefilter(action='ignore', category=FutureWarning)"
   ]
  },
  {
   "cell_type": "code",
   "execution_count": 2,
   "metadata": {},
   "outputs": [],
   "source": [
    "labels_dir = os.getcwd()+'\\labels'\n",
    "data_dir = os.getcwd()+'\\Data'\n",
    "labels_list = os.listdir(labels_dir)\n",
    "data_list = os.listdir(data_dir)"
   ]
  },
  {
   "cell_type": "code",
   "execution_count": 3,
   "metadata": {},
   "outputs": [],
   "source": [
    "txt = []\n",
    "for index in range(0, len(labels_list)): #start from new dataset\n",
    "    label = labels_list[index]\n",
    "    txt.append(os.path.join(labels_dir, label))"
   ]
  },
  {
   "cell_type": "code",
   "execution_count": 4,
   "metadata": {},
   "outputs": [],
   "source": [
    "dt = []\n",
    "for index in range(0, len(data_list)): #start from new dataset\n",
    "    d = data_list[index]\n",
    "    dt.append(os.path.join(data_dir, d))"
   ]
  },
  {
   "cell_type": "code",
   "execution_count": 6,
   "metadata": {},
   "outputs": [],
   "source": [
    "def extract_label(txt):\n",
    "    clean_vars = []\n",
    "    with open(txt, 'r') as csvfile:\n",
    "    # with open(r'C:\\Users\\phili\\techlabs\\eth_sms\\labels\\SMS_064_Körperlage.txt', 'r') as csvfile:\n",
    "        reader = csv.reader(csvfile, delimiter=';', quotechar=\",\")\n",
    "        for row in reader:\n",
    "            # clean up your file here and append it to the list\n",
    "            clean_vars.append([char for char in row if char])\n",
    "\n",
    "    my_string = ' '.join(map(str,clean_vars[1]))\n",
    "    start_date = my_string.split(\":\",1)[1]\n",
    "    start = start_date[0:11] #get only the date\n",
    "\n",
    "    list = clean_vars[6:] #get the labels\n",
    "    df = pd.DataFrame(list, columns=['time','Position'])\n",
    "    # start = pd.to_datetime(start, format='%d%m%Y')\n",
    "    df.time = df.time.str.replace(',','.')\n",
    "    df.time = df.time.str.lstrip()\n",
    "    # df.time = df.time.str.replace(\" \", \"\", n = 1)\n",
    "    df.time = df.time.apply(lambda x: ' '.join((start, x))) # add date\n",
    "    # df.time= pd.to_datetime(df.time)\n",
    "    # morning_hour = df.iloc[-1]['time'].hour '%m/%d/%Y %H:%M:%S.%f'\n",
    "    df.time = pd.to_datetime(df['time'], format=' %d.%m.%Y %H:%M:%S.%f')\n",
    "    df.time = pd.to_datetime(df.time).apply(lambda x: x + pd.DateOffset(days=1) if x.hour <= 10 else x) # corect the date after 0 o'clock\n",
    "    # df.time = pd.to_datetime(df.time,format='%Y/%m/%d %H:%M:%S.%f')\n",
    "    # df_end = df[df['Position']!=' A']\n",
    "    df_end = df\n",
    "    df_end = df_end.reset_index().drop(columns= ['index'])\n",
    "    df_end['end'] = df_end['time'].shift(-1) # get the duration\n",
    "    df_end['end'] = np.where(df_end['end'].isnull(), df_end['time'], df_end['end'])\n",
    "    return df_end\n"
   ]
  },
  {
   "cell_type": "code",
   "execution_count": 7,
   "metadata": {},
   "outputs": [],
   "source": [
    "def extract_label_old(txt):\n",
    "    clean_vars = []\n",
    "    with open(txt, 'r') as csvfile:\n",
    "    # with open(r'C:\\Users\\phili\\techlabs\\eth_sms\\labels\\SMS_064_Körperlage.txt', 'r') as csvfile:\n",
    "        reader = csv.reader(csvfile, delimiter=';', quotechar=\",\")\n",
    "        for row in reader:\n",
    "            # clean up your file here and append it to the list\n",
    "            clean_vars.append([char for char in row if char])\n",
    "    info = clean_vars[483:]\n",
    "    df = pd.DataFrame(info)\n",
    "    df[0] = df[0].str.replace('\\t',',')\n",
    "    dfnew = df[0].str.split(',', expand=True)\n",
    "    df_end = dfnew[dfnew[3].str.contains('POSITION')].reset_index().drop(columns=['index',0,1,4,5]).rename({2: 'time', 3: 'Position'}, axis=1)\n",
    "    df_end.time = pd.to_datetime(df_end['time'], format='%Y.%m.%dT%H:%M:%S.%f')\n",
    "    df_end['end'] = df_end['time'].shift(-1) # get the duration\n",
    "    df_end['end'] = np.where(df_end['end'].isnull(), df_end['time'], df_end['end'])\n",
    "    return df_end\n",
    "\n"
   ]
  },
  {
   "cell_type": "code",
   "execution_count": 8,
   "metadata": {},
   "outputs": [],
   "source": [
    "def get_data(dt):\n",
    "    data = pd.read_pickle(dt)\n",
    "    data = data.reset_index()\n",
    "    data = data.rename(columns={\"index\": \"time\", \"matData\": \"pressure\"})\n",
    "    data['time'] = pd.to_datetime(data['time'],unit='ms')\n",
    "    df_new = data.drop_duplicates(subset='time', keep='first').reset_index().drop(columns= ['index']) #drop with exact date and hours and get the first one\n",
    "    df_new['end'] = df_new['time'].shift(-1) # get the duration\n",
    "    df_new['end'] = np.where(df_new['end'].isnull(), df_new['time'], df_new['end'])\n",
    "    df_new['time'] = df_new['time'] + pd.Timedelta(hours=1)\n",
    "    df_new['end'] = df_new['end'] + pd.Timedelta(hours=1)\n",
    "    df_new['label'] = 0\n",
    "    return df_new"
   ]
  },
  {
   "cell_type": "code",
   "execution_count": 9,
   "metadata": {},
   "outputs": [],
   "source": [
    "def get_data_old(dt):\n",
    "    data = pd.read_pickle(dt)\n",
    "    data = data.reset_index()\n",
    "    data = data.rename(columns={\"index\": \"time\", \"matData\": \"pressure\"})\n",
    "    data['time'] = pd.to_datetime(data['time'],unit='ms')\n",
    "    df_new = data.drop_duplicates(subset='time', keep='first').reset_index().drop(columns= ['index']) #drop with exact date and hours and get the first one\n",
    "    df_new['end'] = df_new['time'].shift(-1) # get the duration\n",
    "    df_new['end'] = np.where(df_new['end'].isnull(), df_new['time'], df_new['end'])\n",
    "    df_new['time'] = df_new['time'] \n",
    "    df_new['end'] = df_new['end'] \n",
    "    df_new['label'] = 0\n",
    "    return df_new"
   ]
  },
  {
   "cell_type": "code",
   "execution_count": 10,
   "metadata": {},
   "outputs": [],
   "source": [
    "def get_label(txt,dt):\n",
    "    if txt[-10:-4]=='Events':\n",
    "        df_end = extract_label_old(txt)\n",
    "        df_new = get_data_old(dt)\n",
    "    else:\n",
    "        df_end = extract_label(txt)\n",
    "        df_new = get_data(dt)\n",
    "    # df_new = get_data(dt)\n",
    "    for i in range(len(df_new['end'])):\n",
    "        for j in range(len(df_end['time'])):\n",
    "\n",
    "            if (df_new['time'][i] >= df_end['time'][j]) & (df_new['time'][i] <= df_end['end'][j]):\n",
    "                df_new['label'][i] = df_end['Position'][j]\n",
    "                break\n",
    "            else:\n",
    "                continue\n",
    "\n",
    "    \n",
    "\n",
    "    return df_new, df_end"
   ]
  },
  {
   "cell_type": "code",
   "execution_count": 11,
   "metadata": {},
   "outputs": [],
   "source": [
    "df_merged, df_end = get_label(txt[0],dt[0])"
   ]
  },
  {
   "cell_type": "code",
   "execution_count": 134,
   "metadata": {},
   "outputs": [],
   "source": [
    "# Bring number of sample\n",
    "num_img = 200\n",
    "counts_col = df_merged.groupby(\"label\")[\"label\"].transform(len)\n",
    "mask = (counts_col > int(num_img)) \n",
    "df_merged = df_merged[mask]\n",
    "sample = df_merged.groupby('label').sample(n=int(num_img),random_state=2).reset_index().drop(columns=['index'])"
   ]
  },
  {
   "cell_type": "code",
   "execution_count": 135,
   "metadata": {},
   "outputs": [
    {
     "data": {
      "text/html": [
       "<div>\n",
       "<style scoped>\n",
       "    .dataframe tbody tr th:only-of-type {\n",
       "        vertical-align: middle;\n",
       "    }\n",
       "\n",
       "    .dataframe tbody tr th {\n",
       "        vertical-align: top;\n",
       "    }\n",
       "\n",
       "    .dataframe thead th {\n",
       "        text-align: right;\n",
       "    }\n",
       "</style>\n",
       "<table border=\"1\" class=\"dataframe\">\n",
       "  <thead>\n",
       "    <tr style=\"text-align: right;\">\n",
       "      <th></th>\n",
       "      <th>time</th>\n",
       "      <th>pressure</th>\n",
       "      <th>end</th>\n",
       "      <th>label</th>\n",
       "    </tr>\n",
       "  </thead>\n",
       "  <tbody>\n",
       "    <tr>\n",
       "      <th>0</th>\n",
       "      <td>2021-08-08 21:42:05.787</td>\n",
       "      <td>[[275.0, 0.0, 0.0, 0.0, 0.0, 0.0, 0.0, 0.0, 14...</td>\n",
       "      <td>2021-08-08 21:42:06.489</td>\n",
       "      <td>0</td>\n",
       "    </tr>\n",
       "    <tr>\n",
       "      <th>1</th>\n",
       "      <td>2021-08-08 21:15:42.964</td>\n",
       "      <td>[[263.0, 0.0, 0.0, 0.0, 0.0, 0.0, 0.0, 0.0, 14...</td>\n",
       "      <td>2021-08-08 21:15:43.665</td>\n",
       "      <td>0</td>\n",
       "    </tr>\n",
       "    <tr>\n",
       "      <th>2</th>\n",
       "      <td>2021-08-08 21:10:59.477</td>\n",
       "      <td>[[256.0, 0.0, 0.0, 0.0, 0.0, 0.0, 0.0, 0.0, 14...</td>\n",
       "      <td>2021-08-08 21:10:59.978</td>\n",
       "      <td>0</td>\n",
       "    </tr>\n",
       "    <tr>\n",
       "      <th>3</th>\n",
       "      <td>2021-08-08 21:44:36.560</td>\n",
       "      <td>[[266.0, 0.0, 0.0, 0.0, 0.0, 0.0, 0.0, 0.0, 14...</td>\n",
       "      <td>2021-08-08 21:44:37.362</td>\n",
       "      <td>0</td>\n",
       "    </tr>\n",
       "    <tr>\n",
       "      <th>4</th>\n",
       "      <td>2021-08-08 21:07:43.513</td>\n",
       "      <td>[[263.0, 0.0, 0.0, 0.0, 0.0, 0.0, 0.0, 0.0, 14...</td>\n",
       "      <td>2021-08-08 21:07:44.014</td>\n",
       "      <td>0</td>\n",
       "    </tr>\n",
       "    <tr>\n",
       "      <th>...</th>\n",
       "      <td>...</td>\n",
       "      <td>...</td>\n",
       "      <td>...</td>\n",
       "      <td>...</td>\n",
       "    </tr>\n",
       "    <tr>\n",
       "      <th>595</th>\n",
       "      <td>2021-08-08 22:39:56.396</td>\n",
       "      <td>[[276.0, 0.0, 0.0, 0.0, 0.0, 0.0, 0.0, 0.0, 14...</td>\n",
       "      <td>2021-08-08 22:39:57.097</td>\n",
       "      <td>POSITION-UNKNOWN</td>\n",
       "    </tr>\n",
       "    <tr>\n",
       "      <th>596</th>\n",
       "      <td>2021-08-08 22:28:10.787</td>\n",
       "      <td>[[279.0, 0.0, 0.0, 0.0, 0.0, 0.0, 0.0, 0.0, 16...</td>\n",
       "      <td>2021-08-08 22:28:11.489</td>\n",
       "      <td>POSITION-UNKNOWN</td>\n",
       "    </tr>\n",
       "    <tr>\n",
       "      <th>597</th>\n",
       "      <td>2021-08-08 22:40:00.706</td>\n",
       "      <td>[[276.0, 0.0, 0.0, 0.0, 0.0, 0.0, 0.0, 0.0, 14...</td>\n",
       "      <td>2021-08-08 22:40:01.508</td>\n",
       "      <td>POSITION-UNKNOWN</td>\n",
       "    </tr>\n",
       "    <tr>\n",
       "      <th>598</th>\n",
       "      <td>2021-08-08 22:40:24.062</td>\n",
       "      <td>[[279.0, 0.0, 0.0, 0.0, 0.0, 0.0, 0.0, 0.0, 15...</td>\n",
       "      <td>2021-08-08 22:40:24.764</td>\n",
       "      <td>POSITION-UNKNOWN</td>\n",
       "    </tr>\n",
       "    <tr>\n",
       "      <th>599</th>\n",
       "      <td>2021-08-08 22:40:12.333</td>\n",
       "      <td>[[275.0, 0.0, 0.0, 0.0, 0.0, 0.0, 0.0, 0.0, 15...</td>\n",
       "      <td>2021-08-08 22:40:13.035</td>\n",
       "      <td>POSITION-UNKNOWN</td>\n",
       "    </tr>\n",
       "  </tbody>\n",
       "</table>\n",
       "<p>600 rows × 4 columns</p>\n",
       "</div>"
      ],
      "text/plain": [
       "                       time  \\\n",
       "0   2021-08-08 21:42:05.787   \n",
       "1   2021-08-08 21:15:42.964   \n",
       "2   2021-08-08 21:10:59.477   \n",
       "3   2021-08-08 21:44:36.560   \n",
       "4   2021-08-08 21:07:43.513   \n",
       "..                      ...   \n",
       "595 2021-08-08 22:39:56.396   \n",
       "596 2021-08-08 22:28:10.787   \n",
       "597 2021-08-08 22:40:00.706   \n",
       "598 2021-08-08 22:40:24.062   \n",
       "599 2021-08-08 22:40:12.333   \n",
       "\n",
       "                                              pressure  \\\n",
       "0    [[275.0, 0.0, 0.0, 0.0, 0.0, 0.0, 0.0, 0.0, 14...   \n",
       "1    [[263.0, 0.0, 0.0, 0.0, 0.0, 0.0, 0.0, 0.0, 14...   \n",
       "2    [[256.0, 0.0, 0.0, 0.0, 0.0, 0.0, 0.0, 0.0, 14...   \n",
       "3    [[266.0, 0.0, 0.0, 0.0, 0.0, 0.0, 0.0, 0.0, 14...   \n",
       "4    [[263.0, 0.0, 0.0, 0.0, 0.0, 0.0, 0.0, 0.0, 14...   \n",
       "..                                                 ...   \n",
       "595  [[276.0, 0.0, 0.0, 0.0, 0.0, 0.0, 0.0, 0.0, 14...   \n",
       "596  [[279.0, 0.0, 0.0, 0.0, 0.0, 0.0, 0.0, 0.0, 16...   \n",
       "597  [[276.0, 0.0, 0.0, 0.0, 0.0, 0.0, 0.0, 0.0, 14...   \n",
       "598  [[279.0, 0.0, 0.0, 0.0, 0.0, 0.0, 0.0, 0.0, 15...   \n",
       "599  [[275.0, 0.0, 0.0, 0.0, 0.0, 0.0, 0.0, 0.0, 15...   \n",
       "\n",
       "                        end             label  \n",
       "0   2021-08-08 21:42:06.489                 0  \n",
       "1   2021-08-08 21:15:43.665                 0  \n",
       "2   2021-08-08 21:10:59.978                 0  \n",
       "3   2021-08-08 21:44:37.362                 0  \n",
       "4   2021-08-08 21:07:44.014                 0  \n",
       "..                      ...               ...  \n",
       "595 2021-08-08 22:39:57.097  POSITION-UNKNOWN  \n",
       "596 2021-08-08 22:28:11.489  POSITION-UNKNOWN  \n",
       "597 2021-08-08 22:40:01.508  POSITION-UNKNOWN  \n",
       "598 2021-08-08 22:40:24.764  POSITION-UNKNOWN  \n",
       "599 2021-08-08 22:40:13.035  POSITION-UNKNOWN  \n",
       "\n",
       "[600 rows x 4 columns]"
      ]
     },
     "execution_count": 135,
     "metadata": {},
     "output_type": "execute_result"
    }
   ],
   "source": [
    "sample"
   ]
  },
  {
   "cell_type": "code",
   "execution_count": 137,
   "metadata": {},
   "outputs": [
    {
     "data": {
      "text/plain": [
       "array([0, 'POSITION-SUPINE', 'POSITION-UNKNOWN'], dtype=object)"
      ]
     },
     "execution_count": 137,
     "metadata": {},
     "output_type": "execute_result"
    }
   ],
   "source": [
    "sample.label.unique()"
   ]
  },
  {
   "cell_type": "code",
   "execution_count": 143,
   "metadata": {},
   "outputs": [],
   "source": [
    "sample.label = pd.np.where(sample.label == 0,' Zeros', sample.label)"
   ]
  },
  {
   "cell_type": "code",
   "execution_count": 146,
   "metadata": {},
   "outputs": [],
   "source": [
    "from sklearn.preprocessing import LabelEncoder\n",
    "labelencoder = LabelEncoder()"
   ]
  },
  {
   "cell_type": "code",
   "execution_count": 148,
   "metadata": {},
   "outputs": [
    {
     "data": {
      "text/html": [
       "<div>\n",
       "<style scoped>\n",
       "    .dataframe tbody tr th:only-of-type {\n",
       "        vertical-align: middle;\n",
       "    }\n",
       "\n",
       "    .dataframe tbody tr th {\n",
       "        vertical-align: top;\n",
       "    }\n",
       "\n",
       "    .dataframe thead th {\n",
       "        text-align: right;\n",
       "    }\n",
       "</style>\n",
       "<table border=\"1\" class=\"dataframe\">\n",
       "  <thead>\n",
       "    <tr style=\"text-align: right;\">\n",
       "      <th></th>\n",
       "      <th>time</th>\n",
       "      <th>pressure</th>\n",
       "      <th>end</th>\n",
       "      <th>label</th>\n",
       "    </tr>\n",
       "  </thead>\n",
       "  <tbody>\n",
       "    <tr>\n",
       "      <th>0</th>\n",
       "      <td>2021-08-08 21:42:05.787</td>\n",
       "      <td>[[275.0, 0.0, 0.0, 0.0, 0.0, 0.0, 0.0, 0.0, 14...</td>\n",
       "      <td>2021-08-08 21:42:06.489</td>\n",
       "      <td>Zeros</td>\n",
       "    </tr>\n",
       "    <tr>\n",
       "      <th>1</th>\n",
       "      <td>2021-08-08 21:15:42.964</td>\n",
       "      <td>[[263.0, 0.0, 0.0, 0.0, 0.0, 0.0, 0.0, 0.0, 14...</td>\n",
       "      <td>2021-08-08 21:15:43.665</td>\n",
       "      <td>Zeros</td>\n",
       "    </tr>\n",
       "    <tr>\n",
       "      <th>2</th>\n",
       "      <td>2021-08-08 21:10:59.477</td>\n",
       "      <td>[[256.0, 0.0, 0.0, 0.0, 0.0, 0.0, 0.0, 0.0, 14...</td>\n",
       "      <td>2021-08-08 21:10:59.978</td>\n",
       "      <td>Zeros</td>\n",
       "    </tr>\n",
       "    <tr>\n",
       "      <th>3</th>\n",
       "      <td>2021-08-08 21:44:36.560</td>\n",
       "      <td>[[266.0, 0.0, 0.0, 0.0, 0.0, 0.0, 0.0, 0.0, 14...</td>\n",
       "      <td>2021-08-08 21:44:37.362</td>\n",
       "      <td>Zeros</td>\n",
       "    </tr>\n",
       "    <tr>\n",
       "      <th>4</th>\n",
       "      <td>2021-08-08 21:07:43.513</td>\n",
       "      <td>[[263.0, 0.0, 0.0, 0.0, 0.0, 0.0, 0.0, 0.0, 14...</td>\n",
       "      <td>2021-08-08 21:07:44.014</td>\n",
       "      <td>Zeros</td>\n",
       "    </tr>\n",
       "    <tr>\n",
       "      <th>...</th>\n",
       "      <td>...</td>\n",
       "      <td>...</td>\n",
       "      <td>...</td>\n",
       "      <td>...</td>\n",
       "    </tr>\n",
       "    <tr>\n",
       "      <th>595</th>\n",
       "      <td>2021-08-08 22:39:56.396</td>\n",
       "      <td>[[276.0, 0.0, 0.0, 0.0, 0.0, 0.0, 0.0, 0.0, 14...</td>\n",
       "      <td>2021-08-08 22:39:57.097</td>\n",
       "      <td>POSITION-UNKNOWN</td>\n",
       "    </tr>\n",
       "    <tr>\n",
       "      <th>596</th>\n",
       "      <td>2021-08-08 22:28:10.787</td>\n",
       "      <td>[[279.0, 0.0, 0.0, 0.0, 0.0, 0.0, 0.0, 0.0, 16...</td>\n",
       "      <td>2021-08-08 22:28:11.489</td>\n",
       "      <td>POSITION-UNKNOWN</td>\n",
       "    </tr>\n",
       "    <tr>\n",
       "      <th>597</th>\n",
       "      <td>2021-08-08 22:40:00.706</td>\n",
       "      <td>[[276.0, 0.0, 0.0, 0.0, 0.0, 0.0, 0.0, 0.0, 14...</td>\n",
       "      <td>2021-08-08 22:40:01.508</td>\n",
       "      <td>POSITION-UNKNOWN</td>\n",
       "    </tr>\n",
       "    <tr>\n",
       "      <th>598</th>\n",
       "      <td>2021-08-08 22:40:24.062</td>\n",
       "      <td>[[279.0, 0.0, 0.0, 0.0, 0.0, 0.0, 0.0, 0.0, 15...</td>\n",
       "      <td>2021-08-08 22:40:24.764</td>\n",
       "      <td>POSITION-UNKNOWN</td>\n",
       "    </tr>\n",
       "    <tr>\n",
       "      <th>599</th>\n",
       "      <td>2021-08-08 22:40:12.333</td>\n",
       "      <td>[[275.0, 0.0, 0.0, 0.0, 0.0, 0.0, 0.0, 0.0, 15...</td>\n",
       "      <td>2021-08-08 22:40:13.035</td>\n",
       "      <td>POSITION-UNKNOWN</td>\n",
       "    </tr>\n",
       "  </tbody>\n",
       "</table>\n",
       "<p>600 rows × 4 columns</p>\n",
       "</div>"
      ],
      "text/plain": [
       "                       time  \\\n",
       "0   2021-08-08 21:42:05.787   \n",
       "1   2021-08-08 21:15:42.964   \n",
       "2   2021-08-08 21:10:59.477   \n",
       "3   2021-08-08 21:44:36.560   \n",
       "4   2021-08-08 21:07:43.513   \n",
       "..                      ...   \n",
       "595 2021-08-08 22:39:56.396   \n",
       "596 2021-08-08 22:28:10.787   \n",
       "597 2021-08-08 22:40:00.706   \n",
       "598 2021-08-08 22:40:24.062   \n",
       "599 2021-08-08 22:40:12.333   \n",
       "\n",
       "                                              pressure  \\\n",
       "0    [[275.0, 0.0, 0.0, 0.0, 0.0, 0.0, 0.0, 0.0, 14...   \n",
       "1    [[263.0, 0.0, 0.0, 0.0, 0.0, 0.0, 0.0, 0.0, 14...   \n",
       "2    [[256.0, 0.0, 0.0, 0.0, 0.0, 0.0, 0.0, 0.0, 14...   \n",
       "3    [[266.0, 0.0, 0.0, 0.0, 0.0, 0.0, 0.0, 0.0, 14...   \n",
       "4    [[263.0, 0.0, 0.0, 0.0, 0.0, 0.0, 0.0, 0.0, 14...   \n",
       "..                                                 ...   \n",
       "595  [[276.0, 0.0, 0.0, 0.0, 0.0, 0.0, 0.0, 0.0, 14...   \n",
       "596  [[279.0, 0.0, 0.0, 0.0, 0.0, 0.0, 0.0, 0.0, 16...   \n",
       "597  [[276.0, 0.0, 0.0, 0.0, 0.0, 0.0, 0.0, 0.0, 14...   \n",
       "598  [[279.0, 0.0, 0.0, 0.0, 0.0, 0.0, 0.0, 0.0, 15...   \n",
       "599  [[275.0, 0.0, 0.0, 0.0, 0.0, 0.0, 0.0, 0.0, 15...   \n",
       "\n",
       "                        end             label  \n",
       "0   2021-08-08 21:42:06.489             Zeros  \n",
       "1   2021-08-08 21:15:43.665             Zeros  \n",
       "2   2021-08-08 21:10:59.978             Zeros  \n",
       "3   2021-08-08 21:44:37.362             Zeros  \n",
       "4   2021-08-08 21:07:44.014             Zeros  \n",
       "..                      ...               ...  \n",
       "595 2021-08-08 22:39:57.097  POSITION-UNKNOWN  \n",
       "596 2021-08-08 22:28:11.489  POSITION-UNKNOWN  \n",
       "597 2021-08-08 22:40:01.508  POSITION-UNKNOWN  \n",
       "598 2021-08-08 22:40:24.764  POSITION-UNKNOWN  \n",
       "599 2021-08-08 22:40:13.035  POSITION-UNKNOWN  \n",
       "\n",
       "[600 rows x 4 columns]"
      ]
     },
     "execution_count": 148,
     "metadata": {},
     "output_type": "execute_result"
    }
   ],
   "source": [
    "sample"
   ]
  },
  {
   "cell_type": "code",
   "execution_count": 149,
   "metadata": {},
   "outputs": [],
   "source": [
    "sample.label = sample.label.astype('category')"
   ]
  },
  {
   "cell_type": "code",
   "execution_count": 150,
   "metadata": {},
   "outputs": [],
   "source": [
    "sample.label = sample.label.cat.codes"
   ]
  },
  {
   "cell_type": "code",
   "execution_count": 92,
   "metadata": {},
   "outputs": [
    {
     "data": {
      "text/plain": [
       "(48, 22)"
      ]
     },
     "execution_count": 92,
     "metadata": {},
     "output_type": "execute_result"
    }
   ],
   "source": [
    "sample.pressure[0].shape"
   ]
  },
  {
   "cell_type": "markdown",
   "metadata": {},
   "source": [
    "CNN"
   ]
  },
  {
   "cell_type": "code",
   "execution_count": 80,
   "metadata": {},
   "outputs": [],
   "source": [
    "from tensorflow import keras\n",
    "import tensorflow as tf\n",
    "from sklearn import datasets\n",
    "import numpy as np\n",
    "import matplotlib.pyplot as plt\n",
    "from keras import layers"
   ]
  },
  {
   "cell_type": "code",
   "execution_count": 107,
   "metadata": {},
   "outputs": [],
   "source": [
    "def CAE(input_shape=(48, 48, 1), filters=[32, 64, 128, 10]):\n",
    "    model = keras.Sequential()\n",
    "    if input_shape[0] % 8 == 0:\n",
    "        pad3 = 'same'\n",
    "    else:\n",
    "        pad3 = 'valid'\n",
    "    model.add(layers.Conv2D(filters[0], 5, strides=2, padding='same', activation='relu', name='conv1', input_shape=input_shape))\n",
    "\n",
    "    model.add(layers.Conv2D(filters[1], 5, strides=2, padding='same', activation='relu', name='conv2'))\n",
    "\n",
    "    model.add(layers.Conv2D(filters[2], 3, strides=2, padding=pad3, activation='relu', name='conv3'))\n",
    "\n",
    "    model.add(layers.Flatten())\n",
    "    model.add(layers.Dense(units=filters[3], name='embedding'))\n",
    "    model.add(layers.Dense(units=filters[2]*int(input_shape[0]/8)*int(input_shape[0]/8), activation='relu'))\n",
    "\n",
    "    model.add(layers.Reshape((int(input_shape[0]/8), int(input_shape[0]/8), filters[2])))\n",
    "    model.add(layers.Conv2DTranspose(filters[1], 3, strides=2, padding=pad3, activation='relu', name='deconv3'))\n",
    "\n",
    "    model.add(layers.Conv2DTranspose(filters[0], 5, strides=2, padding='same', activation='relu', name='deconv2'))\n",
    "\n",
    "    model.add(layers.Conv2DTranspose(input_shape[2], 5, strides=2, padding='same', name='deconv1'))\n",
    "    model.summary()\n",
    "    return model"
   ]
  },
  {
   "cell_type": "code",
   "execution_count": 108,
   "metadata": {},
   "outputs": [
    {
     "name": "stdout",
     "output_type": "stream",
     "text": [
      "Model: \"sequential_3\"\n",
      "_________________________________________________________________\n",
      " Layer (type)                Output Shape              Param #   \n",
      "=================================================================\n",
      " conv1 (Conv2D)              (None, 24, 24, 32)        832       \n",
      "                                                                 \n",
      " conv2 (Conv2D)              (None, 12, 12, 64)        51264     \n",
      "                                                                 \n",
      " conv3 (Conv2D)              (None, 6, 6, 128)         73856     \n",
      "                                                                 \n",
      " flatten_3 (Flatten)         (None, 4608)              0         \n",
      "                                                                 \n",
      " embedding (Dense)           (None, 10)                46090     \n",
      "                                                                 \n",
      " dense_3 (Dense)             (None, 4608)              50688     \n",
      "                                                                 \n",
      " reshape_3 (Reshape)         (None, 6, 6, 128)         0         \n",
      "                                                                 \n",
      " deconv3 (Conv2DTranspose)   (None, 12, 12, 64)        73792     \n",
      "                                                                 \n",
      " deconv2 (Conv2DTranspose)   (None, 24, 24, 32)        51232     \n",
      "                                                                 \n",
      " deconv1 (Conv2DTranspose)   (None, 48, 48, 1)         801       \n",
      "                                                                 \n",
      "=================================================================\n",
      "Total params: 348,555\n",
      "Trainable params: 348,555\n",
      "Non-trainable params: 0\n",
      "_________________________________________________________________\n"
     ]
    }
   ],
   "source": [
    "model = CAE()"
   ]
  },
  {
   "cell_type": "code",
   "execution_count": 110,
   "metadata": {},
   "outputs": [],
   "source": [
    "collect = []\n",
    "for i in range(len(sample.pressure)):\n",
    "\n",
    "    img = sample.pressure[i]\n",
    "    img = cv2.resize(img, dsize=(48, 48), interpolation=cv2.INTER_CUBIC)\n",
    "    reshaped_img = img.reshape(48, 48, 1)\n",
    "    collect.append(reshaped_img)"
   ]
  },
  {
   "cell_type": "code",
   "execution_count": 111,
   "metadata": {},
   "outputs": [],
   "source": [
    "collect = np.array(collect)"
   ]
  },
  {
   "cell_type": "code",
   "execution_count": 112,
   "metadata": {},
   "outputs": [
    {
     "data": {
      "text/plain": [
       "(600, 48, 48, 1)"
      ]
     },
     "execution_count": 112,
     "metadata": {},
     "output_type": "execute_result"
    }
   ],
   "source": [
    "collect.shape"
   ]
  },
  {
   "cell_type": "code",
   "execution_count": 113,
   "metadata": {},
   "outputs": [],
   "source": [
    "optimizer = keras.optimizers.Adam()\n",
    "loss = keras.losses.mean_squared_error\n",
    "model.compile(optimizer=optimizer, loss= loss, metrics=[\"accuracy\"])"
   ]
  },
  {
   "cell_type": "code",
   "execution_count": 114,
   "metadata": {},
   "outputs": [
    {
     "name": "stdout",
     "output_type": "stream",
     "text": [
      "Epoch 1/20\n",
      "19/19 [==============================] - 1s 37ms/step - loss: 11305.6367 - accuracy: 0.0449\n",
      "Epoch 2/20\n",
      "19/19 [==============================] - 1s 37ms/step - loss: 4104.9028 - accuracy: 0.0095\n",
      "Epoch 3/20\n",
      "19/19 [==============================] - 1s 39ms/step - loss: 2396.3464 - accuracy: 0.0375\n",
      "Epoch 4/20\n",
      "19/19 [==============================] - 1s 37ms/step - loss: 1886.6058 - accuracy: 0.0818\n",
      "Epoch 5/20\n",
      "19/19 [==============================] - 1s 37ms/step - loss: 1763.0404 - accuracy: 0.1292\n",
      "Epoch 6/20\n",
      "19/19 [==============================] - 1s 37ms/step - loss: 1714.6389 - accuracy: 0.1585\n",
      "Epoch 7/20\n",
      "19/19 [==============================] - 1s 37ms/step - loss: 1662.5537 - accuracy: 0.1681\n",
      "Epoch 8/20\n",
      "19/19 [==============================] - 1s 37ms/step - loss: 1427.3292 - accuracy: 0.1899\n",
      "Epoch 9/20\n",
      "19/19 [==============================] - 1s 38ms/step - loss: 1052.0986 - accuracy: 0.2278\n",
      "Epoch 10/20\n",
      "19/19 [==============================] - 1s 37ms/step - loss: 892.5473 - accuracy: 0.2258\n",
      "Epoch 11/20\n",
      "19/19 [==============================] - 1s 37ms/step - loss: 766.4267 - accuracy: 0.2398\n",
      "Epoch 12/20\n",
      "19/19 [==============================] - 1s 37ms/step - loss: 654.9696 - accuracy: 0.2494\n",
      "Epoch 13/20\n",
      "19/19 [==============================] - 1s 37ms/step - loss: 552.7114 - accuracy: 0.2425\n",
      "Epoch 14/20\n",
      "19/19 [==============================] - 1s 37ms/step - loss: 471.2760 - accuracy: 0.2540\n",
      "Epoch 15/20\n",
      "19/19 [==============================] - 1s 38ms/step - loss: 411.0576 - accuracy: 0.2542\n",
      "Epoch 16/20\n",
      "19/19 [==============================] - 1s 38ms/step - loss: 345.1378 - accuracy: 0.2608\n",
      "Epoch 17/20\n",
      "19/19 [==============================] - 1s 37ms/step - loss: 298.1055 - accuracy: 0.2568\n",
      "Epoch 18/20\n",
      "19/19 [==============================] - 1s 37ms/step - loss: 269.1618 - accuracy: 0.2611\n",
      "Epoch 19/20\n",
      "19/19 [==============================] - 1s 38ms/step - loss: 263.7159 - accuracy: 0.2600\n",
      "Epoch 20/20\n",
      "19/19 [==============================] - 1s 39ms/step - loss: 229.4174 - accuracy: 0.2632\n"
     ]
    },
    {
     "data": {
      "text/plain": [
       "<keras.callbacks.History at 0x1fd1b394fd0>"
      ]
     },
     "execution_count": 114,
     "metadata": {},
     "output_type": "execute_result"
    }
   ],
   "source": [
    "model.fit(collect , collect, epochs=20)"
   ]
  },
  {
   "cell_type": "code",
   "execution_count": 115,
   "metadata": {},
   "outputs": [
    {
     "name": "stdout",
     "output_type": "stream",
     "text": [
      "Model: \"model_1\"\n",
      "_________________________________________________________________\n",
      " Layer (type)                Output Shape              Param #   \n",
      "=================================================================\n",
      " conv1_input (InputLayer)    [(None, 48, 48, 1)]       0         \n",
      "                                                                 \n",
      " conv1 (Conv2D)              (None, 24, 24, 32)        832       \n",
      "                                                                 \n",
      " conv2 (Conv2D)              (None, 12, 12, 64)        51264     \n",
      "                                                                 \n",
      " conv3 (Conv2D)              (None, 6, 6, 128)         73856     \n",
      "                                                                 \n",
      " flatten_3 (Flatten)         (None, 4608)              0         \n",
      "                                                                 \n",
      " embedding (Dense)           (None, 10)                46090     \n",
      "                                                                 \n",
      " dense_3 (Dense)             (None, 4608)              50688     \n",
      "                                                                 \n",
      " reshape_3 (Reshape)         (None, 6, 6, 128)         0         \n",
      "                                                                 \n",
      " deconv3 (Conv2DTranspose)   (None, 12, 12, 64)        73792     \n",
      "                                                                 \n",
      " deconv2 (Conv2DTranspose)   (None, 24, 24, 32)        51232     \n",
      "                                                                 \n",
      " deconv1 (Conv2DTranspose)   (None, 48, 48, 1)         801       \n",
      "                                                                 \n",
      "=================================================================\n",
      "Total params: 348,555\n",
      "Trainable params: 348,555\n",
      "Non-trainable params: 0\n",
      "_________________________________________________________________\n"
     ]
    }
   ],
   "source": [
    "mm = keras.Model(inputs=model.input, outputs=model.output)\n",
    "mm.summary()"
   ]
  },
  {
   "cell_type": "code",
   "execution_count": 117,
   "metadata": {},
   "outputs": [
    {
     "data": {
      "text/plain": [
       "<matplotlib.image.AxesImage at 0x1fd1b5805b0>"
      ]
     },
     "execution_count": 117,
     "metadata": {},
     "output_type": "execute_result"
    },
    {
     "data": {
      "image/png": "[encoded data removed]",
      "text/plain": [
       "<Figure size 432x288 with 1 Axes>"
      ]
     },
     "metadata": {
      "needs_background": "light"
     },
     "output_type": "display_data"
    }
   ],
   "source": [
    "plt.imshow(collect[3].reshape((48,48)))"
   ]
  },
  {
   "cell_type": "code",
   "execution_count": 118,
   "metadata": {},
   "outputs": [],
   "source": [
    "model.save(\"Autoencoder_patient.h5\")"
   ]
  },
  {
   "cell_type": "code",
   "execution_count": 119,
   "metadata": {},
   "outputs": [
    {
     "name": "stdout",
     "output_type": "stream",
     "text": [
      "Model: \"model_2\"\n",
      "_________________________________________________________________\n",
      " Layer (type)                Output Shape              Param #   \n",
      "=================================================================\n",
      " conv1_input (InputLayer)    [(None, 48, 48, 1)]       0         \n",
      "                                                                 \n",
      " conv1 (Conv2D)              (None, 24, 24, 32)        832       \n",
      "                                                                 \n",
      " conv2 (Conv2D)              (None, 12, 12, 64)        51264     \n",
      "                                                                 \n",
      " conv3 (Conv2D)              (None, 6, 6, 128)         73856     \n",
      "                                                                 \n",
      " flatten_3 (Flatten)         (None, 4608)              0         \n",
      "                                                                 \n",
      " embedding (Dense)           (None, 10)                46090     \n",
      "                                                                 \n",
      "=================================================================\n",
      "Total params: 172,042\n",
      "Trainable params: 172,042\n",
      "Non-trainable params: 0\n",
      "_________________________________________________________________\n"
     ]
    }
   ],
   "source": [
    "embdedded_model = keras.Model(inputs=model.input, outputs=model.get_layer(name=\"embedding\").output)\n",
    "embdedded_model.summary()"
   ]
  },
  {
   "cell_type": "code",
   "execution_count": 120,
   "metadata": {},
   "outputs": [],
   "source": [
    "features = embdedded_model.predict(collect)"
   ]
  },
  {
   "cell_type": "code",
   "execution_count": 121,
   "metadata": {},
   "outputs": [
    {
     "data": {
      "text/plain": [
       "(600, 10)"
      ]
     },
     "execution_count": 121,
     "metadata": {},
     "output_type": "execute_result"
    }
   ],
   "source": [
    "features.shape"
   ]
  },
  {
   "cell_type": "code",
   "execution_count": 122,
   "metadata": {},
   "outputs": [],
   "source": [
    "from sklearn.manifold import TSNE"
   ]
  },
  {
   "cell_type": "code",
   "execution_count": 123,
   "metadata": {},
   "outputs": [],
   "source": [
    "tsne = TSNE(n_components=2)\n",
    "digit_features_tsne = tsne.fit_transform(features)"
   ]
  },
  {
   "cell_type": "code",
   "execution_count": 151,
   "metadata": {},
   "outputs": [],
   "source": [
    "y = sample.label"
   ]
  },
  {
   "cell_type": "code",
   "execution_count": 153,
   "metadata": {},
   "outputs": [
    {
     "data": {
      "text/plain": [
       "<matplotlib.collections.PathCollection at 0x1fd1fc2a5b0>"
      ]
     },
     "execution_count": 153,
     "metadata": {},
     "output_type": "execute_result"
    },
    {
     "data": {
      "image/png": "[encoded data removed]",
      "text/plain": [
       "<Figure size 432x288 with 1 Axes>"
      ]
     },
     "metadata": {
      "needs_background": "light"
     },
     "output_type": "display_data"
    }
   ],
   "source": [
    "plt.scatter(digit_features_tsne[:,0], digit_features_tsne[:,1], c=y)"
   ]
  },
  {
   "cell_type": "code",
   "execution_count": 154,
   "metadata": {},
   "outputs": [],
   "source": [
    "import pandas as pd\n",
    "\n",
    "tsne_df = tsne_df = pd.DataFrame(\n",
    "    np.column_stack((digit_features_tsne, y)),\n",
    "    columns = ['X', 'y', 'targets']\n",
    ")"
   ]
  },
  {
   "cell_type": "code",
   "execution_count": 155,
   "metadata": {},
   "outputs": [
    {
     "name": "stderr",
     "output_type": "stream",
     "text": [
      "c:\\Users\\phili\\techlabs\\ai_venv\\lib\\site-packages\\seaborn\\axisgrid.py:337: UserWarning: The `size` parameter has been renamed to `height`; please update your code.\n",
      "  warnings.warn(msg, UserWarning)\n"
     ]
    },
    {
     "data": {
      "text/plain": [
       "<seaborn.axisgrid.FacetGrid at 0x1fd1bebd1f0>"
      ]
     },
     "execution_count": 155,
     "metadata": {},
     "output_type": "execute_result"
    },
    {
     "data": {
      "image/png": "[encoded data removed]",
      "text/plain": [
       "<Figure size 627.875x576 with 1 Axes>"
      ]
     },
     "metadata": {
      "needs_background": "light"
     },
     "output_type": "display_data"
    }
   ],
   "source": [
    "import seaborn as sns\n",
    "grid = sns.FacetGrid(tsne_df, hue='targets', size=8)\n",
    "grid.map(plt.scatter, 'X', 'y').add_legend()"
   ]
  },
  {
   "cell_type": "markdown",
   "metadata": {},
   "source": [
    "Transfer Learning"
   ]
  },
  {
   "cell_type": "code",
   "execution_count": 16,
   "metadata": {},
   "outputs": [],
   "source": [
    "# for loading/processing the images  \n",
    "from keras.preprocessing.image import load_img \n",
    "from keras.preprocessing.image import img_to_array \n",
    "from keras.applications.vgg16 import preprocess_input \n",
    "import tensorflow as tf\n",
    "# models \n",
    "from keras.applications.vgg16 import VGG16 \n",
    "from keras.models import Model\n",
    "from keras.layers import Concatenate\n",
    "import cv2"
   ]
  },
  {
   "cell_type": "code",
   "execution_count": 17,
   "metadata": {},
   "outputs": [],
   "source": [
    "model = VGG16()\n",
    "model = Model(inputs = model.inputs, outputs = model.layers[-2].output)"
   ]
  },
  {
   "cell_type": "code",
   "execution_count": 19,
   "metadata": {},
   "outputs": [],
   "source": [
    "data = []\n",
    "for i in range(len(sample.pressure)):\n",
    "\n",
    "    img = sample.pressure[i]\n",
    "    img = cv2.resize(img, dsize=(224, 224), interpolation=cv2.INTER_CUBIC)\n",
    "    reshaped_img = img.reshape(224, 224, 1)\n",
    "    img_conc = Concatenate()([reshaped_img, reshaped_img, reshaped_img])\n",
    "    img_conc = tf.reshape(img_conc,(1,224,224,3))\n",
    "    # prepare image for model\n",
    "    imgx = preprocess_input(img_conc)\n",
    "    # get the feature vector\n",
    "    features = model.predict(imgx, use_multiprocessing=True)\n",
    "    data.append(features)\n"
   ]
  },
  {
   "cell_type": "code",
   "execution_count": 70,
   "metadata": {},
   "outputs": [],
   "source": [
    "test = np.array(data)"
   ]
  },
  {
   "cell_type": "code",
   "execution_count": 72,
   "metadata": {},
   "outputs": [],
   "source": [
    "test = test.reshape(-1,len(sample))"
   ]
  },
  {
   "cell_type": "code",
   "execution_count": 61,
   "metadata": {},
   "outputs": [
    {
     "data": {
      "text/plain": [
       "600"
      ]
     },
     "execution_count": 61,
     "metadata": {},
     "output_type": "execute_result"
    }
   ],
   "source": [
    "len(data)"
   ]
  },
  {
   "cell_type": "code",
   "execution_count": 62,
   "metadata": {},
   "outputs": [
    {
     "data": {
      "text/plain": [
       "600"
      ]
     },
     "execution_count": 62,
     "metadata": {},
     "output_type": "execute_result"
    }
   ],
   "source": [
    "len(y)"
   ]
  },
  {
   "cell_type": "code",
   "execution_count": 22,
   "metadata": {},
   "outputs": [],
   "source": [
    "X_train = np.array(data)\n",
    "X = X_train.reshape(-1,len(sample))#We will only be using X for clustering. No need of y."
   ]
  },
  {
   "cell_type": "code",
   "execution_count": 75,
   "metadata": {},
   "outputs": [
    {
     "data": {
      "text/plain": [
       "(4096, 600)"
      ]
     },
     "execution_count": 75,
     "metadata": {},
     "output_type": "execute_result"
    }
   ],
   "source": [
    "test.shape"
   ]
  },
  {
   "cell_type": "code",
   "execution_count": 65,
   "metadata": {},
   "outputs": [
    {
     "data": {
      "text/plain": [
       "array([[0.       , 5.1214557, 0.       , ..., 0.       , 0.       ,\n",
       "        0.       ],\n",
       "       [0.       , 0.       , 0.       , ..., 0.       , 0.       ,\n",
       "        0.       ],\n",
       "       [0.       , 0.       , 3.04699  , ..., 0.       , 5.888844 ,\n",
       "        0.       ],\n",
       "       ...,\n",
       "       [0.       , 0.       , 0.       , ..., 0.       , 0.       ,\n",
       "        0.9012717],\n",
       "       [0.       , 0.       , 0.       , ..., 0.       , 0.       ,\n",
       "        0.       ],\n",
       "       [0.       , 0.       , 2.8837621, ..., 0.       , 1.8030102,\n",
       "        0.       ]], dtype=float32)"
      ]
     },
     "execution_count": 65,
     "metadata": {},
     "output_type": "execute_result"
    }
   ],
   "source": [
    "X"
   ]
  },
  {
   "cell_type": "code",
   "execution_count": 24,
   "metadata": {},
   "outputs": [],
   "source": [
    "from sklearn.manifold import TSNE"
   ]
  },
  {
   "cell_type": "code",
   "execution_count": 73,
   "metadata": {},
   "outputs": [],
   "source": [
    "tsne = TSNE(n_components=2)\n",
    "# digit_features_tsne = tsne.fit_transform(X)\n",
    "digit_features_tsne = tsne.fit_transform(test)"
   ]
  },
  {
   "cell_type": "code",
   "execution_count": 39,
   "metadata": {},
   "outputs": [],
   "source": [
    "from sklearn import preprocessing\n",
    "le = preprocessing.LabelEncoder()"
   ]
  },
  {
   "cell_type": "code",
   "execution_count": 51,
   "metadata": {},
   "outputs": [],
   "source": [
    "sample.label = sample.label.astype(str)\n",
    "sample.label = le.fit_transform(sample.label.values)"
   ]
  },
  {
   "cell_type": "code",
   "execution_count": 57,
   "metadata": {},
   "outputs": [],
   "source": [
    "y = sample.label"
   ]
  },
  {
   "cell_type": "code",
   "execution_count": 58,
   "metadata": {},
   "outputs": [],
   "source": [
    "y = np.array(y)"
   ]
  },
  {
   "cell_type": "code",
   "execution_count": 59,
   "metadata": {},
   "outputs": [
    {
     "data": {
      "text/plain": [
       "600"
      ]
     },
     "execution_count": 59,
     "metadata": {},
     "output_type": "execute_result"
    }
   ],
   "source": [
    "len(y)"
   ]
  },
  {
   "cell_type": "code",
   "execution_count": 54,
   "metadata": {},
   "outputs": [],
   "source": [
    "y = y.reshape(-1,1)"
   ]
  },
  {
   "cell_type": "code",
   "execution_count": 60,
   "metadata": {},
   "outputs": [
    {
     "data": {
      "text/plain": [
       "4096"
      ]
     },
     "execution_count": 60,
     "metadata": {},
     "output_type": "execute_result"
    }
   ],
   "source": [
    "len(X)"
   ]
  },
  {
   "cell_type": "code",
   "execution_count": 74,
   "metadata": {},
   "outputs": [
    {
     "data": {
      "text/plain": [
       "<matplotlib.collections.PathCollection at 0x1fd1a96ff70>"
      ]
     },
     "execution_count": 74,
     "metadata": {},
     "output_type": "execute_result"
    },
    {
     "data": {
      "image/png": "[encoded data removed]",
      "text/plain": [
       "<Figure size 432x288 with 1 Axes>"
      ]
     },
     "metadata": {
      "needs_background": "light"
     },
     "output_type": "display_data"
    }
   ],
   "source": [
    "plt.scatter(digit_features_tsne[:,0], digit_features_tsne[:,1])"
   ]
  },
  {
   "cell_type": "code",
   "execution_count": null,
   "metadata": {},
   "outputs": [],
   "source": []
  }
 ],
 "metadata": {
  "kernelspec": {
   "display_name": "Python 3.9.13 ('ai_venv': venv)",
   "language": "python",
   "name": "python3"
  },
  "language_info": {
   "codemirror_mode": {
    "name": "ipython",
    "version": 3
   },
   "file_extension": ".py",
   "mimetype": "text/x-python",
   "name": "python",
   "nbconvert_exporter": "python",
   "pygments_lexer": "ipython3",
   "version": "3.9.13"
  },
  "orig_nbformat": 4,
  "vscode": {
   "interpreter": {
    "hash": "61b7df5d9071b0efdf0b1f9d321606cf145668ae84e6d141964c63ae20698bd3"
   }
  }
 },
 "nbformat": 4,
 "nbformat_minor": 2
}
